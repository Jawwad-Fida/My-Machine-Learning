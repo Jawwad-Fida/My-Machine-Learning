{
  "nbformat": 4,
  "nbformat_minor": 0,
  "metadata": {
    "colab": {
      "name": "K-Means Clustering.ipynb",
      "provenance": [],
      "collapsed_sections": [],
      "toc_visible": true
    },
    "kernelspec": {
      "name": "python3",
      "display_name": "Python 3"
    },
    "language_info": {
      "name": "python"
    }
  },
  "cells": [
    {
      "cell_type": "markdown",
      "metadata": {
        "id": "9uwOhMoSKnnE"
      },
      "source": [
        "## Importing the libraries"
      ]
    },
    {
      "cell_type": "code",
      "metadata": {
        "id": "F_unl7pl8skA"
      },
      "source": [
        "%matplotlib inline\n",
        "import numpy as np\n",
        "import pandas as pd\n",
        "import matplotlib.pyplot as plt"
      ],
      "execution_count": null,
      "outputs": []
    },
    {
      "cell_type": "markdown",
      "metadata": {
        "id": "zqO8yadTK5Av"
      },
      "source": [
        "## Data Preprocessing"
      ]
    },
    {
      "cell_type": "markdown",
      "metadata": {
        "id": "rFGcXDEpKlac"
      },
      "source": [
        "### Importing the dataset\n",
        "\n",
        "Each row correponds to a customer\n",
        "\n",
        "Feature: spending score (evaluation metric) --> measure how much each customer spends\n",
        "\n",
        "We will identify some patterns within the customer base"
      ]
    },
    {
      "cell_type": "code",
      "metadata": {
        "id": "Bep3ePPY830Z"
      },
      "source": [
        "data = pd.read_csv(\"Mall_Customers.csv\")\n",
        "\n",
        "# Unsupervised learning has only X (features)\n",
        "\n",
        "# feature - customer id is not needed for our model (exclude it)\n",
        "\n",
        "# Note:\n",
        "# To visualize our clusters, we will need 2 features from our dataset (One axis per feature). (2 features --> 2D plot), so\n",
        "# for the time being, we will not consider other features other than 2 chosen.\n",
        "\n",
        "# Features chosen -- Annual Income (index 3), Spending Score (index 4)\n",
        "X = data.iloc[:, [3, 4]].values\n",
        "\n",
        "# Take all rows, of column index 3 and 4"
      ],
      "execution_count": null,
      "outputs": []
    },
    {
      "cell_type": "markdown",
      "metadata": {
        "id": "haHwc3_SUJ6u"
      },
      "source": [
        "Also, since there is no y, we won't be splitting our dataset into Train and Test set\n",
        "\n",
        "X[0] --> Annual Income\n",
        "\n",
        "X[1] --> Spending Score"
      ]
    },
    {
      "cell_type": "markdown",
      "metadata": {
        "id": "22TInzJBURvX"
      },
      "source": [
        "## Using the elbow method to find the optimal number of clusters, K"
      ]
    },
    {
      "cell_type": "code",
      "metadata": {
        "colab": {
          "base_uri": "https://localhost:8080/",
          "height": 404
        },
        "id": "OS00XpjKUQZw",
        "outputId": "00bd85bf-3b52-4472-fc73-852fbb0e4719"
      },
      "source": [
        "# Implement elbow method by running K-Means algorithm several times with different values of K\n",
        "\n",
        "from sklearn.cluster import KMeans\n",
        "wcss = []\n",
        "\n",
        "# loop will run K-Means algorithm with different values of K (from 1 to 10)\n",
        "# we will calculate WCSS for each cluster each time the algorithm runs\n",
        "\n",
        "# Graph ==> y - WCSS for each cluster , x - no. of clusters K\n",
        "\n",
        "for i in range(1,11):\n",
        "  # Create object of KMeans Class (Model)\n",
        "  kmeans = KMeans(n_clusters=i, init = 'k-means++', random_state=42)\n",
        "  # k-means++ --> an initiliazation trick to prevent the model from falling into the Random Initialization trap\n",
        "  # random_state = 42 --> results will be reproducable\n",
        "\n",
        "  # Train the model\n",
        "  kmeans.fit(X)\n",
        "\n",
        "  # calculate WCSS\n",
        "  wcss.append(kmeans.inertia_) # inertia_ is an attribute of KMeans class\n",
        "\n",
        "# Plot the graph of the elbow method\n",
        "plt.figure(figsize=(8, 6))\n",
        "plt.plot(range(1,11),wcss)\n",
        "plt.title(\"The Elbow Method\")\n",
        "plt.xlabel(\"Number of Clusters, K\")\n",
        "plt.ylabel(\"WCSS\")\n",
        "plt.show()"
      ],
      "execution_count": null,
      "outputs": [
        {
          "output_type": "display_data",
          "data": {
            "image/png": "[encoded data removed]",
            "text/plain": [
              "<Figure size 576x432 with 1 Axes>"
            ]
          },
          "metadata": {
            "needs_background": "light"
          }
        }
      ]
    },
    {
      "cell_type": "markdown",
      "metadata": {
        "id": "tk4G_wxle67i"
      },
      "source": [
        "From the graph, we can see that the optimal value of K = 5\n",
        "\n",
        "(Distortion of graph decreases after K=5, i.e. graph slowly becomes flat)"
      ]
    },
    {
      "cell_type": "markdown",
      "metadata": {
        "id": "103nR3FyfL9y"
      },
      "source": [
        "## Training the K-Means model on the dataset"
      ]
    },
    {
      "cell_type": "code",
      "metadata": {
        "id": "tj-zEMxifm5u"
      },
      "source": [
        "K = 5\n",
        "\n",
        "kmeans = KMeans(n_clusters=K, init = 'k-means++', random_state=42)\n",
        "\n",
        "# Build the dependent variable - values are numbers of clusters\n",
        "\n",
        "# 1 -- cluster 1, 2 -- cluster 2, 3 -- cluster 3 .....\n",
        "# each cluster represents a different set(group) of customers\n",
        "# customers will be grouped due to their similar qualities\n",
        "\n",
        "# fit_predict() --> trains model, and also returns y(dependent variable)\n",
        "y_kmeans = kmeans.fit_predict(X) # just like y_pred"
      ],
      "execution_count": null,
      "outputs": []
    },
    {
      "cell_type": "code",
      "metadata": {
        "colab": {
          "base_uri": "https://localhost:8080/"
        },
        "id": "EhmUjF0kf-y9",
        "outputId": "1877733c-4023-4ddd-a15a-9ad3500bb4ab"
      },
      "source": [
        "print(y_kmeans)\n",
        "# all the clusters that each customer belongs to\n",
        "\n",
        "# first customer --> belongs to cluster 3, second customer --> cluster 0, third customer --> cluster 3, ......."
      ],
      "execution_count": null,
      "outputs": [
        {
          "output_type": "stream",
          "name": "stdout",
          "text": [
            "[3 0 3 0 3 0 3 0 3 0 3 0 3 0 3 0 3 0 3 0 3 0 3 0 3 0 3 0 3 0 3 0 3 0 3 0 3\n",
            " 0 3 0 3 0 3 1 3 0 1 1 1 1 1 1 1 1 1 1 1 1 1 1 1 1 1 1 1 1 1 1 1 1 1 1 1 1\n",
            " 1 1 1 1 1 1 1 1 1 1 1 1 1 1 1 1 1 1 1 1 1 1 1 1 1 1 1 1 1 1 1 1 1 1 1 1 1\n",
            " 1 1 1 1 1 1 1 1 1 1 1 1 2 4 2 1 2 4 2 4 2 1 2 4 2 4 2 4 2 4 2 1 2 4 2 4 2\n",
            " 4 2 4 2 4 2 4 2 4 2 4 2 4 2 4 2 4 2 4 2 4 2 4 2 4 2 4 2 4 2 4 2 4 2 4 2 4\n",
            " 2 4 2 4 2 4 2 4 2 4 2 4 2 4 2]\n"
          ]
        }
      ]
    },
    {
      "cell_type": "markdown",
      "metadata": {
        "id": "ie9p_dMjhkix"
      },
      "source": [
        "## Visualising the clusters\n",
        "\n",
        "with their centroids"
      ]
    },
    {
      "cell_type": "code",
      "metadata": {
        "colab": {
          "base_uri": "https://localhost:8080/",
          "height": 404
        },
        "id": "63g8xoBDgdVS",
        "outputId": "f8b11457-2543-426d-cc3a-7b556de2da1c"
      },
      "source": [
        "# Scatter plot each cluster separately\n",
        "plt.figure(figsize=(8, 6))\n",
        "\n",
        "# 1) Plot the Clusters\n",
        "\n",
        "# X --> Annual income, X[0]. y --> Spending Score, X[1]\n",
        "# X[y_kmeans == 0, 0] --> select all customers from Annual Income that belong to Cluster 0\n",
        "# X[y_kmeans == 0, 1] --> select all customers from Spending Score that belong to Cluster 0\n",
        "\n",
        "plt.scatter(X[y_kmeans == 0, 0], X[y_kmeans == 0, 1], s=100, c = 'red', label='Cluster 0') \n",
        "\n",
        "plt.scatter(X[y_kmeans == 1, 0], X[y_kmeans == 1, 1], s=100, c = 'blue', label='Cluster 1') \n",
        "plt.scatter(X[y_kmeans == 2, 0], X[y_kmeans == 2, 1], s=100, c = 'green', label='Cluster 2') \n",
        "plt.scatter(X[y_kmeans == 3, 0], X[y_kmeans == 3, 1], s=100, c = 'cyan', label='Cluster 3') \n",
        "plt.scatter(X[y_kmeans == 4, 0], X[y_kmeans == 4, 1], s=100, c = 'magenta', label='Cluster 4') \n",
        "\n",
        "# 2) Plot the Centroids of each cluster\n",
        "\n",
        "# cluster_centers is an attribute of KMeans class. It is a 2D array where rows=different centroids, column = co-ordinates of centroids\n",
        "\n",
        "# cluster_centers[:, 0] --> take all rows, then first column of X - X[0] (x co-ordinate of centroid)\n",
        "# cluster_centers[:, 1] --> take all rows, then second column of X - X[1] (y co-ordinate of centroid)\n",
        "\n",
        "plt.scatter(kmeans.cluster_centers_[:, 0], kmeans.cluster_centers_[:, 1], s=300, c='yellow', label='Centroids')\n",
        "\n",
        "plt.title(\"Clusters of Customers\")\n",
        "plt.xlabel(\"Annual Income (k$)\")\n",
        "plt.ylabel(\"Spending Score (1-100)\")\n",
        "plt.legend()\n",
        "plt.show()"
      ],
      "execution_count": null,
      "outputs": [
        {
          "output_type": "display_data",
          "data": {
            "image/png": "[encoded data removed]",
            "text/plain": [
              "<Figure size 576x432 with 1 Axes>"
            ]
          },
          "metadata": {
            "needs_background": "light"
          }
        }
      ]
    },
    {
      "cell_type": "markdown",
      "metadata": {
        "id": "YlHGqODWuc-d"
      },
      "source": [
        "## Conclusion"
      ]
    },
    {
      "cell_type": "markdown",
      "metadata": {
        "id": "wtAGT4CJvHqW"
      },
      "source": [
        "Cluster 0 --> customers have low annual income, and high spending score\n",
        "\n",
        "Cluster 4 --> Customers have high annual income, and has low spending score"
      ]
    },
    {
      "cell_type": "markdown",
      "metadata": {
        "id": "FGiSt8DhvMBJ"
      },
      "source": [
        "### Some Marketing/Business Strategies\n",
        "\n",
        "Target customers in cluster 2 because they have high income, and they spend a lot. Thus, more profit can be generated for the business. So we can target them with new deals and offers\n",
        "\n",
        "For new deals and offers, do not target(or pressurize) customers in cluster 0. These customers show loyalty to the business and must be retained.\n",
        "\n",
        "We can target some customers in cluster 4 in order to attract them to the business. \n"
      ]
    }
  ]
}