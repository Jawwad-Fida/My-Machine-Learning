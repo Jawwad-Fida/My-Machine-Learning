{
  "nbformat": 4,
  "nbformat_minor": 0,
  "metadata": {
    "colab": {
      "name": "Code Template 1 - Online 1.ipynb",
      "provenance": [],
      "collapsed_sections": [],
      "toc_visible": true
    },
    "kernelspec": {
      "name": "python3",
      "display_name": "Python 3"
    },
    "language_info": {
      "name": "python"
    }
  },
  "cells": [
    {
      "cell_type": "markdown",
      "metadata": {
        "id": "9Itzzin1aM_6"
      },
      "source": [
        "## 1) Importing the Libraries"
      ]
    },
    {
      "cell_type": "code",
      "metadata": {
        "id": "kGtkuhz1Syvh"
      },
      "source": [
        "%matplotlib inline\n",
        "import matplotlib.pyplot as plt\n",
        "import seaborn as sns\n",
        "import numpy as np\n",
        "import pandas as pd"
      ],
      "execution_count": null,
      "outputs": []
    },
    {
      "cell_type": "markdown",
      "metadata": {
        "id": "3eF_CRvqaQEt"
      },
      "source": [
        "## 2) Data Analysis"
      ]
    },
    {
      "cell_type": "code",
      "metadata": {
        "id": "g3Jl_8GtUsRr"
      },
      "source": [
        "data = pd.read_csv(\"\")"
      ],
      "execution_count": null,
      "outputs": []
    },
    {
      "cell_type": "code",
      "metadata": {
        "id": "2C8-lfVyZysB"
      },
      "source": [
        "print(data.head())\n",
        "print(data.dtypes)\n",
        "print(data.columns)\n",
        "print(data.shape)"
      ],
      "execution_count": null,
      "outputs": []
    },
    {
      "cell_type": "code",
      "metadata": {
        "id": "YPo42Wk1aA3I"
      },
      "source": [
        "# Remove duplicate rows - Avoid Peeking \n",
        "data.drop_duplicates(inplace = True)"
      ],
      "execution_count": null,
      "outputs": []
    },
    {
      "cell_type": "code",
      "metadata": {
        "id": "8dwGcH83aBv2"
      },
      "source": [
        "print(data.shape)"
      ],
      "execution_count": null,
      "outputs": []
    },
    {
      "cell_type": "code",
      "metadata": {
        "id": "i4Wa9wEyaUtW"
      },
      "source": [
        "# Find how many unique() and nunique() there are in each column\n",
        "for col in data.columns:\n",
        "  print(f\"Column: {col} - {data[col].nunique()} unique values\")\n",
        "  print(data[col].unique())\n",
        "  print(\"-----------------\")"
      ],
      "execution_count": null,
      "outputs": []
    },
    {
      "cell_type": "markdown",
      "metadata": {
        "id": "CUjdze4Ig4Bq"
      },
      "source": [
        "### Operation on Pandas Dataframe"
      ]
    },
    {
      "cell_type": "code",
      "metadata": {
        "id": "9NqYZM-naahU"
      },
      "source": [
        "\"\"\"\n",
        "axis=0 -> row(default), axis=1 -> column\n",
        "\n",
        "### Access all rows of a particular column\n",
        "data.Outcome OR data['Outcome']\n",
        "\n",
        "### Using loc[row,col] and iloc[row,col]\n",
        "\n",
        "a) Print single value \n",
        "print(data.loc[2, 'BloodPressure'])\n",
        "print(data.iloc[2, 2])\n",
        "\n",
        "b) Print multiple rows\n",
        "print(data.loc[1:4, 'Glucose'])\n",
        "print(data.iloc[1:5,1]) # Last value is excluded during range in iloc\n",
        "\n",
        "c) Print all rows\n",
        "print(data.loc[:, 'Glucose'])\n",
        "\n",
        "d) Print multiple rows of multiple columns \n",
        "print(data.loc[1:4 ,['Glucose','BloodPressure','SkinThickness']])\n",
        "print(data.iloc[1:5, 1:4]) # Last value is excluded during range in iloc\n",
        "\n",
        "e) Count the occurance of each unique value \n",
        "print(data['Pregnancies'].value_counts())\n",
        "\"\"\""
      ],
      "execution_count": null,
      "outputs": []
    },
    {
      "cell_type": "markdown",
      "metadata": {
        "id": "kXTgAWOvLrcq"
      },
      "source": [
        "## 3) Data Preprocessing "
      ]
    },
    {
      "cell_type": "code",
      "metadata": {
        "id": "js20KXKjpNrz"
      },
      "source": [
        "# Since Data Preprocessing is HUGE with a lot of methods\n",
        "## Better to create another separate Template just for Data Preprocessing"
      ],
      "execution_count": null,
      "outputs": []
    },
    {
      "cell_type": "markdown",
      "metadata": {
        "id": "Eg4Lml_Bm8sA"
      },
      "source": [
        "## 4) Split the dataset into Features and Label "
      ]
    },
    {
      "cell_type": "code",
      "metadata": {
        "id": "zVds9wwDmwFB"
      },
      "source": [
        "# X -> Features, y -> Label\n",
        "# .values -> convert to numpy array\n",
        "\n",
        "X = data.iloc[:, :-1].values # Take all rows of all columns other than last column(Label)\n",
        "y = data.iloc[:, -1].values # Take all rows of Last column(Label)"
      ],
      "execution_count": null,
      "outputs": []
    },
    {
      "cell_type": "code",
      "metadata": {
        "id": "ogFBNOUIn65i"
      },
      "source": [
        "\"\"\"\n",
        "### Other methods to split data into features and label\n",
        "\n",
        "from b-c, in this cases the split remains as a pandas dataframe, \n",
        "u can convert them into numpy arrays later by using np.array()\n",
        "\n",
        "b)\n",
        "X = data.drop(\"Outcome\", axis=1)\n",
        "y = data[\"Outcome\"] # Outcome for e.g. is name of Label column\n",
        "\n",
        "c)\n",
        "ncol = data.shape[1]\n",
        "X = data.iloc[:, 0:ncol-1]\n",
        "y = data[\"Outcome\"]\n",
        "\n",
        "d)\n",
        "X = data.iloc[:, 0:8]\n",
        "y = data[\"Outcome\"]\n",
        "\n",
        "e)\n",
        "X = data.iloc[:, data.columns!=\"Outcome\"]\n",
        "y = data[\"Outcome\"]\n",
        "\"\"\""
      ],
      "execution_count": null,
      "outputs": []
    },
    {
      "cell_type": "markdown",
      "metadata": {
        "id": "KcPvsgb-Lw-3"
      },
      "source": [
        "## 5) Train Test Split of dataset"
      ]
    },
    {
      "cell_type": "code",
      "metadata": {
        "id": "p4m7weDQL2yk"
      },
      "source": [
        "from sklearn.model_selection import train_test_split\n",
        "X_train, X_test, y_train, y_test = train_test_split(X, y, test_size=, random_state=0) \n",
        "# or the opposite train_size"
      ],
      "execution_count": null,
      "outputs": []
    },
    {
      "cell_type": "code",
      "metadata": {
        "id": "gNWXiiZ8dnBd"
      },
      "source": [
        "X_train.shape, y_train.shape, X_test.shape, y_test.shape"
      ],
      "execution_count": null,
      "outputs": []
    },
    {
      "cell_type": "markdown",
      "metadata": {
        "id": "7hRnHz45L4y4"
      },
      "source": [
        "### with Stratification "
      ]
    },
    {
      "cell_type": "code",
      "metadata": {
        "id": "Lx5gkNu-L4Tu"
      },
      "source": [
        "from sklearn.model_selection import train_test_split\n",
        "S_X_train, S_X_test, S_y_train, S_y_test = train_test_split(X, y, test_size=, random_state=0, stratify=y) \n",
        "# or the opposite train_size"
      ],
      "execution_count": null,
      "outputs": []
    },
    {
      "cell_type": "code",
      "metadata": {
        "id": "_dvwMxagdpW7"
      },
      "source": [
        "S_X_train.shape, S_y_train.shape, S_X_test.shape, S_y_test.shape"
      ],
      "execution_count": null,
      "outputs": []
    },
    {
      "cell_type": "markdown",
      "metadata": {
        "id": "KrlgLFdlLnpj"
      },
      "source": [
        "## 6) Feature Scaling"
      ]
    },
    {
      "cell_type": "code",
      "metadata": {
        "id": "tS06woHpqCAg"
      },
      "source": [
        "\"\"\"\n",
        "### Algorithms that Require Feature Scaling:\n",
        "1)Logistic Regression --> scaling required (Gradient Descent Based Algorithm)\n",
        "2)SVM  ---> scaling required (Distance based algorithm)\n",
        "\n",
        "### Algorithms that DO NOT Require Feature Scaling\n",
        "1)Decision Tree  --> no scaling required (Tree based algorithm)\n",
        "2)Naive Bayes ---> no scaling required (due to its assumption of independent features)\n",
        "3)Random Forest  --> no scaling required (Ensemble method)\n",
        "\"\"\""
      ],
      "execution_count": null,
      "outputs": []
    },
    {
      "cell_type": "markdown",
      "metadata": {
        "id": "NuK2ku07MCKH"
      },
      "source": [
        "### Standardization "
      ]
    },
    {
      "cell_type": "code",
      "metadata": {
        "id": "iyedKHQpogYp"
      },
      "source": [
        "from sklearn.preprocessing import StandardScaler\n",
        "sc = StandardScaler()\n",
        "\n",
        "X_train = sc.fit_transform(X_train)\n",
        "X_test = sc.transform(X_test)"
      ],
      "execution_count": null,
      "outputs": []
    },
    {
      "cell_type": "code",
      "metadata": {
        "id": "k4hGiHbOoKhc"
      },
      "source": [
        "print(X_train)\n",
        "print(X_test)"
      ],
      "execution_count": null,
      "outputs": []
    },
    {
      "cell_type": "markdown",
      "metadata": {
        "id": "MhmjvBTOoeh1"
      },
      "source": [
        "### Mean Normalization - MinMaxScaler"
      ]
    },
    {
      "cell_type": "code",
      "metadata": {
        "id": "-eFLFfOOoKkJ"
      },
      "source": [
        "from sklearn.preprocessing import MinMaxScaler\n",
        "ms = MinMaxScaler()\n",
        "\n",
        "S_X_train = ms.fit_transform(S_X_train)\n",
        "S_X_test = ms.transform(S_X_test)"
      ],
      "execution_count": null,
      "outputs": []
    },
    {
      "cell_type": "code",
      "metadata": {
        "id": "_HnXJo5LoKnO"
      },
      "source": [
        "print(S_X_train)\n",
        "print(S_X_test)"
      ],
      "execution_count": null,
      "outputs": []
    },
    {
      "cell_type": "markdown",
      "metadata": {
        "id": "-PrviR2lpZWF"
      },
      "source": [
        "## 7) Train Model "
      ]
    },
    {
      "cell_type": "markdown",
      "metadata": {
        "id": "Qtf90dhNqe-2"
      },
      "source": [
        "### Logistic Regression"
      ]
    },
    {
      "cell_type": "code",
      "metadata": {
        "id": "tI7nasuNoKpv"
      },
      "source": [
        "from sklearn.linear_model import LogisticRegression \n",
        "\n",
        "classifier = LogisticRegression() \n",
        "classifier.fit(X_train,y_train) "
      ],
      "execution_count": null,
      "outputs": []
    },
    {
      "cell_type": "markdown",
      "metadata": {
        "id": "zkVLfGmKqi9F"
      },
      "source": [
        "### SVM - (SVC)"
      ]
    },
    {
      "cell_type": "code",
      "metadata": {
        "id": "lLKkZEPQoKsg"
      },
      "source": [
        "from sklearn.svm import SVC\n",
        "\n",
        "classifier = SVC(kernel='rbf', random_state=0) # kernel=rbf --> Gaussian Kernel\n",
        "classifier.fit(X_train, y_train)"
      ],
      "execution_count": null,
      "outputs": []
    },
    {
      "cell_type": "markdown",
      "metadata": {
        "id": "FknFk_9tqlvH"
      },
      "source": [
        "###  Naive Bayes"
      ]
    },
    {
      "cell_type": "code",
      "metadata": {
        "id": "PNjgwOCpoKvj"
      },
      "source": [
        "from sklearn.naive_bayes import GaussianNB\n",
        "\n",
        "classifier = GaussianNB()\n",
        "classifier.fit(X_train, y_train)"
      ],
      "execution_count": null,
      "outputs": []
    },
    {
      "cell_type": "markdown",
      "metadata": {
        "id": "uTgqYGvSqpXr"
      },
      "source": [
        "### Decision Tree"
      ]
    },
    {
      "cell_type": "code",
      "metadata": {
        "id": "OPHFq3dxqk5u"
      },
      "source": [
        "from sklearn.tree import DecisionTreeClassifier\n",
        "\n",
        "classifier = DecisionTreeClassifier(criterion = 'entropy', random_state = 0)\n",
        "classifier.fit(X_train, y_train)"
      ],
      "execution_count": null,
      "outputs": []
    },
    {
      "cell_type": "markdown",
      "metadata": {
        "id": "j5ddlLjZqsOd"
      },
      "source": [
        "### Random Forest Classifier"
      ]
    },
    {
      "cell_type": "code",
      "metadata": {
        "id": "e-JzmAbxqk7_"
      },
      "source": [
        "from sklearn.ensemble import RandomForestClassifier\n",
        "\n",
        "classifier = RandomForestClassifier(criterion = 'entropy', random_state = 0)\n",
        "classifier.fit(X_train, y_train)"
      ],
      "execution_count": null,
      "outputs": []
    },
    {
      "cell_type": "markdown",
      "metadata": {
        "id": "3KZ1HJheqx3A"
      },
      "source": [
        "## 8) Test and Evaluate Model"
      ]
    },
    {
      "cell_type": "code",
      "metadata": {
        "id": "fWoJPe4hqk-M"
      },
      "source": [
        "# Make Predictions\n",
        "y_pred = classifier.predict(X_test)"
      ],
      "execution_count": null,
      "outputs": []
    },
    {
      "cell_type": "markdown",
      "metadata": {
        "id": "op-FUUd0xG9O"
      },
      "source": [
        "### Confusion Matrix"
      ]
    },
    {
      "cell_type": "code",
      "metadata": {
        "id": "N7cx5nJKoKy-"
      },
      "source": [
        "# Function to plot confusion matrix using Seaborn's heatmap()\n",
        "\n",
        "def plot_confusion_matrix(confuse_matrix):\n",
        "  fig,ax = plt.subplots(figsize=(8,6))\n",
        "\n",
        "  # Set the font scale\n",
        "  sns.set(font_scale=1.5)\n",
        "\n",
        "  ax = sns.heatmap(\n",
        "      confuse_matrix,\n",
        "      annot=True, # Annote the boxes\n",
        "      cbar=False\n",
        "  )\n",
        "\n",
        "  plt.ylabel(\"True label\")\n",
        "  plt.xlabel(\"Predicted label\")"
      ],
      "execution_count": null,
      "outputs": []
    },
    {
      "cell_type": "code",
      "metadata": {
        "id": "kN9bU2GcxMm0"
      },
      "source": [
        "from sklearn.metrics import confusion_matrix\n",
        "\n",
        "confuse_matrix = confusion_matrix(y_test,y_pred) # compare actual labels (test) with predicted labels\n",
        "print(confuse_matrix)"
      ],
      "execution_count": null,
      "outputs": []
    },
    {
      "cell_type": "code",
      "metadata": {
        "id": "mW-uFyYkxOiJ"
      },
      "source": [
        "plot_confusion_matrix(confuse_matrix)"
      ],
      "execution_count": null,
      "outputs": []
    },
    {
      "cell_type": "markdown",
      "metadata": {
        "id": "eFJA9PMZxTmX"
      },
      "source": [
        "### Classification Metrics"
      ]
    },
    {
      "cell_type": "code",
      "metadata": {
        "id": "cVjzMQtPxTDW"
      },
      "source": [
        "from sklearn.metrics import accuracy_score, precision_score, recall_score, f1_score\n",
        "\n",
        "def evaluate_preds(y_test,y_pred):\n",
        "    accuracy = accuracy_score(y_test,y_pred)\n",
        "    precision = precision_score(y_test,y_pred)\n",
        "    recall = recall_score(y_test,y_pred) \n",
        "    f1 = f1_score(y_test,y_pred)\n",
        "\n",
        "    metric_dict = {\n",
        "        \"accuracy\":round(accuracy,2),\n",
        "        \"precision\":round(precision,2),\n",
        "        \"recall\":round(recall,2),\n",
        "        \"f1\":round(f1,2)\n",
        "    } # A dictionary that stores the results of the evaluation metrics\n",
        "    \n",
        "    print(f\"Acc: {accuracy * 100:.2f}%\")\n",
        "    print(f\"Precision: {precision:.2f}\")\n",
        "    print(f\"Recall: {recall:.2f}\")\n",
        "    print(f\"F1 score: {f1:.2f}\")\n",
        "    \n",
        "    return metric_dict"
      ],
      "execution_count": null,
      "outputs": []
    },
    {
      "cell_type": "code",
      "metadata": {
        "id": "44oxGw4BxTFo"
      },
      "source": [
        "model_metrics = evaluate_preds(y_test, y_pred)"
      ],
      "execution_count": null,
      "outputs": []
    },
    {
      "cell_type": "code",
      "metadata": {
        "id": "ykiXgTuxxnZu"
      },
      "source": [
        "\"\"\"\n",
        "acc = accuracy_score(y_test, y_pred)\n",
        "precision = precision_score(y_test, y_pred)\n",
        "recall = recall_score(y_test, y_pred)\n",
        "f1 = f1_score(y_test, y_pred)\n",
        "\n",
        "print(acc, precision, recall, f1)\n",
        "\"\"\""
      ],
      "execution_count": null,
      "outputs": []
    }
  ]
}