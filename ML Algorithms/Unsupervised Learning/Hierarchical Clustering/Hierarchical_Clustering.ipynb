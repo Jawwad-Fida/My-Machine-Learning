{
  "nbformat": 4,
  "nbformat_minor": 0,
  "metadata": {
    "colab": {
      "name": "Hierarchical Clustering.ipynb",
      "provenance": [],
      "collapsed_sections": [],
      "toc_visible": true
    },
    "kernelspec": {
      "name": "python3",
      "display_name": "Python 3"
    },
    "language_info": {
      "name": "python"
    }
  },
  "cells": [
    {
      "cell_type": "markdown",
      "metadata": {
        "id": "ZTlD4poeZcuu"
      },
      "source": [
        "## Importing the libraries"
      ]
    },
    {
      "cell_type": "code",
      "metadata": {
        "id": "qI_1_YgzY-qr"
      },
      "source": [
        "import numpy as np\n",
        "import matplotlib.pyplot as plt\n",
        "import pandas as pd"
      ],
      "execution_count": null,
      "outputs": []
    },
    {
      "cell_type": "markdown",
      "metadata": {
        "id": "qpxIr8k6Zy2V"
      },
      "source": [
        "## Data Preprocessing"
      ]
    },
    {
      "cell_type": "markdown",
      "metadata": {
        "id": "cHuUgJ49ZzQx"
      },
      "source": [
        "### Importing the dataset\n",
        "\n",
        "Each row correponds to a customer\n",
        "\n",
        "Feature: spending score (evaluation metric) --> measure how much each customer spends\n",
        "\n",
        "We will identify some patterns within the customer base"
      ]
    },
    {
      "cell_type": "code",
      "metadata": {
        "id": "6_CMDqj8ZnEQ"
      },
      "source": [
        "data = pd.read_csv(\"Mall_Customers.csv\")\n",
        "\n",
        "# Unsupervised learning has only X (features)\n",
        "\n",
        "# feature - customer id is not needed for our model (exclude it)\n",
        "\n",
        "# Note:\n",
        "# To visualize our clusters, we will need 2 features from our dataset (One axis per feature). (2 features --> 2D plot), so\n",
        "# for the time being, we will not consider other features other than 2 chosen.\n",
        "\n",
        "# Features chosen -- Annual Income (index 3), Spending Score (index 4)\n",
        "X = data.iloc[:, [3, 4]].values\n",
        "\n",
        "# Take all rows, of column index 3 and 4"
      ],
      "execution_count": null,
      "outputs": []
    },
    {
      "cell_type": "markdown",
      "metadata": {
        "id": "XeFP9szsbexY"
      },
      "source": [
        "Also, since there is no y, we won't be splitting our dataset into Train and Test set\n",
        "\n",
        "X[0] --> Annual Income\n",
        "\n",
        "X[1] --> Spending Score"
      ]
    },
    {
      "cell_type": "markdown",
      "metadata": {
        "id": "--IL4G6wbhTx"
      },
      "source": [
        "## Using the dendrogram to find the optimal number of clusters"
      ]
    },
    {
      "cell_type": "code",
      "metadata": {
        "id": "GatuBBglbdck",
        "colab": {
          "base_uri": "https://localhost:8080/",
          "height": 404
        },
        "outputId": "551590a9-8e75-4b2c-ce47-4e8719c558c8"
      },
      "source": [
        "# Dendogram plot is within scipy library\n",
        "import scipy.cluster.hierarchy as sch\n",
        "plt.figure(figsize=(8, 6))\n",
        "# create a dendogram\n",
        "\n",
        "dendrogram = sch.dendrogram(sch.linkage(X, method='ward')) # in HC --> recommended method that brings clusters - minimum variance\n",
        "# method='ward' ---> minimizes variance in each cluster\n",
        "\n",
        "# Plot the dendrogram - Visualization\n",
        "plt.title('Dendrogram')\n",
        "plt.xlabel('Customers') # each row - observation points\n",
        "plt.ylabel('Euclidean distances')\n",
        "plt.show()"
      ],
      "execution_count": null,
      "outputs": [
        {
          "output_type": "display_data",
          "data": {
            "image/png": "[encoded data removed]",
            "text/plain": [
              "<Figure size 576x432 with 1 Axes>"
            ]
          },
          "metadata": {
            "needs_background": "light"
          }
        }
      ]
    },
    {
      "cell_type": "markdown",
      "metadata": {
        "id": "OR2EhenFK5fA"
      },
      "source": [
        "## Training the Hierarchical Clustering model on the dataset"
      ]
    },
    {
      "cell_type": "code",
      "metadata": {
        "id": "dBWtWlwlKIVf"
      },
      "source": [
        "# from the dendogram, optimal no. of clusters = 5\n",
        "K = 5\n",
        "\n",
        "from sklearn.cluster import AgglomerativeClustering\n",
        "\n",
        "# Create the model\n",
        "hc = AgglomerativeClustering(n_clusters=K, affinity='euclidean', linkage='ward')\n",
        "# affinity --> type of distance to be computed to measure variance between the clusters\n",
        "# ward --> minimum variance method \n",
        "\n",
        "# fit_predict() --> trains model, and also returns y(dependent variable)\n",
        "y_hc = hc.fit_predict(X) # just like y_pred"
      ],
      "execution_count": null,
      "outputs": []
    },
    {
      "cell_type": "markdown",
      "metadata": {
        "id": "4MQC61dwegAt"
      },
      "source": [
        "The ward method - minimizes the sum of squared differences within all clusters. It is a variance-minimizing approach and in this\n",
        "sense is similar to the k-means objective function but tackled with an agglomerative hierarchical approach.\n",
        "\n",
        "'affinity' refers to the distance used in the K-Means algorithm, which is the Euclidean distance. It refers to how the HC algorithm defines (finds) the closest centroids to\n",
        "each point. "
      ]
    },
    {
      "cell_type": "code",
      "metadata": {
        "colab": {
          "base_uri": "https://localhost:8080/"
        },
        "id": "qWMsUTktRnU2",
        "outputId": "08682a7a-dcc1-40ea-a9f8-bf3ccc26eccc"
      },
      "source": [
        "print(y_hc)\n",
        "# all the clusters that each customer belongs to\n",
        "\n",
        "# first customer --> belongs to cluster 4, second customer --> cluster 3, third customer --> cluster 4, ......."
      ],
      "execution_count": null,
      "outputs": [
        {
          "output_type": "stream",
          "name": "stdout",
          "text": [
            "[4 3 4 3 4 3 4 3 4 3 4 3 4 3 4 3 4 3 4 3 4 3 4 3 4 3 4 3 4 3 4 3 4 3 4 3 4\n",
            " 3 4 3 4 3 4 1 4 1 1 1 1 1 1 1 1 1 1 1 1 1 1 1 1 1 1 1 1 1 1 1 1 1 1 1 1 1\n",
            " 1 1 1 1 1 1 1 1 1 1 1 1 1 1 1 1 1 1 1 1 1 1 1 1 1 1 1 1 1 1 1 1 1 1 1 1 1\n",
            " 1 1 1 1 1 1 1 1 1 1 1 1 2 1 2 1 2 0 2 0 2 1 2 0 2 0 2 0 2 0 2 1 2 0 2 1 2\n",
            " 0 2 0 2 0 2 0 2 0 2 0 2 1 2 0 2 0 2 0 2 0 2 0 2 0 2 0 2 0 2 0 2 0 2 0 2 0\n",
            " 2 0 2 0 2 0 2 0 2 0 2 0 2 0 2]\n"
          ]
        }
      ]
    },
    {
      "cell_type": "markdown",
      "metadata": {
        "id": "S_ZsvcbTQHsD"
      },
      "source": [
        "## Visualising the clusters"
      ]
    },
    {
      "cell_type": "code",
      "metadata": {
        "colab": {
          "base_uri": "https://localhost:8080/",
          "height": 404
        },
        "id": "AearhuDAQId_",
        "outputId": "e95f8a8d-d50b-4dd8-f7ab-7eda61207074"
      },
      "source": [
        "# Scatter plot each cluster separately\n",
        "plt.figure(figsize=(8, 6))\n",
        "\n",
        "# Plot the Clusters\n",
        "\n",
        "# X --> Annual income, X[0]. y --> Spending Score, X[1]\n",
        "# X[y_hc == 0, 0] --> select all customers from Annual Income that belong to Cluster 0\n",
        "# X[y_hc == 0, 1] --> select all customers from Spending Score that belong to Cluster 0\n",
        "\n",
        "plt.scatter(X[y_hc == 0, 0], X[y_hc == 0, 1], s=100, c = 'red', label='Cluster 0') \n",
        "\n",
        "plt.scatter(X[y_hc == 1, 0], X[y_hc == 1, 1], s=100, c = 'blue', label='Cluster 1') \n",
        "plt.scatter(X[y_hc == 2, 0], X[y_hc == 2, 1], s=100, c = 'green', label='Cluster 2') \n",
        "plt.scatter(X[y_hc == 3, 0], X[y_hc == 3, 1], s=100, c = 'cyan', label='Cluster 3') \n",
        "plt.scatter(X[y_hc == 4, 0], X[y_hc == 4, 1], s=100, c = 'magenta', label='Cluster 4') \n",
        "\n",
        "\n",
        "plt.title(\"Clusters of Customers\")\n",
        "plt.xlabel(\"Annual Income (k$)\")\n",
        "plt.ylabel(\"Spending Score (1-100)\")\n",
        "plt.legend()\n",
        "plt.show()"
      ],
      "execution_count": null,
      "outputs": [
        {
          "output_type": "display_data",
          "data": {
            "image/png": "[encoded data removed]",
            "text/plain": [
              "<Figure size 576x432 with 1 Axes>"
            ]
          },
          "metadata": {
            "needs_background": "light"
          }
        }
      ]
    },
    {
      "cell_type": "markdown",
      "metadata": {
        "id": "Vy3vAFjwShZq"
      },
      "source": [
        "## Conclusion"
      ]
    },
    {
      "cell_type": "markdown",
      "metadata": {
        "id": "0-3BFmCaSoQD"
      },
      "source": [
        "Cluster 0 --> customers have high annual income, and low spending score\n",
        "\n",
        "Cluster 4 --> Customers have low annual income, and has low spending score"
      ]
    },
    {
      "cell_type": "markdown",
      "metadata": {
        "id": "IOT2TC3zSocJ"
      },
      "source": [
        "Some Marketing/Business Strategies\n",
        "Target customers in cluster 2 because they have high income, and they spend a lot. Thus, more profit can be generated for the business. So we can target them with new deals and offers\n",
        "\n",
        "For new deals and offers, do not target(or pressurize) customers in cluster 3. These customers show loyalty to the business and must be retained.\n",
        "\n",
        "We can target some customers in cluster 0 in order to attract them to the business."
      ]
    }
  ]
}