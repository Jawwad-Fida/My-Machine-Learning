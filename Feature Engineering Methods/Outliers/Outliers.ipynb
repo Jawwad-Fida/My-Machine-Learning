{
 "cells": [
  {
   "cell_type": "code",
   "execution_count": 3,
   "id": "13e53fd0",
   "metadata": {},
   "outputs": [],
   "source": [
    "%matplotlib inline\n",
    "import matplotlib.pyplot as plt\n",
    "import numpy as np\n",
    "import pandas as pd\n",
    "import seaborn as sns"
   ]
  },
  {
   "cell_type": "markdown",
   "id": "f9422816",
   "metadata": {},
   "source": [
    "## Discussion Related With Outliers And Impact On Machine Learning!!"
   ]
  },
  {
   "cell_type": "markdown",
   "id": "a4f3a47a",
   "metadata": {},
   "source": [
    "#### Which Machine LEarning Models Are Sensitive To Outliers?\n",
    "\n",
    "1.  Naivye Bayes Classifier -------- Not Sensitive To Outliers\n",
    "2.  SVM -------- Not Sensitive To Outliers\n",
    "3.  Linear Regression ---------- Sensitive To Outliers\n",
    "4.  Logistic Regression ------- Sensitive To Outliers\n",
    "5.  Decision Tree Regressor or Classifier ---- Not Sensitive\n",
    "6.  Ensemble(RF,XGboost,GB) ------- Not Sensitive\n",
    "7.  KNN --------------------------- Not Sensitive\n",
    "8.  Kmeans ------------------------ Sensitive\n",
    "9.  Hierarichal ------------------- Sensitive\n",
    "10. PCA -------------------------- Sensitive\n",
    "11. Neural Networks -------------- Sensitive"
   ]
  },
  {
   "cell_type": "code",
   "execution_count": 4,
   "id": "7b124054",
   "metadata": {},
   "outputs": [
    {
     "data": {
      "text/html": [
       "<div>\n",
       "<style scoped>\n",
       "    .dataframe tbody tr th:only-of-type {\n",
       "        vertical-align: middle;\n",
       "    }\n",
       "\n",
       "    .dataframe tbody tr th {\n",
       "        vertical-align: top;\n",
       "    }\n",
       "\n",
       "    .dataframe thead th {\n",
       "        text-align: right;\n",
       "    }\n",
       "</style>\n",
       "<table border=\"1\" class=\"dataframe\">\n",
       "  <thead>\n",
       "    <tr style=\"text-align: right;\">\n",
       "      <th></th>\n",
       "      <th>PassengerId</th>\n",
       "      <th>Survived</th>\n",
       "      <th>Pclass</th>\n",
       "      <th>Name</th>\n",
       "      <th>Sex</th>\n",
       "      <th>Age</th>\n",
       "      <th>SibSp</th>\n",
       "      <th>Parch</th>\n",
       "      <th>Ticket</th>\n",
       "      <th>Fare</th>\n",
       "      <th>Cabin</th>\n",
       "      <th>Embarked</th>\n",
       "    </tr>\n",
       "  </thead>\n",
       "  <tbody>\n",
       "    <tr>\n",
       "      <th>0</th>\n",
       "      <td>1</td>\n",
       "      <td>0</td>\n",
       "      <td>3</td>\n",
       "      <td>Braund, Mr. Owen Harris</td>\n",
       "      <td>male</td>\n",
       "      <td>22.0</td>\n",
       "      <td>1</td>\n",
       "      <td>0</td>\n",
       "      <td>A/5 21171</td>\n",
       "      <td>7.2500</td>\n",
       "      <td>NaN</td>\n",
       "      <td>S</td>\n",
       "    </tr>\n",
       "    <tr>\n",
       "      <th>1</th>\n",
       "      <td>2</td>\n",
       "      <td>1</td>\n",
       "      <td>1</td>\n",
       "      <td>Cumings, Mrs. John Bradley (Florence Briggs Th...</td>\n",
       "      <td>female</td>\n",
       "      <td>38.0</td>\n",
       "      <td>1</td>\n",
       "      <td>0</td>\n",
       "      <td>PC 17599</td>\n",
       "      <td>71.2833</td>\n",
       "      <td>C85</td>\n",
       "      <td>C</td>\n",
       "    </tr>\n",
       "    <tr>\n",
       "      <th>2</th>\n",
       "      <td>3</td>\n",
       "      <td>1</td>\n",
       "      <td>3</td>\n",
       "      <td>Heikkinen, Miss. Laina</td>\n",
       "      <td>female</td>\n",
       "      <td>26.0</td>\n",
       "      <td>0</td>\n",
       "      <td>0</td>\n",
       "      <td>STON/O2. 3101282</td>\n",
       "      <td>7.9250</td>\n",
       "      <td>NaN</td>\n",
       "      <td>S</td>\n",
       "    </tr>\n",
       "    <tr>\n",
       "      <th>3</th>\n",
       "      <td>4</td>\n",
       "      <td>1</td>\n",
       "      <td>1</td>\n",
       "      <td>Futrelle, Mrs. Jacques Heath (Lily May Peel)</td>\n",
       "      <td>female</td>\n",
       "      <td>35.0</td>\n",
       "      <td>1</td>\n",
       "      <td>0</td>\n",
       "      <td>113803</td>\n",
       "      <td>53.1000</td>\n",
       "      <td>C123</td>\n",
       "      <td>S</td>\n",
       "    </tr>\n",
       "    <tr>\n",
       "      <th>4</th>\n",
       "      <td>5</td>\n",
       "      <td>0</td>\n",
       "      <td>3</td>\n",
       "      <td>Allen, Mr. William Henry</td>\n",
       "      <td>male</td>\n",
       "      <td>35.0</td>\n",
       "      <td>0</td>\n",
       "      <td>0</td>\n",
       "      <td>373450</td>\n",
       "      <td>8.0500</td>\n",
       "      <td>NaN</td>\n",
       "      <td>S</td>\n",
       "    </tr>\n",
       "  </tbody>\n",
       "</table>\n",
       "</div>"
      ],
      "text/plain": [
       "   PassengerId  Survived  Pclass  \\\n",
       "0            1         0       3   \n",
       "1            2         1       1   \n",
       "2            3         1       3   \n",
       "3            4         1       1   \n",
       "4            5         0       3   \n",
       "\n",
       "                                                Name     Sex   Age  SibSp  \\\n",
       "0                            Braund, Mr. Owen Harris    male  22.0      1   \n",
       "1  Cumings, Mrs. John Bradley (Florence Briggs Th...  female  38.0      1   \n",
       "2                             Heikkinen, Miss. Laina  female  26.0      0   \n",
       "3       Futrelle, Mrs. Jacques Heath (Lily May Peel)  female  35.0      1   \n",
       "4                           Allen, Mr. William Henry    male  35.0      0   \n",
       "\n",
       "   Parch            Ticket     Fare Cabin Embarked  \n",
       "0      0         A/5 21171   7.2500   NaN        S  \n",
       "1      0          PC 17599  71.2833   C85        C  \n",
       "2      0  STON/O2. 3101282   7.9250   NaN        S  \n",
       "3      0            113803  53.1000  C123        S  \n",
       "4      0            373450   8.0500   NaN        S  "
      ]
     },
     "execution_count": 4,
     "metadata": {},
     "output_type": "execute_result"
    }
   ],
   "source": [
    "df = pd.read_csv(\"data/titanic.csv\")\n",
    "df.head()"
   ]
  },
  {
   "cell_type": "code",
   "execution_count": 5,
   "id": "c120c9bc",
   "metadata": {},
   "outputs": [
    {
     "data": {
      "text/plain": [
       "PassengerId      0\n",
       "Survived         0\n",
       "Pclass           0\n",
       "Name             0\n",
       "Sex              0\n",
       "Age            177\n",
       "SibSp            0\n",
       "Parch            0\n",
       "Ticket           0\n",
       "Fare             0\n",
       "Cabin          687\n",
       "Embarked         2\n",
       "dtype: int64"
      ]
     },
     "execution_count": 5,
     "metadata": {},
     "output_type": "execute_result"
    }
   ],
   "source": [
    "df.isnull().sum()"
   ]
  },
  {
   "cell_type": "code",
   "execution_count": 7,
   "id": "2b247136",
   "metadata": {},
   "outputs": [
    {
     "data": {
      "text/plain": [
       "<seaborn.axisgrid.FacetGrid at 0x1c6c9e44250>"
      ]
     },
     "execution_count": 7,
     "metadata": {},
     "output_type": "execute_result"
    },
    {
     "data": {
      "image/png": "[encoded data removed]",
      "text/plain": [
       "<Figure size 360x360 with 1 Axes>"
      ]
     },
     "metadata": {
      "needs_background": "light"
     },
     "output_type": "display_data"
    }
   ],
   "source": [
    "# Check type of distribution and outliers during dropna()\n",
    "\n",
    "sns.displot(df['Age'].dropna())\n",
    "\n",
    "# it is a normal distribution "
   ]
  },
  {
   "cell_type": "code",
   "execution_count": 8,
   "id": "4484942b",
   "metadata": {},
   "outputs": [
    {
     "data": {
      "text/plain": [
       "<seaborn.axisgrid.FacetGrid at 0x1c6c9e824f0>"
      ]
     },
     "execution_count": 8,
     "metadata": {},
     "output_type": "execute_result"
    },
    {
     "data": {
      "image/png": "[encoded data removed]",
      "text/plain": [
       "<Figure size 360x360 with 1 Axes>"
      ]
     },
     "metadata": {
      "needs_background": "light"
     },
     "output_type": "display_data"
    }
   ],
   "source": [
    "# Check type of distribution and outliers during fillna() \n",
    "\n",
    "sns.displot(df['Age'].fillna(100))"
   ]
  },
  {
   "cell_type": "code",
   "execution_count": 10,
   "id": "d10c27e4",
   "metadata": {},
   "outputs": [
    {
     "data": {
      "text/plain": [
       "Text(0, 0.5, 'No of passenger')"
      ]
     },
     "execution_count": 10,
     "metadata": {},
     "output_type": "execute_result"
    },
    {
     "data": {
      "image/png": "[encoded data removed]",
      "text/plain": [
       "<Figure size 432x288 with 1 Axes>"
      ]
     },
     "metadata": {
      "needs_background": "light"
     },
     "output_type": "display_data"
    }
   ],
   "source": [
    "# Check if there are outliers without affecting NaN values (no dropna() or fillna())\n",
    "figure=df.Age.hist(bins=50)\n",
    "figure.set_title('Age')\n",
    "figure.set_xlabel('Age')\n",
    "figure.set_ylabel('No of passenger')\n",
    "\n",
    "# distribution is normal/guassian distribution"
   ]
  },
  {
   "cell_type": "code",
   "execution_count": 12,
   "id": "ba70cbb2",
   "metadata": {},
   "outputs": [
    {
     "data": {
      "image/png": "[encoded data removed]",
      "text/plain": [
       "<Figure size 432x288 with 1 Axes>"
      ]
     },
     "metadata": {
      "needs_background": "light"
     },
     "output_type": "display_data"
    }
   ],
   "source": [
    "# Identify the Outliers \n",
    "\n",
    "figure = df.boxplot(column=\"Age\")\n",
    "\n",
    "# The points in the box plot (from 65 to 80) --> outliers"
   ]
  },
  {
   "cell_type": "code",
   "execution_count": 13,
   "id": "9aedaeb8",
   "metadata": {},
   "outputs": [
    {
     "data": {
      "text/plain": [
       "count    714.000000\n",
       "mean      29.699118\n",
       "std       14.526497\n",
       "min        0.420000\n",
       "25%       20.125000\n",
       "50%       28.000000\n",
       "75%       38.000000\n",
       "max       80.000000\n",
       "Name: Age, dtype: float64"
      ]
     },
     "execution_count": 13,
     "metadata": {},
     "output_type": "execute_result"
    }
   ],
   "source": [
    "df['Age'].describe()"
   ]
  },
  {
   "cell_type": "markdown",
   "id": "d8abd9df",
   "metadata": {},
   "source": [
    "## 1) Technique: If The Data Is Normally/Gaussian Distributed, We use this"
   ]
  },
  {
   "cell_type": "markdown",
   "id": "9ed4248c",
   "metadata": {},
   "source": [
    "Assuming Age follows A Gaussian Distribution we will **calculate the boundaries which differentiates the outliers**"
   ]
  },
  {
   "cell_type": "code",
   "execution_count": 16,
   "id": "7bc969d7",
   "metadata": {},
   "outputs": [
    {
     "name": "stdout",
     "output_type": "stream",
     "text": [
      "-13.880374349943303\n",
      "73.27860964406094\n",
      "29.69911764705882\n"
     ]
    },
    {
     "data": {
      "text/plain": [
       "(None, None, None)"
      ]
     },
     "execution_count": 16,
     "metadata": {},
     "output_type": "execute_result"
    }
   ],
   "source": [
    "upper_boundary = df['Age'].mean() + 3 * df['Age'].std() # 3rd standard deviation\n",
    "lower_boundary = df['Age'].mean() - 3 * df['Age'].std()\n",
    "print(lower_boundary), print(upper_boundary), print(df['Age'].mean())\n",
    "\n",
    "# in Age, -ve value will not be there"
   ]
  },
  {
   "cell_type": "code",
   "execution_count": 19,
   "id": "7b4c63c0",
   "metadata": {},
   "outputs": [
    {
     "data": {
      "text/plain": [
       "17.875"
      ]
     },
     "execution_count": 19,
     "metadata": {},
     "output_type": "execute_result"
    }
   ],
   "source": [
    "### Lets compute the interquartile range to calculate the boundaries \n",
    "\n",
    "# IQR = 75th percentile - 25th percentile\n",
    "IQR = df['Age'].quantile(0.75) - df['Age'].quantile(0.25)\n",
    "IQR\n",
    "\n",
    "# Any point outside the IQR range is identified as an outlier"
   ]
  },
  {
   "cell_type": "code",
   "execution_count": 20,
   "id": "a8d522b1",
   "metadata": {},
   "outputs": [
    {
     "name": "stdout",
     "output_type": "stream",
     "text": [
      "-6.6875\n",
      "64.8125\n"
     ]
    },
    {
     "data": {
      "text/plain": [
       "(None, None)"
      ]
     },
     "execution_count": 20,
     "metadata": {},
     "output_type": "execute_result"
    }
   ],
   "source": [
    "# from 25% percentile, subtract IQR -- 1.5 to the left\n",
    "# from 75% percentile, add IQR -- 1.5 to the right\n",
    "\n",
    "lower_bridge = df['Age'].quantile(0.25)-(IQR * 1.5)\n",
    "upper_bridge = df['Age'].quantile(0.75)+(IQR * 1.5)\n",
    "print(lower_bridge), print(upper_bridge)\n",
    "\n",
    "# For Extreme outliers --> IQR*3"
   ]
  },
  {
   "cell_type": "markdown",
   "id": "0dfe910a",
   "metadata": {},
   "source": [
    "**Conclusion:** max value was 80.0. After deduction, anything above 64.8125 is an outlier"
   ]
  },
  {
   "cell_type": "markdown",
   "id": "218c327b",
   "metadata": {},
   "source": [
    "## 2) Technique: If Features are Skewed, We use this"
   ]
  },
  {
   "cell_type": "code",
   "execution_count": 21,
   "id": "c3da633f",
   "metadata": {},
   "outputs": [
    {
     "data": {
      "text/plain": [
       "Text(0, 0.5, 'No of passenger')"
      ]
     },
     "execution_count": 21,
     "metadata": {},
     "output_type": "execute_result"
    },
    {
     "data": {
      "image/png": "[encoded data removed]",
      "text/plain": [
       "<Figure size 432x288 with 1 Axes>"
      ]
     },
     "metadata": {
      "needs_background": "light"
     },
     "output_type": "display_data"
    }
   ],
   "source": [
    "# Check if there are outliers without affecting NaN values (no dropna() or fillna())\n",
    "\n",
    "figure=df.Age.hist(bins=50)\n",
    "figure.set_title('Fair')\n",
    "figure.set_xlabel('Fair')\n",
    "figure.set_ylabel('No of passenger')\n",
    "\n",
    "# Dataset over here is Skewed"
   ]
  },
  {
   "cell_type": "code",
   "execution_count": 23,
   "id": "0ddfc700",
   "metadata": {},
   "outputs": [
    {
     "data": {
      "image/png": "[encoded data removed]",
      "text/plain": [
       "<Figure size 432x288 with 1 Axes>"
      ]
     },
     "metadata": {
      "needs_background": "light"
     },
     "output_type": "display_data"
    }
   ],
   "source": [
    "# Identify the Outliers \n",
    "\n",
    "figure = df.boxplot(column=\"Fare\")\n",
    "\n",
    "# The points in the box plot --> outliers (Huge amount of outliers)"
   ]
  },
  {
   "cell_type": "code",
   "execution_count": 25,
   "id": "9796b9a4",
   "metadata": {},
   "outputs": [
    {
     "data": {
      "text/plain": [
       "count    891.000000\n",
       "mean      32.204208\n",
       "std       49.693429\n",
       "min        0.000000\n",
       "25%        7.910400\n",
       "50%       14.454200\n",
       "75%       31.000000\n",
       "max      512.329200\n",
       "Name: Fare, dtype: float64"
      ]
     },
     "execution_count": 25,
     "metadata": {},
     "output_type": "execute_result"
    }
   ],
   "source": [
    "df['Fare'].describe()\n",
    "\n",
    "# difference between 75% percentile and max is huge, so there are a lot of outliers"
   ]
  },
  {
   "cell_type": "code",
   "execution_count": 26,
   "id": "fecbf2c7",
   "metadata": {},
   "outputs": [
    {
     "data": {
      "text/plain": [
       "23.0896"
      ]
     },
     "execution_count": 26,
     "metadata": {},
     "output_type": "execute_result"
    }
   ],
   "source": [
    "### Lets compute the Interquantile range to calculate the boundaries\n",
    "IQR = df['Fare'].quantile(0.75) - df['Fare'].quantile(0.25)\n",
    "IQR"
   ]
  },
  {
   "cell_type": "code",
   "execution_count": 29,
   "id": "dcfd3343",
   "metadata": {},
   "outputs": [
    {
     "name": "stdout",
     "output_type": "stream",
     "text": [
      "-61.358399999999996\n",
      "100.2688\n"
     ]
    },
    {
     "data": {
      "text/plain": [
       "(None, None)"
      ]
     },
     "execution_count": 29,
     "metadata": {},
     "output_type": "execute_result"
    }
   ],
   "source": [
    "# For skewed dataset - both left skewed and right skewed, we will consider extreme outliers\n",
    "\n",
    "lower_bridge = df['Fare'].quantile(0.25)-(IQR * 3)\n",
    "upper_bridge = df['Fare'].quantile(0.75)+(IQR * 3)\n",
    "print(lower_bridge), print(upper_bridge)\n",
    "\n",
    "# we are getting 100, this is fairly good"
   ]
  },
  {
   "cell_type": "markdown",
   "id": "26ab7658",
   "metadata": {},
   "source": [
    "## Now that we have gotten the outliers, how do we remove them from the dataset? \n",
    "* before applying the dataset to a ML algorithm"
   ]
  },
  {
   "cell_type": "code",
   "execution_count": 35,
   "id": "5793742d",
   "metadata": {},
   "outputs": [],
   "source": [
    "new_df = df.copy()"
   ]
  },
  {
   "cell_type": "code",
   "execution_count": 36,
   "id": "db6f73a9",
   "metadata": {},
   "outputs": [],
   "source": [
    "# we know the outlier of 'Age' is 73.27860964406094\n",
    "\n",
    "# if 'Age' amount is >=73, with respect to 'Age' feature, we will replace all outliers above 73.278 with 73\n",
    "new_df.loc[new_df['Age']>=73,'Age'] = 73"
   ]
  },
  {
   "cell_type": "code",
   "execution_count": 37,
   "id": "fab0bdba",
   "metadata": {},
   "outputs": [],
   "source": [
    "# we know the outlier of 'Fair' is 100.2688\n",
    "\n",
    "# if 'Fare' amount is >=100, with respect to 'Fare' feature, we will replace all outliers above 100.2688 with 100\n",
    "new_df.loc[new_df['Fare']>=100,'Fare'] = 100"
   ]
  },
  {
   "cell_type": "code",
   "execution_count": 39,
   "id": "7bec80c6",
   "metadata": {},
   "outputs": [
    {
     "data": {
      "text/plain": [
       "Text(0, 0.5, 'No of passenger')"
      ]
     },
     "execution_count": 39,
     "metadata": {},
     "output_type": "execute_result"
    },
    {
     "data": {
      "image/png": "[encoded data removed]",
      "text/plain": [
       "<Figure size 432x288 with 1 Axes>"
      ]
     },
     "metadata": {
      "needs_background": "light"
     },
     "output_type": "display_data"
    }
   ],
   "source": [
    "# Now lets see the new dataset\n",
    "\n",
    "# Age\n",
    "\n",
    "figure=new_df.Age.hist(bins=50)\n",
    "figure.set_title('Age')\n",
    "figure.set_xlabel('Age')\n",
    "figure.set_ylabel('No of passenger')\n",
    "\n",
    "# Most points are 73"
   ]
  },
  {
   "cell_type": "code",
   "execution_count": 40,
   "id": "a6c1d24e",
   "metadata": {},
   "outputs": [
    {
     "data": {
      "text/plain": [
       "Text(0, 0.5, 'No of passenger')"
      ]
     },
     "execution_count": 40,
     "metadata": {},
     "output_type": "execute_result"
    },
    {
     "data": {
      "image/png": "[encoded data removed]",
      "text/plain": [
       "<Figure size 432x288 with 1 Axes>"
      ]
     },
     "metadata": {
      "needs_background": "light"
     },
     "output_type": "display_data"
    }
   ],
   "source": [
    "# Fare\n",
    "\n",
    "figure=new_df.Fare.hist(bins=50)\n",
    "figure.set_title('Fare')\n",
    "figure.set_xlabel('Fare')\n",
    "figure.set_ylabel('No of passenger')\n",
    "\n",
    "# Most points are 100"
   ]
  },
  {
   "cell_type": "code",
   "execution_count": 43,
   "id": "236836ea",
   "metadata": {},
   "outputs": [],
   "source": [
    "# For now we will apply on a ml algorithm\n",
    "\n",
    "from sklearn.model_selection import train_test_split\n",
    "X_train,X_test,y_train,y_test=train_test_split(new_df[['Age','Fare']].fillna(0),new_df['Survived'],test_size=0.3) \n",
    "\n",
    "# Feature Engineering applied as well"
   ]
  },
  {
   "cell_type": "code",
   "execution_count": 45,
   "id": "aeead54c",
   "metadata": {},
   "outputs": [
    {
     "name": "stdout",
     "output_type": "stream",
     "text": [
      "Accuracy_score: 0.6529850746268657\n",
      "roc_auc_score: 0.6420482073643411\n"
     ]
    }
   ],
   "source": [
    "### Logistic Regression --> sensitive to outliers\n",
    "\n",
    "from sklearn.linear_model import LogisticRegression\n",
    "classifier=LogisticRegression()\n",
    "classifier.fit(X_train,y_train) # Train model\n",
    "\n",
    "# Test model\n",
    "y_pred=classifier.predict(X_test)\n",
    "y_pred1=classifier.predict_proba(X_test)\n",
    "\n",
    "# Evaluation metrics\n",
    "from sklearn.metrics import accuracy_score,roc_auc_score\n",
    "print(\"Accuracy_score: {}\".format(accuracy_score(y_test,y_pred)))\n",
    "print(\"roc_auc_score: {}\".format(roc_auc_score(y_test,y_pred1[:,1]))) # take all rows, and first column"
   ]
  },
  {
   "cell_type": "code",
   "execution_count": 46,
   "id": "685f7fab",
   "metadata": {},
   "outputs": [],
   "source": [
    "# The format() method formats the specified value(s) and insert them inside the string's placeholder.\n",
    "\n",
    "# The placeholder is defined using curly brackets: {}\n",
    "\n",
    "# The format() method returns the formatted string."
   ]
  }
 ],
 "metadata": {
  "kernelspec": {
   "display_name": "Python 3",
   "language": "python",
   "name": "python3"
  },
  "language_info": {
   "codemirror_mode": {
    "name": "ipython",
    "version": 3
   },
   "file_extension": ".py",
   "mimetype": "text/x-python",
   "name": "python",
   "nbconvert_exporter": "python",
   "pygments_lexer": "ipython3",
   "version": "3.8.10"
  }
 },
 "nbformat": 4,
 "nbformat_minor": 5
}
