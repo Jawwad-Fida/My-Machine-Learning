{
  "nbformat": 4,
  "nbformat_minor": 0,
  "metadata": {
    "colab": {
      "name": "Multivariate_Linear_Regression_SKlearn.ipynb",
      "provenance": [],
      "collapsed_sections": [],
      "toc_visible": true
    },
    "kernelspec": {
      "name": "python3",
      "display_name": "Python 3"
    },
    "language_info": {
      "name": "python"
    }
  },
  "cells": [
    {
      "cell_type": "code",
      "metadata": {
        "id": "TmopQPLVg5Sq"
      },
      "source": [
        "%matplotlib inline\n",
        "import matplotlib.pyplot as plt\n",
        "import numpy as np\n",
        "import pandas as pd\n",
        "import seaborn as sns\n",
        "import scipy.stats as stat\n",
        "import pylab\n",
        "from collections import Counter"
      ],
      "execution_count": 42,
      "outputs": []
    },
    {
      "cell_type": "markdown",
      "metadata": {
        "id": "Evk3-YrUhYnh"
      },
      "source": [
        "## 1) Import the dataset"
      ]
    },
    {
      "cell_type": "code",
      "metadata": {
        "colab": {
          "base_uri": "https://localhost:8080/",
          "height": 198
        },
        "id": "CjPf4TJuhXWX",
        "outputId": "ebb4df57-5ae4-44b4-d130-fcda8d8203fa"
      },
      "source": [
        "df = pd.read_csv(\"50_Startups.csv\")\n",
        "df.head()\n",
        "\n",
        "# each row corresponds to a different startup\n",
        "\n",
        "# Goal: Which startup to invest based on these information"
      ],
      "execution_count": 43,
      "outputs": [
        {
          "output_type": "execute_result",
          "data": {
            "text/html": [
              "<div>\n",
              "<style scoped>\n",
              "    .dataframe tbody tr th:only-of-type {\n",
              "        vertical-align: middle;\n",
              "    }\n",
              "\n",
              "    .dataframe tbody tr th {\n",
              "        vertical-align: top;\n",
              "    }\n",
              "\n",
              "    .dataframe thead th {\n",
              "        text-align: right;\n",
              "    }\n",
              "</style>\n",
              "<table border=\"1\" class=\"dataframe\">\n",
              "  <thead>\n",
              "    <tr style=\"text-align: right;\">\n",
              "      <th></th>\n",
              "      <th>R&amp;D Spend</th>\n",
              "      <th>Administration</th>\n",
              "      <th>Marketing Spend</th>\n",
              "      <th>State</th>\n",
              "      <th>Profit</th>\n",
              "    </tr>\n",
              "  </thead>\n",
              "  <tbody>\n",
              "    <tr>\n",
              "      <th>0</th>\n",
              "      <td>165349.20</td>\n",
              "      <td>136897.80</td>\n",
              "      <td>471784.10</td>\n",
              "      <td>New York</td>\n",
              "      <td>192261.83</td>\n",
              "    </tr>\n",
              "    <tr>\n",
              "      <th>1</th>\n",
              "      <td>162597.70</td>\n",
              "      <td>151377.59</td>\n",
              "      <td>443898.53</td>\n",
              "      <td>California</td>\n",
              "      <td>191792.06</td>\n",
              "    </tr>\n",
              "    <tr>\n",
              "      <th>2</th>\n",
              "      <td>153441.51</td>\n",
              "      <td>101145.55</td>\n",
              "      <td>407934.54</td>\n",
              "      <td>Florida</td>\n",
              "      <td>191050.39</td>\n",
              "    </tr>\n",
              "    <tr>\n",
              "      <th>3</th>\n",
              "      <td>144372.41</td>\n",
              "      <td>118671.85</td>\n",
              "      <td>383199.62</td>\n",
              "      <td>New York</td>\n",
              "      <td>182901.99</td>\n",
              "    </tr>\n",
              "    <tr>\n",
              "      <th>4</th>\n",
              "      <td>142107.34</td>\n",
              "      <td>91391.77</td>\n",
              "      <td>366168.42</td>\n",
              "      <td>Florida</td>\n",
              "      <td>166187.94</td>\n",
              "    </tr>\n",
              "  </tbody>\n",
              "</table>\n",
              "</div>"
            ],
            "text/plain": [
              "   R&D Spend  Administration  Marketing Spend       State     Profit\n",
              "0  165349.20       136897.80        471784.10    New York  192261.83\n",
              "1  162597.70       151377.59        443898.53  California  191792.06\n",
              "2  153441.51       101145.55        407934.54     Florida  191050.39\n",
              "3  144372.41       118671.85        383199.62    New York  182901.99\n",
              "4  142107.34        91391.77        366168.42     Florida  166187.94"
            ]
          },
          "metadata": {
            "tags": []
          },
          "execution_count": 43
        }
      ]
    },
    {
      "cell_type": "code",
      "metadata": {
        "colab": {
          "base_uri": "https://localhost:8080/"
        },
        "id": "L7_pJ8sgh9M1",
        "outputId": "d3325e1a-d3dc-4d34-9e1a-5b8160bf1d3b"
      },
      "source": [
        "df.dtypes"
      ],
      "execution_count": 44,
      "outputs": [
        {
          "output_type": "execute_result",
          "data": {
            "text/plain": [
              "R&D Spend          float64\n",
              "Administration     float64\n",
              "Marketing Spend    float64\n",
              "State               object\n",
              "Profit             float64\n",
              "dtype: object"
            ]
          },
          "metadata": {
            "tags": []
          },
          "execution_count": 44
        }
      ]
    },
    {
      "cell_type": "markdown",
      "metadata": {
        "id": "tMb1WFnOiDl2"
      },
      "source": [
        "### Check for missing values"
      ]
    },
    {
      "cell_type": "code",
      "metadata": {
        "colab": {
          "base_uri": "https://localhost:8080/"
        },
        "id": "mqHjYdvrh_yE",
        "outputId": "d7e1fca8-1676-4192-fb29-5ec8ceedc4cb"
      },
      "source": [
        "df.isnull().sum()"
      ],
      "execution_count": 45,
      "outputs": [
        {
          "output_type": "execute_result",
          "data": {
            "text/plain": [
              "R&D Spend          0\n",
              "Administration     0\n",
              "Marketing Spend    0\n",
              "State              0\n",
              "Profit             0\n",
              "dtype: int64"
            ]
          },
          "metadata": {
            "tags": []
          },
          "execution_count": 45
        }
      ]
    },
    {
      "cell_type": "markdown",
      "metadata": {
        "id": "_NdMAPrqjWY_"
      },
      "source": [
        "### Check for outliers - Linear Regression is sensitive to outliers"
      ]
    },
    {
      "cell_type": "code",
      "metadata": {
        "id": "B10l6v3YpVto"
      },
      "source": [
        "plt.style.use(\"seaborn\")"
      ],
      "execution_count": 46,
      "outputs": []
    },
    {
      "cell_type": "code",
      "metadata": {
        "colab": {
          "base_uri": "https://localhost:8080/",
          "height": 347
        },
        "id": "ngtlJwBGjRH8",
        "outputId": "3bab007c-e83f-4063-a0f1-082e023ece82"
      },
      "source": [
        "figure = df.boxplot(column=['R&D Spend', 'Administration', 'Marketing Spend'])"
      ],
      "execution_count": 47,
      "outputs": [
        {
          "output_type": "display_data",
          "data": {
            "image/png": "[encoded data removed]",
            "text/plain": [
              "<Figure size 576x396 with 1 Axes>"
            ]
          },
          "metadata": {
            "tags": []
          }
        }
      ]
    },
    {
      "cell_type": "markdown",
      "metadata": {
        "id": "zdtrhgwRqaQc"
      },
      "source": [
        "## 2) Create matrix of features and label"
      ]
    },
    {
      "cell_type": "code",
      "metadata": {
        "id": "xJM_jjKmqeAr"
      },
      "source": [
        "# X and y are numpy arrays\n",
        "\n",
        "X = df.iloc[:,:-1].values # features\n",
        "y = df.iloc[:,-1].values # label"
      ],
      "execution_count": 48,
      "outputs": []
    },
    {
      "cell_type": "markdown",
      "metadata": {
        "id": "Btshs5Hkp2td"
      },
      "source": [
        "## 3) Encoding the Categorical variables - One Hot Encoding"
      ]
    },
    {
      "cell_type": "markdown",
      "metadata": {
        "id": "W4CLBb4Ft-k4"
      },
      "source": [
        "**Multiple Linear Regression Model takes care of dummy variable trap**"
      ]
    },
    {
      "cell_type": "code",
      "metadata": {
        "id": "g0DjCfVXlEL9"
      },
      "source": [
        "# convert categorical variables to dummy variables (0 or 1)\n",
        "\n",
        "from sklearn.compose import ColumnTransformer\n",
        "from sklearn.preprocessing import OneHotEncoder\n",
        "\n",
        "# [3] -> column index 3 \n",
        "ct = ColumnTransformer(transformers=[('encoder', OneHotEncoder(), [3])], remainder='passthrough')\n",
        "X = np.array(ct.fit_transform(X)) \n",
        "\n",
        "#  remainder='passthrough' --> columns, other than the ones specified, will remain untouched"
      ],
      "execution_count": 49,
      "outputs": []
    },
    {
      "cell_type": "code",
      "metadata": {
        "colab": {
          "base_uri": "https://localhost:8080/"
        },
        "id": "CO_oOHnXqUWI",
        "outputId": "024d1f78-2843-4c1e-8e09-46607e28cce2"
      },
      "source": [
        "X[:3] # check some rows\n",
        "\n",
        "# 0 0 1 - new york\n",
        "# 1 0 0 - california\n",
        "# 0 1 0 - florida\n",
        "\n",
        "# so, california, florida, new york --> dummy variables are created in alphabetical order"
      ],
      "execution_count": 50,
      "outputs": [
        {
          "output_type": "execute_result",
          "data": {
            "text/plain": [
              "array([[0.0, 0.0, 1.0, 165349.2, 136897.8, 471784.1],\n",
              "       [1.0, 0.0, 0.0, 162597.7, 151377.59, 443898.53],\n",
              "       [0.0, 1.0, 0.0, 153441.51, 101145.55, 407934.54]], dtype=object)"
            ]
          },
          "metadata": {
            "tags": []
          },
          "execution_count": 50
        }
      ]
    },
    {
      "cell_type": "markdown",
      "metadata": {
        "id": "VrqWVTzjrzZ_"
      },
      "source": [
        "**Note:** In multiple linear regression, there is no need to apply feature scaling"
      ]
    },
    {
      "cell_type": "markdown",
      "metadata": {
        "id": "-JVJ_mktr9XH"
      },
      "source": [
        "## 4) Splitting the dataset into the Training set and Test set"
      ]
    },
    {
      "cell_type": "code",
      "metadata": {
        "id": "S23fQcTpqv2W"
      },
      "source": [
        "from sklearn.model_selection import train_test_split\n",
        "\n",
        "# Train - 80% data, Test - 20% data\n",
        "X_train, X_test, y_train, y_test = train_test_split(X,y,test_size=0.2, random_state=1)"
      ],
      "execution_count": 51,
      "outputs": []
    },
    {
      "cell_type": "code",
      "metadata": {
        "colab": {
          "base_uri": "https://localhost:8080/"
        },
        "id": "50tkT7YRtyin",
        "outputId": "1eed09ca-6527-413d-8c42-32f9e324ddbf"
      },
      "source": [
        "X_train.shape, y_train.shape, X_test.shape, y_test.shape # all matrices"
      ],
      "execution_count": 52,
      "outputs": [
        {
          "output_type": "execute_result",
          "data": {
            "text/plain": [
              "((40, 6), (40,), (10, 6), (10,))"
            ]
          },
          "metadata": {
            "tags": []
          },
          "execution_count": 52
        }
      ]
    },
    {
      "cell_type": "markdown",
      "metadata": {
        "id": "fD29p3oat2VE"
      },
      "source": [
        "## 5) Training the Model on the train set"
      ]
    },
    {
      "cell_type": "markdown",
      "metadata": {
        "id": "FvZRAmqyt4NR"
      },
      "source": [
        "**Multiple Linear Regression Model will identify the best features (highest p-value)**\n"
      ]
    },
    {
      "cell_type": "code",
      "metadata": {
        "colab": {
          "base_uri": "https://localhost:8080/"
        },
        "id": "9cDGLshCtzkv",
        "outputId": "cff9ee37-88a2-4996-fef1-edc200f03385"
      },
      "source": [
        "from sklearn.linear_model import LinearRegression\n",
        "model = LinearRegression() # Build model\n",
        "\n",
        "model.fit(X_train,y_train) # Train model"
      ],
      "execution_count": 53,
      "outputs": [
        {
          "output_type": "execute_result",
          "data": {
            "text/plain": [
              "LinearRegression(copy_X=True, fit_intercept=True, n_jobs=None, normalize=False)"
            ]
          },
          "metadata": {
            "tags": []
          },
          "execution_count": 53
        }
      ]
    },
    {
      "cell_type": "markdown",
      "metadata": {
        "id": "lxHp7YIIuiPp"
      },
      "source": [
        "## 6) Evaluate Model - Predicting on Test results"
      ]
    },
    {
      "cell_type": "markdown",
      "metadata": {
        "id": "S-mfgyZYur5Y"
      },
      "source": [
        "We cannot plot a graph because we have a lot of features.\n",
        "SO instead of visualization, we will display 2 vectors .....\n",
        "\n",
        "true profits from test set, and predicted profits from test set, so that we can compare if predicted is close to real"
      ]
    },
    {
      "cell_type": "code",
      "metadata": {
        "id": "PMXbxTCnuYTO"
      },
      "source": [
        "# Test set --> evaluate model on new observations (future data)\n",
        "\n",
        "# Input the features to predict the label(estimated), returns a vector(matrix)\n",
        "y_pred = model.predict(X_test) "
      ],
      "execution_count": 54,
      "outputs": []
    },
    {
      "cell_type": "code",
      "metadata": {
        "colab": {
          "base_uri": "https://localhost:8080/"
        },
        "id": "kLN5txLtu8LU",
        "outputId": "5488efcb-66a7-48c1-d9c1-28ba7c44f690"
      },
      "source": [
        "np.set_printoptions(precision=2) # 2 dp numerical values\n",
        "\n",
        "# Concatenate the 2 vectors (Compare two numerical vectors - estimated and true)\n",
        "print(np.concatenate((y_pred.reshape(len(y_pred),1), y_test.reshape(len(y_test),1)), axis=1))\n",
        "\n",
        "# reshape vector from horizantal to vertical\n",
        "# axis = 1 for vertical concatenation\n",
        "\n",
        "# first column --> predicted profit, second column --> true profit"
      ],
      "execution_count": 55,
      "outputs": [
        {
          "output_type": "stream",
          "text": [
            "[[114664.42 105008.31]\n",
            " [ 90593.16  96479.51]\n",
            " [ 75692.84  78239.91]\n",
            " [ 70221.89  81229.06]\n",
            " [179790.26 191050.39]\n",
            " [171576.92 182901.99]\n",
            " [ 49753.59  35673.41]\n",
            " [102276.66 101004.64]\n",
            " [ 58649.38  49490.75]\n",
            " [ 98272.03  97483.56]]\n"
          ],
          "name": "stdout"
        }
      ]
    },
    {
      "cell_type": "code",
      "metadata": {
        "id": "xgD25ByBvZyV"
      },
      "source": [
        "def evaluate_preds(y_test, y_pred):\n",
        "  \"\"\"\n",
        "  Perform evaluation comparison methods on y_test(true labels) vs y_pred -- for regression problems\n",
        "  \"\"\"\n",
        "  from sklearn.metrics import r2_score,mean_squared_error,mean_absolute_error\n",
        "\n",
        "  accuracy = r2_score(y_test, y_pred)\n",
        "  mse = mean_squared_error(y_test, y_pred) # Gradient Descent\n",
        "  mae = mean_absolute_error(y_test, y_pred)\n",
        "  metric_dict = {\n",
        "      \"r2\": round(accuracy,2),\n",
        "      \"mse\": round(mse,2),\n",
        "      \"mae\": round(mae,2)\n",
        "  }\n",
        "\n",
        "  print(\"Regression model metrics on the test set:\")\n",
        "  print(f\"Co-efficient of R^2: {accuracy * 100:.2f}%\") # accuracy of model\n",
        "  print(f\"Mean Squared Error: {mse:.2f}\")\n",
        "  print(f\"Mean absolute Error: {mae:.2f}\")\n",
        "\n",
        "  return metric_dict"
      ],
      "execution_count": 56,
      "outputs": []
    },
    {
      "cell_type": "code",
      "metadata": {
        "colab": {
          "base_uri": "https://localhost:8080/"
        },
        "id": "BKOzIVVN14wQ",
        "outputId": "01985532-85ba-4e76-be5c-5de67c5a046b"
      },
      "source": [
        "evaluation_metrics = evaluate_preds(y_test, y_pred)"
      ],
      "execution_count": 57,
      "outputs": [
        {
          "output_type": "stream",
          "text": [
            "Regression model metrics on the test set:\n",
            "Co-efficient of R^2: 96.50%\n",
            "Mean Squared Error: 79495441.50\n",
            "Mean absolute Error: 7698.12\n"
          ],
          "name": "stdout"
        }
      ]
    },
    {
      "cell_type": "markdown",
      "metadata": {
        "id": "-sLXEvve2Do9"
      },
      "source": [
        "## 7) Predicting Values\n"
      ]
    },
    {
      "cell_type": "markdown",
      "metadata": {
        "id": "6f1Leztz2IBl"
      },
      "source": [
        "#### Q1) Making a single prediction (for example the profit of a startup with R&D Spend = 160000, Administration Spend = 130000, Marketing Spend = 300000 and State = 'California')\n",
        "\n",
        "**Important note 1:** Notice that the values of the features were all input in a double pair of square brackets. That's because the \"predict\" method always expects a 2D array as the format of its inputs. And putting our values into a double pair of square brackets makes the input exactly a 2D array. Simply put:\n",
        "\n",
        "1,0,0,160000,130000,300000→scalars\n",
        "\n",
        "[1,0,0,160000,130000,300000]→1D array\n",
        "\n",
        "[[1,0,0,160000,130000,300000]]→2D array"
      ]
    },
    {
      "cell_type": "markdown",
      "metadata": {
        "id": "ruu8DEst2PmL"
      },
      "source": [
        "**Important note 2**: Notice also that the \"California\" state was not input as a string in the last column but as \"1, 0, 0\" in the first three columns. That's because the predict method expects the one-hot-encoded values of the state, \"California\" was encoded as \"1, 0, 0\". And be careful to include these values in the first three columns, not the last three ones, because the dummy variables are always created in the first columns."
      ]
    },
    {
      "cell_type": "code",
      "metadata": {
        "colab": {
          "base_uri": "https://localhost:8080/"
        },
        "id": "XCLSzVPd19nX",
        "outputId": "3edba53f-2776-4684-8d08-eac18ce39816"
      },
      "source": [
        "print(model.predict([[1, 0, 0, 160000, 130000, 300000]]))"
      ],
      "execution_count": 59,
      "outputs": [
        {
          "output_type": "stream",
          "text": [
            "[180892.25]\n"
          ],
          "name": "stdout"
        }
      ]
    },
    {
      "cell_type": "markdown",
      "metadata": {
        "id": "CTg-3QkA2fNc"
      },
      "source": [
        "Therefore, our model predicts that the profit of a Californian startup which spent 160000 in R&D, 130000 in Administration and 300000 in Marketing is $180892.25"
      ]
    },
    {
      "cell_type": "markdown",
      "metadata": {
        "id": "CYCe-EeJ2jLM"
      },
      "source": [
        "#### Q2) Getting the final linear regression equation with the values of the coefficients"
      ]
    },
    {
      "cell_type": "code",
      "metadata": {
        "colab": {
          "base_uri": "https://localhost:8080/"
        },
        "id": "Ax6MscML2bew",
        "outputId": "ef8104ad-4b0e-4095-99bd-d01c81baa1bb"
      },
      "source": [
        "# h(x) = theta0 + theta1X1 + theta2X2 + theta3X3 +....\n",
        "print(model.coef_) \n",
        "print(model.intercept_) # y intercept - theta0"
      ],
      "execution_count": 61,
      "outputs": [
        {
          "output_type": "stream",
          "text": [
            "[-2.85e+02  2.98e+02 -1.24e+01  7.74e-01 -9.44e-03  2.89e-02]\n",
            "49834.885073228004\n"
          ],
          "name": "stdout"
        }
      ]
    },
    {
      "cell_type": "markdown",
      "metadata": {
        "id": "7LmnTgd3224K"
      },
      "source": [
        "Therefore, the equation of our multiple linear regression model/hypothesis equation is:\n",
        "\n",
        "Profit = - 285×Dummy State 1 − 298×Dummy State 2 - 124×Dummy State 3 + 774×R&D Spend - 944×Administration + 289×Marketing Spend + 49834.88507321703"
      ]
    },
    {
      "cell_type": "markdown",
      "metadata": {
        "id": "e7v7_SAb3Hsk"
      },
      "source": [
        "## 8) Save the Model"
      ]
    },
    {
      "cell_type": "code",
      "metadata": {
        "colab": {
          "base_uri": "https://localhost:8080/"
        },
        "id": "Q1ro6gXE2r7G",
        "outputId": "096091b9-0bd4-4b2b-9b53-a55c8f485a11"
      },
      "source": [
        "from joblib import dump\n",
        "\n",
        "# Save a model to a file\n",
        "dump(model,filename='multivariate_linear_regression.pkl')"
      ],
      "execution_count": 62,
      "outputs": [
        {
          "output_type": "execute_result",
          "data": {
            "text/plain": [
              "['multivariate_linear_regression.pkl']"
            ]
          },
          "metadata": {
            "tags": []
          },
          "execution_count": 62
        }
      ]
    },
    {
      "cell_type": "code",
      "metadata": {
        "id": "eIAWMuT23Vk0"
      },
      "source": [
        ""
      ],
      "execution_count": null,
      "outputs": []
    }
  ]
}