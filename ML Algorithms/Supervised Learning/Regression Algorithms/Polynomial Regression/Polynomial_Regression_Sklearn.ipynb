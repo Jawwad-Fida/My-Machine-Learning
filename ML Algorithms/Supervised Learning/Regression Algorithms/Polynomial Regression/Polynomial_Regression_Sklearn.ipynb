{
  "nbformat": 4,
  "nbformat_minor": 0,
  "metadata": {
    "colab": {
      "name": "Polynomial_Regression_Sklearn.ipynb",
      "provenance": [],
      "collapsed_sections": []
    },
    "kernelspec": {
      "name": "python3",
      "display_name": "Python 3"
    },
    "language_info": {
      "name": "python"
    }
  },
  "cells": [
    {
      "cell_type": "code",
      "metadata": {
        "id": "37w_F-KkJX4k"
      },
      "source": [
        "%matplotlib inline\n",
        "import matplotlib.pyplot as plt\n",
        "import numpy as np\n",
        "import pandas as pd\n",
        "import seaborn as sns\n",
        "import scipy.stats as stat\n",
        "import pylab\n",
        "from collections import Counter"
      ],
      "execution_count": 29,
      "outputs": []
    },
    {
      "cell_type": "markdown",
      "metadata": {
        "id": "RicCMWABJjPn"
      },
      "source": [
        "## Importing the Dataset"
      ]
    },
    {
      "cell_type": "code",
      "metadata": {
        "colab": {
          "base_uri": "https://localhost:8080/",
          "height": 198
        },
        "id": "crhVyqmlJgdb",
        "outputId": "68f5690a-cbfc-4129-ea87-957ec50accb1"
      },
      "source": [
        "df = pd.read_csv(\"Position_Salaries.csv\")\n",
        "df.head()\n",
        "\n",
        "# each row represents a position, data set is non-linear"
      ],
      "execution_count": 30,
      "outputs": [
        {
          "output_type": "execute_result",
          "data": {
            "text/html": [
              "<div>\n",
              "<style scoped>\n",
              "    .dataframe tbody tr th:only-of-type {\n",
              "        vertical-align: middle;\n",
              "    }\n",
              "\n",
              "    .dataframe tbody tr th {\n",
              "        vertical-align: top;\n",
              "    }\n",
              "\n",
              "    .dataframe thead th {\n",
              "        text-align: right;\n",
              "    }\n",
              "</style>\n",
              "<table border=\"1\" class=\"dataframe\">\n",
              "  <thead>\n",
              "    <tr style=\"text-align: right;\">\n",
              "      <th></th>\n",
              "      <th>Position</th>\n",
              "      <th>Level</th>\n",
              "      <th>Salary</th>\n",
              "    </tr>\n",
              "  </thead>\n",
              "  <tbody>\n",
              "    <tr>\n",
              "      <th>0</th>\n",
              "      <td>Business Analyst</td>\n",
              "      <td>1</td>\n",
              "      <td>45000</td>\n",
              "    </tr>\n",
              "    <tr>\n",
              "      <th>1</th>\n",
              "      <td>Junior Consultant</td>\n",
              "      <td>2</td>\n",
              "      <td>50000</td>\n",
              "    </tr>\n",
              "    <tr>\n",
              "      <th>2</th>\n",
              "      <td>Senior Consultant</td>\n",
              "      <td>3</td>\n",
              "      <td>60000</td>\n",
              "    </tr>\n",
              "    <tr>\n",
              "      <th>3</th>\n",
              "      <td>Manager</td>\n",
              "      <td>4</td>\n",
              "      <td>80000</td>\n",
              "    </tr>\n",
              "    <tr>\n",
              "      <th>4</th>\n",
              "      <td>Country Manager</td>\n",
              "      <td>5</td>\n",
              "      <td>110000</td>\n",
              "    </tr>\n",
              "  </tbody>\n",
              "</table>\n",
              "</div>"
            ],
            "text/plain": [
              "            Position  Level  Salary\n",
              "0   Business Analyst      1   45000\n",
              "1  Junior Consultant      2   50000\n",
              "2  Senior Consultant      3   60000\n",
              "3            Manager      4   80000\n",
              "4    Country Manager      5  110000"
            ]
          },
          "metadata": {
            "tags": []
          },
          "execution_count": 30
        }
      ]
    },
    {
      "cell_type": "code",
      "metadata": {
        "colab": {
          "base_uri": "https://localhost:8080/"
        },
        "id": "EE1Jj1ofJ8ny",
        "outputId": "a4943230-dd8a-4ffb-a3b5-7d8410efd85f"
      },
      "source": [
        "len(df)"
      ],
      "execution_count": 31,
      "outputs": [
        {
          "output_type": "execute_result",
          "data": {
            "text/plain": [
              "10"
            ]
          },
          "metadata": {
            "tags": []
          },
          "execution_count": 31
        }
      ]
    },
    {
      "cell_type": "code",
      "metadata": {
        "colab": {
          "base_uri": "https://localhost:8080/"
        },
        "id": "X2ClFzZ_J9J_",
        "outputId": "a840f1d4-93a5-46d5-a598-da590a9a561b"
      },
      "source": [
        "df.dtypes"
      ],
      "execution_count": 32,
      "outputs": [
        {
          "output_type": "execute_result",
          "data": {
            "text/plain": [
              "Position    object\n",
              "Level        int64\n",
              "Salary       int64\n",
              "dtype: object"
            ]
          },
          "metadata": {
            "tags": []
          },
          "execution_count": 32
        }
      ]
    },
    {
      "cell_type": "markdown",
      "metadata": {
        "id": "XMFO3ZSluL9N"
      },
      "source": [
        "We are going to skip splitting the dataset into train and test set, because we want to leverage the maximum data in order to make our future prediction of the salary for the position level. For example between six and seven i.e. 6.5 (because a person might have worked in 2 positions before)"
      ]
    },
    {
      "cell_type": "markdown",
      "metadata": {
        "id": "BvaSUViwjt7l"
      },
      "source": [
        "## Create matrix of features and label"
      ]
    },
    {
      "cell_type": "code",
      "metadata": {
        "id": "L1ckI43jjFJ3"
      },
      "source": [
        "# Position and level are redundant features (features that have the same meaning). Its like we have already done some label encoding already.\n",
        "\n",
        "X = df.iloc[:, 1:-1].values # so we will take only one of the redundant columns\n",
        "y = df.iloc[:, -1].values # label"
      ],
      "execution_count": 33,
      "outputs": []
    },
    {
      "cell_type": "markdown",
      "metadata": {
        "id": "RWJXfCfJuuPE"
      },
      "source": [
        "We will train a linear regression model just for comparison with a polynomial regression model.\n",
        "\n",
        "And each time, we will see that for this dataset, polynomial regression (a non-linear regression model) is much better than linear regression"
      ]
    },
    {
      "cell_type": "markdown",
      "metadata": {
        "id": "ip_vJDXDkJil"
      },
      "source": [
        "## Training the Linear Regression Model on the whole dataset (for comparison)"
      ]
    },
    {
      "cell_type": "code",
      "metadata": {
        "id": "16tpdhnekHoW",
        "colab": {
          "base_uri": "https://localhost:8080/"
        },
        "outputId": "ee713a68-69d7-493b-e20a-164b7da94524"
      },
      "source": [
        "from sklearn.linear_model import LinearRegression\n",
        "lin_reg = LinearRegression()\n",
        "lin_reg.fit(X, y) # matrix of single feature X -- Simple Linear (Since only 1 feature is present)"
      ],
      "execution_count": 34,
      "outputs": [
        {
          "output_type": "execute_result",
          "data": {
            "text/plain": [
              "LinearRegression(copy_X=True, fit_intercept=True, n_jobs=None, normalize=False)"
            ]
          },
          "metadata": {
            "tags": []
          },
          "execution_count": 34
        }
      ]
    },
    {
      "cell_type": "markdown",
      "metadata": {
        "id": "YKu4rqJhzxtS"
      },
      "source": [
        "## Training the Polynomial Regression Model on the whole dataset "
      ]
    },
    {
      "cell_type": "markdown",
      "metadata": {
        "id": "HiBdcbV01Tkl"
      },
      "source": [
        "### Create a matrix of powered features --> x1,x1^2,...,x1^n"
      ]
    },
    {
      "cell_type": "code",
      "metadata": {
        "id": "Z9u297_m0q06"
      },
      "source": [
        "# inside the parenthesis, choose n power\n",
        "# n can be 2,3,4 ... (higher degree may lead to overfitting)\n",
        "\n",
        "from sklearn.preprocessing import PolynomialFeatures\n",
        "poly_reg = PolynomialFeatures(degree = 4) \n",
        "X_poly = poly_reg.fit_transform(X) # transformation\n",
        "\n",
        "# model will now contain x1,x1^2,x1^3,x1^4 --- matrix of squared features X_poly"
      ],
      "execution_count": 35,
      "outputs": []
    },
    {
      "cell_type": "code",
      "metadata": {
        "colab": {
          "base_uri": "https://localhost:8080/"
        },
        "id": "z1TmFxii2VUG",
        "outputId": "9d98fb6e-7f21-4d1a-e4ee-37064dde3dbc"
      },
      "source": [
        "# now build a linear regression model that will integrate the matrix of squared features\n",
        "\n",
        "lin_reg_2 = LinearRegression()\n",
        "lin_reg_2.fit(X_poly, y)"
      ],
      "execution_count": 36,
      "outputs": [
        {
          "output_type": "execute_result",
          "data": {
            "text/plain": [
              "LinearRegression(copy_X=True, fit_intercept=True, n_jobs=None, normalize=False)"
            ]
          },
          "metadata": {
            "tags": []
          },
          "execution_count": 36
        }
      ]
    },
    {
      "cell_type": "markdown",
      "metadata": {
        "id": "M0-buey424QA"
      },
      "source": [
        "## Visualize the Linear Regression results"
      ]
    },
    {
      "cell_type": "code",
      "metadata": {
        "colab": {
          "base_uri": "https://localhost:8080/",
          "height": 313
        },
        "id": "_lHikVe52v0I",
        "outputId": "e201cad2-6c9d-4413-bb4e-b7897177f63a"
      },
      "source": [
        "y_pred = lin_reg.predict(X) # simple model and X\n",
        "\n",
        "plt.scatter(X, y, color = 'red') # plot the real data points\n",
        "plt.plot(X, y_pred) # plot the regression line (hypothesis line) - using predicted salaries \n",
        "\n",
        "plt.title(\"Truth or Bluff (Linear Regression Model)\")\n",
        "plt.xlabel(\"Positiol Level\")\n",
        "plt.ylabel(\"Salary\")\n",
        "plt.show"
      ],
      "execution_count": 37,
      "outputs": [
        {
          "output_type": "execute_result",
          "data": {
            "text/plain": [
              "<function matplotlib.pyplot.show>"
            ]
          },
          "metadata": {
            "tags": []
          },
          "execution_count": 37
        },
        {
          "output_type": "display_data",
          "data": {
            "image/png": "[encoded data removed]",
            "text/plain": [
              "<Figure size 432x288 with 1 Axes>"
            ]
          },
          "metadata": {
            "tags": [],
            "needs_background": "light"
          }
        }
      ]
    },
    {
      "cell_type": "markdown",
      "metadata": {
        "id": "JGL61zXR4xKL"
      },
      "source": [
        "## Visualize the Polynomial Regression results"
      ]
    },
    {
      "cell_type": "code",
      "metadata": {
        "colab": {
          "base_uri": "https://localhost:8080/",
          "height": 295
        },
        "id": "iuowldxf4No1",
        "outputId": "e24cdfa1-f636-4f45-e0d8-78007b6e0f50"
      },
      "source": [
        "y_pred = lin_reg_2.predict(X_poly)\n",
        "\n",
        "plt.scatter(X, y, color = 'red')\n",
        "plt.plot(X, y_pred, color = 'blue')\n",
        "plt.title('Truth or Bluff (Polynomial Regression)')\n",
        "plt.xlabel('Position level')\n",
        "plt.ylabel('Salary')\n",
        "plt.show()"
      ],
      "execution_count": 39,
      "outputs": [
        {
          "output_type": "display_data",
          "data": {
            "image/png": "[encoded data removed]",
            "text/plain": [
              "<Figure size 432x288 with 1 Axes>"
            ]
          },
          "metadata": {
            "tags": [],
            "needs_background": "light"
          }
        }
      ]
    },
    {
      "cell_type": "markdown",
      "metadata": {
        "id": "ZEMp88Yl7wZd"
      },
      "source": [
        "## Predict a new result with Linear Regression"
      ]
    },
    {
      "cell_type": "code",
      "metadata": {
        "colab": {
          "base_uri": "https://localhost:8080/"
        },
        "id": "W4981lT37ulb",
        "outputId": "55dbd766-fab3-489b-ac10-757c813aa331"
      },
      "source": [
        "# e.g predict for a single feature 6.5\n",
        "lin_reg.predict([[6.5]])\n",
        "\n",
        "# bad prediction - too much high salary prediction"
      ],
      "execution_count": 40,
      "outputs": [
        {
          "output_type": "execute_result",
          "data": {
            "text/plain": [
              "array([330378.78787879])"
            ]
          },
          "metadata": {
            "tags": []
          },
          "execution_count": 40
        }
      ]
    },
    {
      "cell_type": "markdown",
      "metadata": {
        "id": "NiWWBuiY78Kb"
      },
      "source": [
        "## Predict a new result with Linear Regression"
      ]
    },
    {
      "cell_type": "code",
      "metadata": {
        "colab": {
          "base_uri": "https://localhost:8080/"
        },
        "id": "xC9akYr-7-WJ",
        "outputId": "36b746d7-1c33-4d1c-a1d3-01ff03694a27"
      },
      "source": [
        "# input - 6.5 for X1, for (6.5)^2 for X2, (6.5)^3 for X3, ......\n",
        "\n",
        "input_pred = poly_reg.fit_transform([[6.5]])\n",
        "\n",
        "lin_reg_2.predict(input_pred)\n",
        "\n",
        "# good prediction using a non-linear regression model"
      ],
      "execution_count": 43,
      "outputs": [
        {
          "output_type": "execute_result",
          "data": {
            "text/plain": [
              "array([158862.45265155])"
            ]
          },
          "metadata": {
            "tags": []
          },
          "execution_count": 43
        }
      ]
    },
    {
      "cell_type": "code",
      "metadata": {
        "id": "EwwvNab79EAS"
      },
      "source": [
        ""
      ],
      "execution_count": null,
      "outputs": []
    }
  ]
}