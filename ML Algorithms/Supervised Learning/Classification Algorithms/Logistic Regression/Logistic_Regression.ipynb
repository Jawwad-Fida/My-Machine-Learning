{
  "nbformat": 4,
  "nbformat_minor": 0,
  "metadata": {
    "colab": {
      "name": "Logistic_Regression.ipynb",
      "provenance": [],
      "collapsed_sections": [],
      "toc_visible": true
    },
    "kernelspec": {
      "name": "python3",
      "display_name": "Python 3"
    },
    "language_info": {
      "name": "python"
    }
  },
  "cells": [
    {
      "cell_type": "code",
      "metadata": {
        "id": "tlTBskqFHEZ7"
      },
      "source": [
        "%matplotlib inline\n",
        "import numpy as np\n",
        "import matplotlib.pyplot as plt\n",
        "from scipy import optimize"
      ],
      "execution_count": 103,
      "outputs": []
    },
    {
      "cell_type": "markdown",
      "metadata": {
        "id": "QJYeLwXvHRtY"
      },
      "source": [
        "## Tools\n",
        "\n",
        "1. Numpy --> array and matrix (vector) operations\n",
        "2. Matplotlib --> visualization and plotting\n",
        "3. Scipy --> scientific and numerical computation functions and tools (optimization module)"
      ]
    },
    {
      "cell_type": "markdown",
      "metadata": {
        "id": "V7XbCRNjODSJ"
      },
      "source": [
        "**Binary classification - 2 features and 1 label (0 or 1)**\n",
        "\n",
        "you will build a logistic regression model to predict whether a student gets admitted into a university. \n",
        "\n",
        "Suppose that you are the administrator of a university department and you want to determine each applicant’s chance of admission based on their results on two exams. \n",
        "\n",
        "You have historical data from previous applicants that you can use as a training set for logistic regression. For each training example, you have the applicant’s scores on two exams and the admissions decision. \n",
        "\n",
        "Your task is to build a classification model that estimates an applicant’s probability of admission based the scores from those two exams."
      ]
    },
    {
      "cell_type": "markdown",
      "metadata": {
        "id": "974JpT_COZGk"
      },
      "source": [
        "## 1) Load the Dataset"
      ]
    },
    {
      "cell_type": "code",
      "metadata": {
        "id": "xTyNcJAPH1Fw"
      },
      "source": [
        "# Load the dataset\n",
        "data = np.loadtxt('ex2data1.txt', delimiter=',')\n",
        "\n",
        "# The first two columns contains the exam scores and the third column contains the label \n",
        "\n",
        "# Split the dataset into features and labels\n",
        "X, y = data[:, 0:2], data[:, 2]"
      ],
      "execution_count": 104,
      "outputs": []
    },
    {
      "cell_type": "code",
      "metadata": {
        "colab": {
          "base_uri": "https://localhost:8080/"
        },
        "id": "Kb-3c4szO5yk",
        "outputId": "acc58b67-1e59-40df-fcc9-211fa8b3fea6"
      },
      "source": [
        "len(X), len(y)"
      ],
      "execution_count": 105,
      "outputs": [
        {
          "output_type": "execute_result",
          "data": {
            "text/plain": [
              "(100, 100)"
            ]
          },
          "metadata": {
            "tags": []
          },
          "execution_count": 105
        }
      ]
    },
    {
      "cell_type": "code",
      "metadata": {
        "colab": {
          "base_uri": "https://localhost:8080/"
        },
        "id": "UX002xLmO7ex",
        "outputId": "96c4260a-6c45-4e37-b2fa-ade3300aafae"
      },
      "source": [
        "X.shape, y.shape"
      ],
      "execution_count": 106,
      "outputs": [
        {
          "output_type": "execute_result",
          "data": {
            "text/plain": [
              "((100, 2), (100,))"
            ]
          },
          "metadata": {
            "tags": []
          },
          "execution_count": 106
        }
      ]
    },
    {
      "cell_type": "markdown",
      "metadata": {
        "id": "rmN3z5PWPH1x"
      },
      "source": [
        "## 2) Plot and Visualize the data"
      ]
    },
    {
      "cell_type": "markdown",
      "metadata": {
        "id": "ues8HxW5PUiK"
      },
      "source": [
        "Before starting to implement any learning algorithm, it is always good to visualize the data if possible.\n",
        "\n",
        "display a figure where the axes are the two exam scores, and the positive and negative examples are shown with different markers.\n",
        "\n"
      ]
    },
    {
      "cell_type": "markdown",
      "metadata": {
        "id": "BPIJjsIMQCGP"
      },
      "source": [
        "* == in python --> used to check whether 2 expressions give the same value (compares the value or equality of two objects)\n",
        "* k --> black color. * and o are just symbols\n",
        "* 0, 1 are the first 2 columns --> represent 2 exams scores\n",
        "* X[pos,0] --> positive samples(rows) in 1st column \n",
        "* X[neg,1] --> negative samples(rows) in 2nd column\n",
        "* mec --> marker edge colour, mfc --> markfer face colour, ms --> marker size, mew --> marker edge width "
      ]
    },
    {
      "cell_type": "code",
      "metadata": {
        "id": "YSoC3JG7O-G3"
      },
      "source": [
        "\"\"\"\n",
        "    Plots the data points X and y into a new figure. Plots the data \n",
        "    points with * for the positive examples and o for the negative examples.\n",
        "    \n",
        "    Parameters\n",
        "    ----------\n",
        "    X : array_like\n",
        "        An mx2 matrix representing the features of the dataset. [m --> no. of training samples]\n",
        "    \n",
        "    y : array_like\n",
        "        Label values for the dataset. A vector of size (m, ) i.e. mx1 vector\n",
        "    \n",
        "    Instructions\n",
        "    ------------\n",
        "    Plot the positive and negative examples on a 2D plot, using the\n",
        "    option 'k*' for the positive examples and 'ko' for the negative examples.    \n",
        "    \"\"\""
      ],
      "execution_count": null,
      "outputs": []
    },
    {
      "cell_type": "code",
      "metadata": {
        "id": "ie48J7wySTJK"
      },
      "source": [
        "def plotData(X,y):\n",
        "  figure = plt.figure(figsize=(8,6))\n",
        "\n",
        "  # Find indices of pos and neg samples\n",
        "  pos = y == 1\n",
        "  neg = y == 0\n",
        "\n",
        "  # Plot the samples\n",
        "  plt.plot(X[pos,0], X[pos,1],'k*', lw=2, ms=10) # postive samples\n",
        "  plt.plot(X[neg,0], X[neg,1],'ko', mfc='y', ms=8, mec='k', mew=1) # negative samples\n",
        "\n",
        "  # Add axis label\n",
        "  plt.xlabel(\"Exam 1 score\")\n",
        "  plt.ylabel(\"Exam 2 score\")\n",
        "  plt.legend(['Admitted','Not Admitted']) # 1 --> admitted(pos), 0 --> not admitted(neg)\n",
        "  # plt.show()\n",
        "\n",
        "  # print(X)\n",
        "  # print(pos)\n",
        "  # print(X[pos,0])"
      ],
      "execution_count": 108,
      "outputs": []
    },
    {
      "cell_type": "code",
      "metadata": {
        "colab": {
          "base_uri": "https://localhost:8080/",
          "height": 388
        },
        "id": "KsV88oweUO3o",
        "outputId": "5c44492e-a01c-4ef7-a54c-8252fafbc828"
      },
      "source": [
        "plotData(X,y)"
      ],
      "execution_count": 109,
      "outputs": [
        {
          "output_type": "display_data",
          "data": {
            "image/png": "[encoded data removed]",
            "text/plain": [
              "<Figure size 576x432 with 1 Axes>"
            ]
          },
          "metadata": {
            "tags": [],
            "needs_background": "light"
          }
        }
      ]
    },
    {
      "cell_type": "markdown",
      "metadata": {
        "id": "Y_w_pa6GUqz9"
      },
      "source": [
        "## 3) Implementation of Algorithm"
      ]
    },
    {
      "cell_type": "markdown",
      "metadata": {
        "id": "VInRz2gQUvnI"
      },
      "source": [
        "### 3.1) Sigmoid Function"
      ]
    },
    {
      "cell_type": "markdown",
      "metadata": {
        "id": "lZ7JGfakUyQ1"
      },
      "source": [
        "the logistic regression hypothesis is defined as:\n",
        "\n",
        "$$ h_\\theta(x) = g(\\theta^T x)$$\n",
        "\n",
        "where function $g$ is the sigmoid function. The sigmoid function is defined as: \n",
        "\n",
        "$$g(z) = \\frac{1}{1+e^{-z}}$$\n",
        "\n",
        "For large positive values of `x`, the sigmoid should be close to 1, while for large negative values, the sigmoid should be close to 0. Evaluating `sigmoid(0)` should give you exactly 0.5.\n",
        "<a id=\"sigmoid\"></a>"
      ]
    },
    {
      "cell_type": "code",
      "metadata": {
        "id": "1S62H7FnUiVQ"
      },
      "source": [
        "    \"\"\"\n",
        "    Compute sigmoid function given the input z.\n",
        "    \n",
        "    Parameters\n",
        "    ----------\n",
        "    z : array_like\n",
        "        The input to the sigmoid function. This can be a 1-D vector \n",
        "        or a 2-D matrix or scalar. \n",
        "    \n",
        "    Returns\n",
        "    -------\n",
        "    g : array_like\n",
        "        The computed sigmoid function. g has the same shape as z, since\n",
        "        the sigmoid is computed element-wise on z.\n",
        "        \n",
        "    ------------\n",
        "    Compute the sigmoid of each value of z (z can be a matrix, vector or scalar).\n",
        "    \"\"\""
      ],
      "execution_count": null,
      "outputs": []
    },
    {
      "cell_type": "code",
      "metadata": {
        "id": "6G4tw3_oSDzp"
      },
      "source": [
        "def sigmoid(z):\n",
        "  # convert input into numpy array\n",
        "  z = np.array(z)\n",
        "\n",
        "  # shape of g will be exactly the same shape as z\n",
        "  g = np.zeros(z.shape) # creating a matrix\n",
        "\n",
        "  # algorithm\n",
        "  g = 1/(1+np.exp(-z))\n",
        "\n",
        "  return g"
      ],
      "execution_count": 111,
      "outputs": []
    },
    {
      "cell_type": "code",
      "metadata": {
        "colab": {
          "base_uri": "https://localhost:8080/"
        },
        "id": "fXxgYHJ-SKNG",
        "outputId": "0011079c-9d08-40ed-d00e-653ee2cc20c4"
      },
      "source": [
        "# Test the implementation of sigmoid function \n",
        "z = 0\n",
        "g = sigmoid(z)\n",
        "print(f'g ({z}) = {g}')"
      ],
      "execution_count": 112,
      "outputs": [
        {
          "output_type": "stream",
          "text": [
            "g (0) = 0.5\n"
          ],
          "name": "stdout"
        }
      ]
    },
    {
      "cell_type": "markdown",
      "metadata": {
        "id": "kAHiNnwPTGBU"
      },
      "source": [
        "### 3.2) Cost function and Gradient descent\n",
        "\n",
        "*  Before proceeding we add the intercept term to X"
      ]
    },
    {
      "cell_type": "code",
      "metadata": {
        "id": "aoE_NosgTELk"
      },
      "source": [
        "# Setup the data matrix appropriately\n",
        "m, n = X.shape # (sample,features)\n",
        "# m --> training samples(rows), n --> features(columns)\n",
        "\n",
        "# Add intercept term X0=1 to X\n",
        "X = np.concatenate([np.ones((m, 1)), X], axis=1) # matrix"
      ],
      "execution_count": 113,
      "outputs": []
    },
    {
      "cell_type": "markdown",
      "metadata": {
        "id": "pMqLILI6TKLE"
      },
      "source": [
        "the cost function in logistic regression is\n",
        "\n",
        "$$ J(\\theta) = \\frac{1}{m} \\sum_{i=1}^{m} \\left[ -y^{(i)} \\log\\left(h_\\theta\\left( x^{(i)} \\right) \\right) - \\left( 1 - y^{(i)}\\right) \\log \\left( 1 - h_\\theta\\left( x^{(i)} \\right) \\right) \\right]$$\n",
        "\n",
        "and the gradient descent of the cost is a vector of the same length as $\\theta$ where the $j^{th}$\n",
        "element (for $j = 0, 1, \\cdots , n$) is defined as follows:\n",
        "\n",
        "$$ \\frac{\\partial J(\\theta)}{\\partial \\theta_j} = \\frac{1}{m} \\sum_{i=1}^m \\left( h_\\theta \\left( x^{(i)} \\right) - y^{(i)} \\right) x_j^{(i)} $$\n",
        "\n",
        "<a id=\"costFunction\"></a>"
      ]
    },
    {
      "cell_type": "code",
      "metadata": {
        "id": "GVZA-dUHTWGv"
      },
      "source": [
        "    \"\"\"\n",
        "    Compute cost and gradient descent for logistic regression. \n",
        "    \n",
        "    Parameters\n",
        "    ----------\n",
        "    theta : array_like\n",
        "        The parameters for logistic regression. This a vector\n",
        "        of shape (n+1, ). i.e. (n+1)x1 vector\n",
        "    \n",
        "    X : array_like\n",
        "        The input dataset of shape (m x n+1) where m is the total number\n",
        "        of data points and n is the number of features.\n",
        "    \n",
        "    y : array_like\n",
        "        Labels for the input. This is a vector of shape (m, ). i.e. mx1 vector\n",
        "    \n",
        "    Returns\n",
        "    -------\n",
        "    J : float\n",
        "        The computed value for the cost function. (min J)\n",
        "    \n",
        "    grad : array_like\n",
        "        A vector of shape (n+1, ) which is the gradient of the cost\n",
        "        function with respect to theta, at the current values of theta. (optimial theta that minimizes the cost function J)\n",
        "    \"\"\""
      ],
      "execution_count": null,
      "outputs": []
    },
    {
      "cell_type": "code",
      "metadata": {
        "id": "-ijVjst5Trqb"
      },
      "source": [
        "def costFunction(theta, X, y):\n",
        "\n",
        "  # Initialize some useful values\n",
        "  m = y.size # no. of training samples (rows of X = rows of y)\n",
        "\n",
        "  J = 0\n",
        "  grad = np.zeros(theta.shape) # paramters theta\n",
        "\n",
        "  # Algorithm\n",
        "  h = sigmoid(X.dot(theta.T)) \n",
        "\n",
        "  J =-(1/m) * (y.dot(np.log(h))+(1-y).dot(np.log(1-h)))\n",
        "\n",
        "  grad = (1/m) * (h-y).dot(X)\n",
        "\n",
        "  return J,grad\n"
      ],
      "execution_count": 115,
      "outputs": []
    },
    {
      "cell_type": "code",
      "metadata": {
        "id": "8sLIVG-9c9b7",
        "colab": {
          "base_uri": "https://localhost:8080/"
        },
        "outputId": "3efa7307-b531-4f5d-975b-61306fba6318"
      },
      "source": [
        "# use two test cases for 𝜃  \n",
        "\n",
        "# 1st test case of 𝜃 --> 𝜃 is all 0s\n",
        "\n",
        "initial_theta = np.zeros(n+1) # n+1 because of the addition of X0 = 1\n",
        "\n",
        "cost, grad = costFunction(initial_theta, X, y)\n",
        "\n",
        "print('Cost at theta (zeros): {:.3f}'.format(cost))\n",
        "\n",
        "print('Gradient at theta (zeros):')\n",
        "print('\\t[{:.4f}, {:.4f}, {:.4f}]'.format(*grad)) # *grad -> * collects all the positional arguments in a tuple."
      ],
      "execution_count": 116,
      "outputs": [
        {
          "output_type": "stream",
          "text": [
            "Cost at theta (zeros): 0.693\n",
            "Gradient at theta (zeros):\n",
            "\t[-0.1000, -12.0092, -11.2628]\n"
          ],
          "name": "stdout"
        }
      ]
    },
    {
      "cell_type": "code",
      "metadata": {
        "colab": {
          "base_uri": "https://localhost:8080/"
        },
        "id": "oPYzJ0psEQdq",
        "outputId": "bccedadb-ae63-4e97-96af-209fe55969ce"
      },
      "source": [
        "# 2nd test case of 𝜃 --> 𝜃 is non-zero\n",
        "\n",
        "test_theta = np.array([-24, 0.2, 0.2]) # n+1 \n",
        "cost, grad = costFunction(test_theta, X, y)\n",
        "\n",
        "print('Cost at test theta: {:.3f}'.format(cost))\n",
        "\n",
        "print('Gradient at test theta:')\n",
        "print('\\t[{:.3f}, {:.3f}, {:.3f}]'.format(*grad))"
      ],
      "execution_count": 117,
      "outputs": [
        {
          "output_type": "stream",
          "text": [
            "Cost at test theta: 0.218\n",
            "Gradient at test theta:\n",
            "\t[0.043, 2.566, 2.647]\n"
          ],
          "name": "stdout"
        }
      ]
    },
    {
      "cell_type": "markdown",
      "metadata": {
        "id": "8DleQSbhJpkX"
      },
      "source": [
        "### Learning parameters using scipy.optimize"
      ]
    },
    {
      "cell_type": "markdown",
      "metadata": {
        "id": "BsNt6bRpJvBD"
      },
      "source": [
        "This time, instead of taking gradient descent steps, you will use the [`scipy.optimize` module](https://docs.scipy.org/doc/scipy/reference/optimize.html). \n",
        "\n",
        "**SciPy** is a numerical computing library for `python`. It provides an **optimization module for root finding and minimization.** \n",
        "\n",
        "As of `scipy 1.0`, the function `scipy.optimize.minimize` is the method to use for optimization problems(both constrained and unconstrained).\n",
        "\n",
        "For logistic regression, to optimize the cost function $J(\\theta)$ with parameters $\\theta$, we are going to use `optimize.minimize` to find the best parameters $\\theta$ for the logistic regression cost function, given a fixed dataset (of X and y values). \n",
        "\n",
        "You will pass to `optimize.minimize` the following inputs:\n",
        "- `costFunction`: A cost function that, when given the training set and a particular $\\theta$, computes the logistic regression cost and gradient with respect to $\\theta$ for the dataset (X, y). It is important to note that we only pass the name of the function without the parenthesis. This indicates that we are only providing a reference to this function, and not evaluating the result from this function.\n",
        "- `initial_theta`: The initial values of the parameters we are trying to optimize.\n",
        "- `(X, y)`: These are additional arguments to the cost function.\n",
        "- `jac`: Indication if the cost function returns the Jacobian (gradient) along with cost value. (True)\n",
        "- `method`: Optimization method/algorithm to use\n",
        "- `options`: Additional options which might be specific to the specific optimization method. In the following, we only tell the algorithm the maximum number of iterations before it terminates.\n",
        "\n",
        "If we have completed the `costFunction` correctly, `optimize.minimize` will converge on the right optimization parameters and return the final values of the cost and $\\theta$ in a class object. By using `optimize.minimize`, we did not have to write any loops, or set a learning rate for gradient descent. This is all done by `optimize.minimize`: you only needed to provide a function calculating the cost and the gradient."
      ]
    },
    {
      "cell_type": "markdown",
      "metadata": {
        "id": "jdAjjLxmNgwy"
      },
      "source": [
        "* see documention for scipy's optimize.minimize  for description about the different parameters\n",
        "* The function returns an object `OptimizeResult`\n",
        "* We use truncated Newton algorithm for optimization which is equivalent to MATLAB's fminunc\n",
        "* See https://stackoverflow.com/questions/18801002/fminunc-alternate-in-numpy"
      ]
    },
    {
      "cell_type": "code",
      "metadata": {
        "colab": {
          "base_uri": "https://localhost:8080/"
        },
        "id": "EiZ5YeSGJcsJ",
        "outputId": "dd5a8d22-7a7b-4446-c1fd-80cc48db25d5"
      },
      "source": [
        "initial_theta = np.zeros(n+1) # 1st test case of 𝜃 --> 𝜃 is all 0s\n",
        "\n",
        "# set options for optimize.minimize\n",
        "options = {'maxiter': 400} # maximum number of iterations of the algorithm before it terminates.\n",
        "\n",
        "result = optimize.minimize(costFunction, # reference to the function above\n",
        "                        initial_theta,\n",
        "                        (X, y),\n",
        "                        jac=True,\n",
        "                        method='TNC',\n",
        "                        options=options)\n",
        "\n",
        "# the fun property of `OptimizeResult` object returns the value of costFunction at optimized theta\n",
        "cost = result.fun\n",
        "\n",
        "# the optimized theta is in the x property\n",
        "theta = result.x\n",
        "\n",
        "print('Cost(J) at theta found by optimize.minimize: {:.3f}'.format(cost))\n",
        "\n",
        "print('theta:')\n",
        "print('\\t[{:.3f}, {:.3f}, {:.3f}]'.format(*theta)) # 3 thetas --> n+1"
      ],
      "execution_count": 118,
      "outputs": [
        {
          "output_type": "stream",
          "text": [
            "Cost(J) at theta found by optimize.minimize: 0.203\n",
            "theta:\n",
            "\t[-25.161, 0.206, 0.201]\n"
          ],
          "name": "stdout"
        }
      ]
    },
    {
      "cell_type": "markdown",
      "metadata": {
        "id": "vBZWwfhnPgiN"
      },
      "source": [
        "Once `optimize.minimize` completes, we want to use the final value for $\\theta$ to visualize the decision boundary on the training data as shown in the figure below. \n",
        "\n",
        "To do so, write a function `plotDecisionBoundary` for plotting the decision boundary on top of training data.  \n",
        "\n",
        "look at the code in `plotDecisionBoundary` to see how to plot such a boundary using the $\\theta$ values."
      ]
    },
    {
      "cell_type": "code",
      "metadata": {
        "id": "BZKRwd_1QqkP"
      },
      "source": [
        "    \"\"\"\n",
        "    Plots the data points X and y into a new figure with the decision boundary defined by theta.\n",
        "    Plots the data points with * for the positive examples and o for  the negative examples.\n",
        "\n",
        "    Parameters\n",
        "    ----------\n",
        "    plotData : func\n",
        "        A function reference for plotting the X, y data.\n",
        "\n",
        "    theta : array_like\n",
        "        Parameters for logistic regression. A vector of shape (n+1, ).\n",
        "\n",
        "    X : array_like\n",
        "        The input dataset. X is assumed to be  a either:\n",
        "            1) Mx3 matrix, where the first column is an all ones column for the intercept.\n",
        "            2) MxN, N>3 matrix, where the first column is all ones.\n",
        "\n",
        "    y : array_like\n",
        "        Vector of data labels of shape (m, ).\n",
        "    \"\"\""
      ],
      "execution_count": null,
      "outputs": []
    },
    {
      "cell_type": "code",
      "metadata": {
        "id": "SZa-EoyLPaxN"
      },
      "source": [
        "### ** Understand this complicated function\n",
        "\n",
        "def plotDecisionBoundary(plotData, theta, X, y):\n",
        "\n",
        "    # make sure theta is a numpy array\n",
        "    theta = np.array(theta)\n",
        "\n",
        "    # Plot Data (remember first column in X is the intercept)\n",
        "    plotData(X[:, 1:3], y)\n",
        "\n",
        "    if X.shape[1] <= 3:\n",
        "        # Only need 2 points to define a line, so choose two endpoints\n",
        "        plot_x = np.array([np.min(X[:, 1]) - 2, np.max(X[:, 1]) + 2])\n",
        "\n",
        "        # Calculate the decision boundary line\n",
        "        plot_y = (-1. / theta[2]) * (theta[1] * plot_x + theta[0])\n",
        "\n",
        "        # Plot, and adjust axes for better viewing\n",
        "        plt.plot(plot_x, plot_y)\n",
        "\n",
        "        # Legend, specific for the exercise\n",
        "        plt.legend(['Admitted', 'Not admitted', 'Decision Boundary'])\n",
        "        plt.xlim([30, 100])\n",
        "        plt.ylim([30, 100])\n",
        "    else:\n",
        "        # Here is the grid range\n",
        "        u = np.linspace(-1, 1.5, 50)\n",
        "        v = np.linspace(-1, 1.5, 50)\n",
        "\n",
        "        z = np.zeros((u.size, v.size))\n",
        "        # Evaluate z = theta*x over the grid\n",
        "        \n",
        "        for i, ui in enumerate(u):\n",
        "            for j, vj in enumerate(v):\n",
        "                z[i, j] = np.dot(mapFeature(ui, vj), theta)\n",
        "\n",
        "        z = z.T  # important to transpose z before calling contour\n",
        "        # print(z)\n",
        "\n",
        "        # Plot z = 0\n",
        "        plt.contour(u, v, z, levels=[0], linewidths=2, colors='g')\n",
        "        plt.contourf(u, v, z, levels=[np.min(z), 0, np.max(z)], cmap='Greens', alpha=0.4)"
      ],
      "execution_count": 119,
      "outputs": []
    },
    {
      "cell_type": "code",
      "metadata": {
        "colab": {
          "base_uri": "https://localhost:8080/",
          "height": 392
        },
        "id": "77bwHZzwP1_A",
        "outputId": "e4e0ec32-03f2-4c5d-d1d7-7671debb4a70"
      },
      "source": [
        "plotDecisionBoundary(plotData, theta, X, y)"
      ],
      "execution_count": 120,
      "outputs": [
        {
          "output_type": "display_data",
          "data": {
            "image/png": "[encoded data removed]",
            "text/plain": [
              "<Figure size 576x432 with 1 Axes>"
            ]
          },
          "metadata": {
            "tags": [],
            "needs_background": "light"
          }
        }
      ]
    },
    {
      "cell_type": "markdown",
      "metadata": {
        "id": "NLN51JtpRRdD"
      },
      "source": [
        "## 4) Evaluating Logistic Regression"
      ]
    },
    {
      "cell_type": "markdown",
      "metadata": {
        "id": "ZLSJsRwiRUuC"
      },
      "source": [
        "After learning the parameters, use the model to predict whether a particular student will be admitted or not. \n",
        "\n",
        "Another way to evaluate the quality of the parameters found is to see how well the learned model predicts on training set.\n",
        "\n",
        "The predict function will produce “1” or “0” predictions given a dataset and a learned parameter vector $\\theta$. \n"
      ]
    },
    {
      "cell_type": "code",
      "metadata": {
        "id": "iDro8QxIP3wk"
      },
      "source": [
        "    \"\"\"\n",
        "    Predict whether the label is 0 or 1 using learned logistic regression.\n",
        "    \n",
        "    Computes the predictions for X using a threshold at 0.5 \n",
        "    (i.e., if sigmoid(theta.T*x) >= 0.5, predict 1)\n",
        "    \n",
        "    Parameters\n",
        "    ----------\n",
        "    theta : array_like\n",
        "        Parameters for logistic regression. A vecotor of shape (n+1, ). (n+1)x1 vector\n",
        "    \n",
        "    X : array_like\n",
        "        The data to use for computing predictions. The rows is the number \n",
        "        of points to compute predictions, and columns is the number of\n",
        "        features.\n",
        "\n",
        "    Returns\n",
        "    -------\n",
        "    p : array_like\n",
        "        Predictions, and 0 or 1 for each row in X. \n",
        "      \n",
        "    \"\"\""
      ],
      "execution_count": null,
      "outputs": []
    },
    {
      "cell_type": "code",
      "metadata": {
        "id": "M2XdG3RWZOYf"
      },
      "source": [
        "def predict(theta, X):\n",
        "\n",
        "  m = y.shape # or X[0].shape --> no. of training samples\n",
        "\n",
        "  p = np.zeros(m) # create a matrix with same shape as m\n",
        "\n",
        "  # use hypthothesis function for prediction\n",
        "  h = sigmoid(X.dot(theta.T)) \n",
        "\n",
        "  p = np.round(h)\n",
        "  return p"
      ],
      "execution_count": 123,
      "outputs": []
    },
    {
      "cell_type": "markdown",
      "metadata": {
        "id": "HX62lFtFcY_t"
      },
      "source": [
        "### 4.1) Predicting values on new X"
      ]
    },
    {
      "cell_type": "code",
      "metadata": {
        "colab": {
          "base_uri": "https://localhost:8080/"
        },
        "id": "nHbVkNleaLOG",
        "outputId": "65d691ef-23ca-4a98-c457-fa1886e5cd34"
      },
      "source": [
        "#  Predict probability of admission for a student with score 45 on exam 1 and score 85 on exam 2 \n",
        "\n",
        "# Prediction is done using hypothesis function\n",
        "g = np.dot([1, 45, 85], theta) # the optimized theta\n",
        "prob = sigmoid(g)\n",
        "\n",
        "print('For a student with scores 45 and 85,'\n",
        "      'we predict an admission probability of {:.3f}'.format(prob))\n",
        "\n",
        "if prob >= 0.5:\n",
        "  print(\"sigmoid(theta.T*x) >= 0.5 --> y = 1. So the student is admitted\")\n",
        "else:\n",
        "  print(\"sigmoid(theta.T*x) < 0.5 --> y = 0. So the student is not admitted\")"
      ],
      "execution_count": 127,
      "outputs": [
        {
          "output_type": "stream",
          "text": [
            "For a student with scores 45 and 85,we predict an admission probability of 0.776\n",
            "sigmoid(theta.T*x) >= 0.5 --> y = 1. So the student is admitted\n"
          ],
          "name": "stdout"
        }
      ]
    },
    {
      "cell_type": "markdown",
      "metadata": {
        "id": "tdLGq5F2ctor"
      },
      "source": [
        "### 4.2) Compute accuracy of Training Set"
      ]
    },
    {
      "cell_type": "markdown",
      "metadata": {
        "id": "iK_MFqjob_0n"
      },
      "source": [
        "report the training accuracy of your classifier by computing the percentage of examples it got correct."
      ]
    },
    {
      "cell_type": "code",
      "metadata": {
        "colab": {
          "base_uri": "https://localhost:8080/"
        },
        "id": "0B476vFta5I8",
        "outputId": "c9e185d7-36ed-49fd-f38f-9f8603df402f"
      },
      "source": [
        "# Compute accuracy on our training set - we use mean() of samples here to compute accuracy\n",
        "\n",
        "p = predict(theta,X) # the optimized theta\n",
        "print('Train Accuracy: {:.2f} %'.format(np.mean(p == y) * 100))"
      ],
      "execution_count": 128,
      "outputs": [
        {
          "output_type": "stream",
          "text": [
            "Train Accuracy: 89.00 %\n"
          ],
          "name": "stdout"
        }
      ]
    }
  ]
}