{
  "nbformat": 4,
  "nbformat_minor": 0,
  "metadata": {
    "colab": {
      "name": "Grid Search CV - Hyperparameter Tuning.ipynb",
      "provenance": [],
      "collapsed_sections": []
    },
    "kernelspec": {
      "name": "python3",
      "display_name": "Python 3"
    },
    "language_info": {
      "name": "python"
    }
  },
  "cells": [
    {
      "cell_type": "markdown",
      "metadata": {
        "id": "ozVX4Kx6DXLS"
      },
      "source": [
        "## Hyperparameter tuning with [GridSearchCV](https://scikit-learn.org/stable/modules/generated/sklearn.model_selection.GridSearchCV.html)\n",
        "\n",
        "GridSearchCV searches across a grid of hyperparamters exhaustively"
      ]
    },
    {
      "cell_type": "markdown",
      "metadata": {
        "id": "Y7ptWVVviuug"
      },
      "source": [
        "## **To understand k-fold cross validation and hyperparameter tuning, we will implement SVM**"
      ]
    },
    {
      "cell_type": "markdown",
      "metadata": {
        "id": "LLpqHG1wUa-E"
      },
      "source": [
        "## Import the libraries"
      ]
    },
    {
      "cell_type": "code",
      "metadata": {
        "id": "xwk01wKSUT3z"
      },
      "source": [
        "import numpy as np\n",
        "import matplotlib.pyplot as plt\n",
        "import pandas as pd\n",
        "import seaborn as sns"
      ],
      "execution_count": null,
      "outputs": []
    },
    {
      "cell_type": "markdown",
      "metadata": {
        "id": "4VcwZ6LFW7Fm"
      },
      "source": [
        "## Data Preprocessing"
      ]
    },
    {
      "cell_type": "markdown",
      "metadata": {
        "id": "845zMzHNW9wJ"
      },
      "source": [
        "### Importing the dataset\n",
        "\n",
        "Based on a customer's age and estimated salary, predict whether the customer will buy a SUV or not (1/0)\n",
        "\n",
        "Binary Classification problem"
      ]
    },
    {
      "cell_type": "code",
      "metadata": {
        "id": "7NSzi_GhW4fT"
      },
      "source": [
        "data = pd.read_csv(\"Social_Network_Ads.csv\")\n",
        "\n",
        "# Split into X features and y label\n",
        "X = data.iloc[:,:-1].values\n",
        "y = data.iloc[:,-1].values"
      ],
      "execution_count": null,
      "outputs": []
    },
    {
      "cell_type": "markdown",
      "metadata": {
        "id": "okZ31arVXOkt"
      },
      "source": [
        "### Split dataset into Train and Test set"
      ]
    },
    {
      "cell_type": "code",
      "metadata": {
        "id": "lagrADMwXL4n"
      },
      "source": [
        "from sklearn.model_selection import train_test_split\n",
        "\n",
        "X_train, X_test, y_train, y_test = train_test_split(X, y, test_size=0.25, random_state=0)\n",
        "\n",
        "# train --> 75% of data, # test --> 25% of data"
      ],
      "execution_count": null,
      "outputs": []
    },
    {
      "cell_type": "code",
      "metadata": {
        "colab": {
          "base_uri": "https://localhost:8080/"
        },
        "id": "8i48S5ImXrwI",
        "outputId": "75ba7e8f-8c33-4cdf-9130-be61f5b6c5e2"
      },
      "source": [
        "print(y_train)"
      ],
      "execution_count": null,
      "outputs": [
        {
          "output_type": "stream",
          "name": "stdout",
          "text": [
            "[0 1 0 1 1 1 0 0 0 0 0 0 1 1 1 0 1 0 0 1 0 1 0 1 0 0 1 1 1 1 0 1 0 1 0 0 1\n",
            " 0 0 1 0 0 0 0 0 1 1 1 1 0 0 0 1 0 1 0 1 0 0 1 0 0 0 1 0 0 0 1 1 0 0 1 0 1\n",
            " 1 1 0 0 1 1 0 0 1 1 0 1 0 0 1 1 0 1 1 1 0 0 0 0 0 1 0 0 1 1 1 1 1 0 1 1 0\n",
            " 1 0 0 0 0 0 0 0 1 1 0 0 1 0 0 1 0 0 0 1 0 1 1 0 1 0 0 0 0 1 0 0 0 1 1 0 0\n",
            " 0 0 1 0 1 0 0 0 1 0 0 0 0 1 1 1 0 0 0 0 0 0 1 1 1 1 1 0 1 0 0 0 0 0 1 0 0\n",
            " 0 0 0 0 1 1 0 1 0 1 0 0 1 0 0 0 1 0 0 0 0 0 1 0 0 0 0 0 1 0 1 1 0 0 0 0 0\n",
            " 0 1 1 0 0 0 0 1 0 0 0 0 1 0 1 0 1 0 0 0 1 0 0 0 1 0 1 0 0 0 0 0 1 1 0 0 0\n",
            " 0 0 1 0 1 1 0 0 0 0 0 1 0 1 0 0 1 0 0 1 0 1 0 0 0 0 0 0 1 1 1 1 0 0 0 0 1\n",
            " 0 0 0 0]\n"
          ]
        }
      ]
    },
    {
      "cell_type": "markdown",
      "metadata": {
        "id": "ju9NexRQX55v"
      },
      "source": [
        "### Feature Scaling\n",
        "\n",
        "Before training any SVM model, it is better to do feature scaling on the features"
      ]
    },
    {
      "cell_type": "code",
      "metadata": {
        "id": "X1usaWiRXtJw"
      },
      "source": [
        "from sklearn.preprocessing import StandardScaler\n",
        "sc = StandardScaler()\n",
        "\n",
        "X_train = sc.fit_transform(X_train) # fit and transform on train set\n",
        "X_test = sc.transform(X_test) # only transform on test set"
      ],
      "execution_count": null,
      "outputs": []
    },
    {
      "cell_type": "markdown",
      "metadata": {
        "id": "zsQiItqnYiLy"
      },
      "source": [
        "## Training the SVM Model on the Training set"
      ]
    },
    {
      "cell_type": "code",
      "metadata": {
        "id": "JABeZ4gEYe4t",
        "colab": {
          "base_uri": "https://localhost:8080/"
        },
        "outputId": "e3bea920-cbcf-4c3a-88f1-04b35a230ae2"
      },
      "source": [
        "# The kernel that we will implement here --> Gaussian kernel (rbf) [Non linear Decision Boundary]\n",
        "\n",
        "from sklearn.svm import SVC\n",
        "\n",
        "classifier = SVC( kernel='rbf',random_state=0) # create object of SVM model\n",
        "# input --> kernel, random_state=0 - to get same results \n",
        "\n",
        "classifier.fit(X_train, y_train) # Train classifier - (indepenedent, dependent variable)"
      ],
      "execution_count": null,
      "outputs": [
        {
          "output_type": "execute_result",
          "data": {
            "text/plain": [
              "SVC(C=1.0, break_ties=False, cache_size=200, class_weight=None, coef0=0.0,\n",
              "    decision_function_shape='ovr', degree=3, gamma='scale', kernel='rbf',\n",
              "    max_iter=-1, probability=False, random_state=0, shrinking=True, tol=0.001,\n",
              "    verbose=False)"
            ]
          },
          "metadata": {},
          "execution_count": 6
        }
      ]
    },
    {
      "cell_type": "markdown",
      "metadata": {
        "id": "UC-JVa52azpk"
      },
      "source": [
        "## Predicting a new result \n",
        "\n",
        "Customer is 30 years old with an estimated salary of $87000"
      ]
    },
    {
      "cell_type": "code",
      "metadata": {
        "colab": {
          "base_uri": "https://localhost:8080/"
        },
        "id": "P7EK0xejasz8",
        "outputId": "d96fb660-ee8d-467c-8d8e-52ded4f41324"
      },
      "source": [
        "# predict input has to be --> 2D array\n",
        "# also, inputs has to be feature scaled --> as the model was trained on scaled features\n",
        "\n",
        "print(classifier.predict(sc.transform([[30, 87000]])))\n",
        "\n",
        "# [0] --> so customer will not buy an SUV"
      ],
      "execution_count": null,
      "outputs": [
        {
          "output_type": "stream",
          "name": "stdout",
          "text": [
            "[0]\n"
          ]
        }
      ]
    },
    {
      "cell_type": "markdown",
      "metadata": {
        "id": "Cpr7TxEobUnV"
      },
      "source": [
        "## Predicting the Test Set results"
      ]
    },
    {
      "cell_type": "code",
      "metadata": {
        "colab": {
          "base_uri": "https://localhost:8080/"
        },
        "id": "-ZiNVV4AbTkD",
        "outputId": "ae4c788d-25ab-49cb-eb21-c01acb5a65e3"
      },
      "source": [
        "y_pred = classifier.predict(X_test) # Predict results on new observations\n",
        "\n",
        "print(np.concatenate((y_pred.reshape(len(y_pred),1), y_test.reshape(len(y_test),1)),1))\n",
        "\n",
        "# [predicted actual]\n",
        "# [0 0], [1 1] --> correct predictions\n",
        "# [1 0], [0 1] --> wrong predictions"
      ],
      "execution_count": null,
      "outputs": [
        {
          "output_type": "stream",
          "name": "stdout",
          "text": [
            "[[0 0]\n",
            " [0 0]\n",
            " [0 0]\n",
            " [0 0]\n",
            " [0 0]\n",
            " [0 0]\n",
            " [0 0]\n",
            " [1 1]\n",
            " [0 0]\n",
            " [1 0]\n",
            " [0 0]\n",
            " [0 0]\n",
            " [0 0]\n",
            " [0 0]\n",
            " [0 0]\n",
            " [1 0]\n",
            " [0 0]\n",
            " [0 0]\n",
            " [1 1]\n",
            " [0 0]\n",
            " [0 0]\n",
            " [1 1]\n",
            " [0 0]\n",
            " [1 1]\n",
            " [0 0]\n",
            " [1 1]\n",
            " [0 0]\n",
            " [0 0]\n",
            " [0 0]\n",
            " [0 0]\n",
            " [0 0]\n",
            " [0 1]\n",
            " [1 1]\n",
            " [0 0]\n",
            " [0 0]\n",
            " [0 0]\n",
            " [0 0]\n",
            " [0 0]\n",
            " [0 0]\n",
            " [1 1]\n",
            " [0 0]\n",
            " [0 0]\n",
            " [0 0]\n",
            " [0 0]\n",
            " [1 1]\n",
            " [0 0]\n",
            " [0 0]\n",
            " [1 1]\n",
            " [0 0]\n",
            " [1 1]\n",
            " [1 1]\n",
            " [0 0]\n",
            " [0 0]\n",
            " [1 0]\n",
            " [1 1]\n",
            " [1 1]\n",
            " [0 0]\n",
            " [0 0]\n",
            " [1 1]\n",
            " [0 0]\n",
            " [0 0]\n",
            " [1 1]\n",
            " [0 0]\n",
            " [1 1]\n",
            " [0 0]\n",
            " [1 1]\n",
            " [0 0]\n",
            " [0 0]\n",
            " [0 0]\n",
            " [0 0]\n",
            " [1 1]\n",
            " [0 0]\n",
            " [0 0]\n",
            " [1 1]\n",
            " [0 0]\n",
            " [0 0]\n",
            " [0 0]\n",
            " [0 0]\n",
            " [1 1]\n",
            " [1 1]\n",
            " [1 1]\n",
            " [1 0]\n",
            " [0 0]\n",
            " [0 0]\n",
            " [1 1]\n",
            " [0 1]\n",
            " [0 0]\n",
            " [1 1]\n",
            " [1 1]\n",
            " [0 0]\n",
            " [0 0]\n",
            " [1 1]\n",
            " [0 0]\n",
            " [0 0]\n",
            " [0 0]\n",
            " [0 1]\n",
            " [0 0]\n",
            " [1 1]\n",
            " [1 1]\n",
            " [1 1]]\n"
          ]
        }
      ]
    },
    {
      "cell_type": "markdown",
      "metadata": {
        "id": "LICn8ksohY7E"
      },
      "source": [
        "## Confusion Matrix\n",
        "\n",
        "Find no. of incorrect predictions and correct predictions"
      ]
    },
    {
      "cell_type": "code",
      "metadata": {
        "id": "kiO28Ry6fhme"
      },
      "source": [
        "# Function to plot confusion matrix using Seaborn's heatmap()\n",
        "\n",
        "def plot_confusion_matrix(confuse_matrix):\n",
        "  fig,ax = plt.subplots(figsize=(8,6))\n",
        "\n",
        "  # Set the font scale\n",
        "  sns.set(font_scale=1.5)\n",
        "\n",
        "  ax = sns.heatmap(\n",
        "      confuse_matrix,\n",
        "      annot=True, # Annote the boxes\n",
        "      cbar=False\n",
        "  )\n",
        "\n",
        "  plt.ylabel(\"Predicted label\")\n",
        "  plt.xlabel(\"True label\")"
      ],
      "execution_count": null,
      "outputs": []
    },
    {
      "cell_type": "code",
      "metadata": {
        "colab": {
          "base_uri": "https://localhost:8080/"
        },
        "id": "D6cDuxARh2ev",
        "outputId": "be015bf2-9989-4fd5-ff24-8aa2d3d8e920"
      },
      "source": [
        "from sklearn.metrics import confusion_matrix, accuracy_score \n",
        "\n",
        "confuse_matrix = confusion_matrix(y_test,y_pred) # compare actual labels (test) with predicted labels\n",
        "print(confuse_matrix)\n",
        "\n",
        "accuracy_score(y_test, y_pred)"
      ],
      "execution_count": null,
      "outputs": [
        {
          "output_type": "stream",
          "name": "stdout",
          "text": [
            "[[64  4]\n",
            " [ 3 29]]\n"
          ]
        },
        {
          "output_type": "execute_result",
          "data": {
            "text/plain": [
              "0.93"
            ]
          },
          "metadata": {},
          "execution_count": 10
        }
      ]
    },
    {
      "cell_type": "code",
      "metadata": {
        "colab": {
          "base_uri": "https://localhost:8080/",
          "height": 388
        },
        "id": "D5kd6n23iQSw",
        "outputId": "0ad5c451-0334-4a83-f0ab-2b6a81aa5ae7"
      },
      "source": [
        "plot_confusion_matrix(confuse_matrix)"
      ],
      "execution_count": null,
      "outputs": [
        {
          "output_type": "display_data",
          "data": {
            "image/png": "[encoded data removed]",
            "text/plain": [
              "<Figure size 576x432 with 1 Axes>"
            ]
          },
          "metadata": {
            "needs_background": "light"
          }
        }
      ]
    },
    {
      "cell_type": "markdown",
      "metadata": {
        "id": "TJSKoo6Siy-8"
      },
      "source": [
        "when predict = 0 and actual = 0, we have 64 samples (correct sammples)\n",
        "\n",
        "when predict = 1 and actual = 1, we have 29 samples (correct sammples)\n",
        "\n",
        "false +ve --> when predict = 1 and actual = 0\n",
        "\n",
        "false -ve --> when predict = 0 and actual = 1"
      ]
    },
    {
      "cell_type": "markdown",
      "metadata": {
        "id": "PCvMh55YiZHQ"
      },
      "source": [
        "## Classification Report\n",
        "\n",
        "we need only accuracy, precision, and f1 score here"
      ]
    },
    {
      "cell_type": "code",
      "metadata": {
        "colab": {
          "base_uri": "https://localhost:8080/"
        },
        "id": "blJ4OGYjiQ_1",
        "outputId": "205cd2e3-c388-4cad-ecf9-9de04b6bee6e"
      },
      "source": [
        "from sklearn.metrics import classification_report\n",
        "print(classification_report(y_test,y_pred))"
      ],
      "execution_count": null,
      "outputs": [
        {
          "output_type": "stream",
          "name": "stdout",
          "text": [
            "              precision    recall  f1-score   support\n",
            "\n",
            "           0       0.96      0.94      0.95        68\n",
            "           1       0.88      0.91      0.89        32\n",
            "\n",
            "    accuracy                           0.93       100\n",
            "   macro avg       0.92      0.92      0.92       100\n",
            "weighted avg       0.93      0.93      0.93       100\n",
            "\n"
          ]
        }
      ]
    },
    {
      "cell_type": "markdown",
      "metadata": {
        "id": "kFjGkPhzirmF"
      },
      "source": [
        "* **Precision** - Indicates the proportion of positive identifications (model predicted class 1) which were actually correct. A model which produces no false positives has a precision of 1.0.\n",
        "* **Recall** - Indicates the proportion of actual positives which were correctly classified. A model which produces no false negatives has a recall of 1.0.\n",
        "* **F1 score** - A combination of precision and recall. A perfect model achieves an F1 score of 1.0.\n",
        "* **Accuracy** - The accuracy of the model in decimal form. Perfect accuracy is equal to 1.0, in other words, getting the prediction right 100% of the time."
      ]
    },
    {
      "cell_type": "markdown",
      "metadata": {
        "id": "IszFZMELjjT6"
      },
      "source": [
        "## Applying k-Fold Cross Validation"
      ]
    },
    {
      "cell_type": "markdown",
      "metadata": {
        "id": "Oqf3QV8XCB1T"
      },
      "source": [
        "k-Fold Cross Validation consists of creating a certain number of k-train test folds, e.g. k=10 --> 10 cross validations ets\n",
        "\n",
        "we will train on each train fold, and at the same time test(evaluate) the model on the test fold. As a result, we will end up with 10 different accuracies from each test fold, finally we will get the mean accuracy"
      ]
    },
    {
      "cell_type": "code",
      "metadata": {
        "colab": {
          "base_uri": "https://localhost:8080/"
        },
        "id": "m2OyuSx6jjq3",
        "outputId": "b0458f47-e8b0-4937-94eb-8fd441c37e5b"
      },
      "source": [
        "from sklearn.model_selection import cross_val_score\n",
        "\n",
        "k = 10 # optimal number\n",
        "accuracies = cross_val_score(estimator = classifier, X = X_train, y = y_train, cv = k)\n",
        "\n",
        "# print using format() function, .2f - 2dp\n",
        "print(\"Accuracy: {:.2f} %\" .format(accuracies.mean() * 100)) \n",
        "\n",
        "# print standard deviation/variance between each accuracy \n",
        "print(\"Standard deviation: {:.2f} %\" .format(accuracies.std() * 100))  "
      ],
      "execution_count": null,
      "outputs": [
        {
          "output_type": "stream",
          "name": "stdout",
          "text": [
            "Accuracy: 90.33 %\n",
            "Standard deviation: 6.57 %\n"
          ]
        }
      ]
    },
    {
      "cell_type": "markdown",
      "metadata": {
        "id": "0TCw1ARcCaed"
      },
      "source": [
        "The accuracy from here is the relevant accuracy (compared to the one above)\n",
        "\n",
        "90.33 +- 6.57% --> high sd, therefore the range is:  83.5 - 96.5 (raneg is large enough, so its good)"
      ]
    },
    {
      "cell_type": "markdown",
      "metadata": {
        "id": "olBc6WgBDsK0"
      },
      "source": [
        "## Applying Grid Search to find the best model and the best parameters"
      ]
    },
    {
      "cell_type": "code",
      "metadata": {
        "colab": {
          "base_uri": "https://localhost:8080/"
        },
        "id": "fVqRBdrPDsYG",
        "outputId": "dd92289b-8d8b-46fe-96e6-b56fb1236f48"
      },
      "source": [
        "\"\"\"\n",
        "Since we are implementing SVC, check out sklearn documentation to see the parameters that we can tune.\n",
        "These are different paramters than the weights, and are not learned during the training process.\n",
        "These are known as hyperparameters.\n",
        "\n",
        "E.g. (Here)\n",
        "1) C --> regularization parameter. Tune C to increase model performace and avoid overfitting\n",
        "(overfitting --> high accuracy in train set, poor accuracy in test set)\n",
        "default = 1.0. The lower the C, the stronger the regularization....C=0.25,0.5..\n",
        "\n",
        "2) kernel --> default is rbf (gaussian kernel). U can tune with others if u want to\n",
        "3) gamma --> only for rbf, poly and sigmoid kernel\n",
        "\n",
        "Each time a parameter is tuned, accuracy of the model will change. We will test the model on the k-fold cross validation sets\n",
        "and not the single test set\n",
        "\n",
        "** NOTE: during hyperparamter tuning, always check out sklearn documentation on what parameters to alter.\n",
        "\"\"\"\n",
        "# GridSearchCV will refit the estimator, i.e. model object using the best found parameters on the whole dataset.\n",
        "\n",
        "from sklearn.model_selection import GridSearchCV\n",
        "parameters = [ # list of different combination of hyperparameters that we want to test\n",
        "              {'C': [0.25, 0.5, 0.75, 1], 'kernel': ['linear']},\n",
        "              {'C': [0.25, 0.5, 0.75, 1], 'kernel': ['rbf'], 'gamma': [0.1, 0.2, 0.3, 0.4, 0.5, 0.6, 0.7, 0.8, 0.9]}\n",
        "]\n",
        "# also, two dictionaries --> for testing 2 different kernels. {key - parameters(name must match documentation), value - range of values to try}\n",
        "\n",
        "grid_search = GridSearchCV(estimator = classifier,\n",
        "                           param_grid = parameters,\n",
        "                           scoring = 'accuracy', # evaluation metric. 'accuracy' for classification here\n",
        "                           cv = 10, # k = 10, no. of k-train test folds\n",
        "                           verbose=2, # print out the results\n",
        "                           n_jobs = -1) # set processor of machine. -1 --> means all processor will be in  use \n",
        "\n",
        "# GridSearchCV is only applied on train set\n",
        "grid_search.fit(X_train, y_train)\n",
        "\n",
        "# get best accuracy, and the set of parameters that led to that best accuracy\n",
        "best_accuracy = grid_search.best_score_\n",
        "best_parameters = grid_search.best_params_\n",
        "print(\"Best Accuracy: {:.2f} %\".format(best_accuracy*100))\n",
        "print(\"Best Parameters:\", best_parameters)"
      ],
      "execution_count": null,
      "outputs": [
        {
          "output_type": "stream",
          "name": "stdout",
          "text": [
            "Fitting 10 folds for each of 40 candidates, totalling 400 fits\n"
          ]
        },
        {
          "output_type": "stream",
          "name": "stderr",
          "text": [
            "[Parallel(n_jobs=-1)]: Using backend LokyBackend with 2 concurrent workers.\n",
            "[Parallel(n_jobs=-1)]: Done 296 tasks      | elapsed:    1.9s\n"
          ]
        },
        {
          "output_type": "stream",
          "name": "stdout",
          "text": [
            "Best Accuracy: 90.67 %\n",
            "Best Parameters: {'C': 0.5, 'gamma': 0.6, 'kernel': 'rbf'}\n"
          ]
        },
        {
          "output_type": "stream",
          "name": "stderr",
          "text": [
            "[Parallel(n_jobs=-1)]: Done 400 out of 400 | elapsed:    2.2s finished\n"
          ]
        }
      ]
    },
    {
      "cell_type": "markdown",
      "metadata": {
        "id": "QtokzNPuq1SD"
      },
      "source": [
        "## Make predictions with the best hyperparameters"
      ]
    },
    {
      "cell_type": "code",
      "metadata": {
        "id": "HOInoJ6RrOyl"
      },
      "source": [
        "def evaluate_preds(y_true,y_preds):\n",
        "    \"\"\"\n",
        "    Performs evaluation comparison on y_true labels vs. y_pred labels\n",
        "    on  a classification model.\n",
        "    \"\"\"\n",
        "    accuracy = accuracy_score(y_true,y_preds)\n",
        "    precision = precision_score(y_true,y_preds)\n",
        "    recall = recall_score(y_true,y_preds) \n",
        "    f1 = f1_score(y_true,y_preds)\n",
        "    metric_dict = {\n",
        "        \"accuracy\":round(accuracy,2),\n",
        "        \"precision\":round(precision,2),\n",
        "        \"recall\":round(recall,2),\n",
        "        \"f1\":round(f1,2)\n",
        "    } # A dictionary that stores the results of the evaluation metrics\n",
        "    \n",
        "    print(f\"Acc: {accuracy * 100:.2f}%\")\n",
        "    print(f\"Precision: {precision:.2f}\")\n",
        "    print(f\"Recall: {recall:.2f}\")\n",
        "    print(f\"F1 score: {f1:.2f}\")\n",
        "    \n",
        "    return metric_dict"
      ],
      "execution_count": null,
      "outputs": []
    },
    {
      "cell_type": "code",
      "metadata": {
        "colab": {
          "base_uri": "https://localhost:8080/"
        },
        "id": "lMfPb5Hiq1a8",
        "outputId": "ce741c5e-ceb5-47e7-bb60-35d4e0f61b8e"
      },
      "source": [
        "from sklearn.metrics import accuracy_score, precision_score, recall_score, f1_score\n",
        "\n",
        "# Make predictions with the best hyperparameters\n",
        "gs_y_preds = grid_search.predict(X_test)\n",
        "\n",
        "# Evaluate the predictions\n",
        "gs_metrics = evaluate_preds(y_test, gs_y_preds)"
      ],
      "execution_count": null,
      "outputs": [
        {
          "output_type": "stream",
          "name": "stdout",
          "text": [
            "Acc: 93.00%\n",
            "Precision: 0.88\n",
            "Recall: 0.91\n",
            "F1 score: 0.89\n"
          ]
        }
      ]
    },
    {
      "cell_type": "markdown",
      "metadata": {
        "id": "NDe17YicrYU5"
      },
      "source": [
        "**You can then retrain the model using the best parameters, but GridSearchCV does it for u by default due to its refit parameter**"
      ]
    },
    {
      "cell_type": "markdown",
      "metadata": {
        "id": "e9AymC2ljUFg"
      },
      "source": [
        "## Visualising the Training set results"
      ]
    },
    {
      "cell_type": "code",
      "metadata": {
        "colab": {
          "base_uri": "https://localhost:8080/",
          "height": 481
        },
        "id": "SsKtroFZimns",
        "outputId": "a39f3ba7-f950-4795-ae3a-601b7aa9dd9e"
      },
      "source": [
        "from matplotlib.colors import ListedColormap\n",
        "plt.figure(figsize=(8,6))\n",
        "\n",
        "X_set, y_set = sc.inverse_transform(X_train), y_train\n",
        "\n",
        "X1, X2 = np.meshgrid(np.arange(start = X_set[:, 0].min() - 10, stop = X_set[:, 0].max() + 10, step = 0.25),\n",
        "                     np.arange(start = X_set[:, 1].min() - 1000, stop = X_set[:, 1].max() + 1000, step = 0.25))\n",
        "\n",
        "plt.contourf(X1, X2, classifier.predict(sc.transform(np.array([X1.ravel(), X2.ravel()]).T)).reshape(X1.shape),\n",
        "             alpha = 0.75, cmap = ListedColormap(('red', 'green')))\n",
        "\n",
        "plt.xlim(X1.min(), X1.max())\n",
        "plt.ylim(X2.min(), X2.max())\n",
        "\n",
        "for i, j in enumerate(np.unique(y_set)):\n",
        "    plt.scatter(X_set[y_set == j, 0], X_set[y_set == j, 1], c = ListedColormap(('red', 'green'))(i), label = j)\n",
        "\n",
        "plt.title('Kernel SVM (Training set)')\n",
        "plt.xlabel('Age')\n",
        "plt.ylabel('Estimated Salary')\n",
        "\n",
        "plt.legend()\n",
        "plt.show()\n",
        "\n",
        "# There will be some incorrect predictions, and that's okay, since we do not want to overfit our model"
      ],
      "execution_count": null,
      "outputs": [
        {
          "output_type": "stream",
          "name": "stderr",
          "text": [
            "*c* argument looks like a single numeric RGB or RGBA sequence, which should be avoided as value-mapping will have precedence in case its length matches with *x* & *y*.  Please use the *color* keyword-argument or provide a 2-D array with a single row if you intend to specify the same RGB or RGBA value for all points.\n",
            "*c* argument looks like a single numeric RGB or RGBA sequence, which should be avoided as value-mapping will have precedence in case its length matches with *x* & *y*.  Please use the *color* keyword-argument or provide a 2-D array with a single row if you intend to specify the same RGB or RGBA value for all points.\n"
          ]
        },
        {
          "output_type": "display_data",
          "data": {
            "image/png": "[encoded data removed]",
            "text/plain": [
              "<Figure size 576x432 with 1 Axes>"
            ]
          },
          "metadata": {}
        }
      ]
    },
    {
      "cell_type": "markdown",
      "metadata": {
        "id": "vJg3veQVjV7e"
      },
      "source": [
        "## Visualising the Test set results"
      ]
    },
    {
      "cell_type": "code",
      "metadata": {
        "colab": {
          "base_uri": "https://localhost:8080/",
          "height": 481
        },
        "id": "XnYivUopjWR-",
        "outputId": "a3fbc0af-d69c-4eb2-bf0f-793fb61eaedd"
      },
      "source": [
        "from matplotlib.colors import ListedColormap\n",
        "plt.figure(figsize=(8,6))\n",
        "\n",
        "X_set, y_set = sc.inverse_transform(X_test), y_test\n",
        "\n",
        "X1, X2 = np.meshgrid(np.arange(start = X_set[:, 0].min() - 10, stop = X_set[:, 0].max() + 10, step = 0.25),\n",
        "                     np.arange(start = X_set[:, 1].min() - 1000, stop = X_set[:, 1].max() + 1000, step = 0.25))\n",
        "\n",
        "plt.contourf(X1, X2, classifier.predict(sc.transform(np.array([X1.ravel(), X2.ravel()]).T)).reshape(X1.shape),\n",
        "             alpha = 0.75, cmap = ListedColormap(('red', 'green')))\n",
        "\n",
        "plt.xlim(X1.min(), X1.max())\n",
        "plt.ylim(X2.min(), X2.max())\n",
        "\n",
        "for i, j in enumerate(np.unique(y_set)):\n",
        "    plt.scatter(X_set[y_set == j, 0], X_set[y_set == j, 1], c = ListedColormap(('red', 'green'))(i), label = j)\n",
        "\n",
        "plt.title('Kernel SVM (Test set)')\n",
        "plt.xlabel('Age')\n",
        "plt.ylabel('Estimated Salary')\n",
        "\n",
        "plt.legend()\n",
        "plt.show()"
      ],
      "execution_count": null,
      "outputs": [
        {
          "output_type": "stream",
          "name": "stderr",
          "text": [
            "*c* argument looks like a single numeric RGB or RGBA sequence, which should be avoided as value-mapping will have precedence in case its length matches with *x* & *y*.  Please use the *color* keyword-argument or provide a 2-D array with a single row if you intend to specify the same RGB or RGBA value for all points.\n",
            "*c* argument looks like a single numeric RGB or RGBA sequence, which should be avoided as value-mapping will have precedence in case its length matches with *x* & *y*.  Please use the *color* keyword-argument or provide a 2-D array with a single row if you intend to specify the same RGB or RGBA value for all points.\n"
          ]
        },
        {
          "output_type": "display_data",
          "data": {
            "image/png": "[encoded data removed]",
            "text/plain": [
              "<Figure size 576x432 with 1 Axes>"
            ]
          },
          "metadata": {}
        }
      ]
    }
  ]
}