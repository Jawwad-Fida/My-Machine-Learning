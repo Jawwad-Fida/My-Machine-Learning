{
 "cells": [
  {
   "cell_type": "markdown",
   "id": "balanced-ecology",
   "metadata": {},
   "source": [
    "esc+m --> to change to markdown text, or choose between markdown and cell(code) above\n",
    "\n",
    "## Introduction to Scikit-Learn (sklearn)"
   ]
  },
  {
   "cell_type": "markdown",
   "id": "sharing-output",
   "metadata": {},
   "source": [
    "Once we've seen an end-to-end workflow, we'll dive into each step a little deeper.\n",
    "\n",
    "Note: Since Scikit-Learn is such a vast library, capable of tackling many problems, the workflow we're using is only one example of how you can use it."
   ]
  },
  {
   "cell_type": "markdown",
   "id": "documentary-white",
   "metadata": {},
   "source": [
    "Note: all of the steps in this 1st tutorial are focused on supervised learning (having data and labels).\n",
    "i.e. A --> B mapping\n",
    "we have input and output, the model will learn A --> B mapping \n",
    "\n",
    "After going through it, you'll have the base knolwedge of Scikit-Learn you need to keep moving forward."
   ]
  },
  {
   "cell_type": "markdown",
   "id": "departmental-anime",
   "metadata": {},
   "source": [
    "What's most important is continually asking yourself, \"what am I trying to do with the data?\".\n",
    "\n",
    "Start by answering that question and then practicing finding the code which does it."
   ]
  },
  {
   "cell_type": "markdown",
   "id": "downtown-earthquake",
   "metadata": {},
   "source": [
    "In Scikit-Learn, machine learning models are referred to as estimators."
   ]
  },
  {
   "cell_type": "markdown",
   "id": "joined-visit",
   "metadata": {},
   "source": [
    "### Sklearn Workflow\n",
    "\n",
    "1) Get the data ready\n",
    "\n",
    "2) Choose the model/estimator - using https://scikit-learn.org/stable/tutorial/machine_learning_map/index.html\n",
    "\n",
    "3) Fit the model to the data and use it to make a prediction\n",
    "   - A model will (attempt to) learn the patterns in a dataset by calling the fit() function on it and passing it the data.\n",
    "   - Once a model has learned patterns in data, you can use them to make a prediction with the predict() function.\n",
    "   \n",
    "4) Evaluate the model - A trained model/estimator can be evaluated by calling the score() function and passing it a collection of data.\n",
    "\n",
    "5) Experiment to improve (hyperparameter tuning) - It's best practice to test different hyperparameters with a validation set or cross-validation.\n",
    "\n",
    "6) Save a model for later use - using Python's pickle module\n",
    "   - A trained model can be exported and saved so it can be imported and used later"
   ]
  },
  {
   "cell_type": "code",
   "execution_count": null,
   "id": "industrial-earthquake",
   "metadata": {},
   "outputs": [],
   "source": []
  }
 ],
 "metadata": {
  "kernelspec": {
   "display_name": "Python 3",
   "language": "python",
   "name": "python3"
  },
  "language_info": {
   "codemirror_mode": {
    "name": "ipython",
    "version": 3
   },
   "file_extension": ".py",
   "mimetype": "text/x-python",
   "name": "python",
   "nbconvert_exporter": "python",
   "pygments_lexer": "ipython3",
   "version": "3.8.5"
  }
 },
 "nbformat": 4,
 "nbformat_minor": 5
}
