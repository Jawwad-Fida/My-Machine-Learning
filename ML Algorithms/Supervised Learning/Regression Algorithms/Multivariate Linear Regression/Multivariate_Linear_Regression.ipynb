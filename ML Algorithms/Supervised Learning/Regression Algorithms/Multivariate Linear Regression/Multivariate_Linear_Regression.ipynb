{
  "nbformat": 4,
  "nbformat_minor": 0,
  "metadata": {
    "colab": {
      "name": "Multivariate_Linear_Regression.ipynb",
      "provenance": [],
      "collapsed_sections": [],
      "toc_visible": true
    },
    "kernelspec": {
      "name": "python3",
      "display_name": "Python 3"
    },
    "language_info": {
      "name": "python"
    }
  },
  "cells": [
    {
      "cell_type": "code",
      "metadata": {
        "id": "NUTHB9NjNvcA"
      },
      "source": [
        "%matplotlib inline \n",
        "import matplotlib.pyplot as plt # for plotting\n",
        "import numpy as np # for matrix and vector computations\n",
        "import pandas as pd\n",
        "import seaborn as sns"
      ],
      "execution_count": 1,
      "outputs": []
    },
    {
      "cell_type": "markdown",
      "metadata": {
        "id": "dV5RmwW4OKrR"
      },
      "source": [
        "implement linear regression with multiple variables to predict the prices of houses. Suppose you are selling your house and you want to know what a good market price would be. One way to do this is to first collect information on recent houses sold and make a model of housing prices.\n",
        "\n",
        "The file Data/ex1data2.txt contains a training set of housing prices in Portland, Oregon. The first column is the size of the house (in square feet), the second column is the number of bedrooms, and the third column is the price of the house."
      ]
    },
    {
      "cell_type": "markdown",
      "metadata": {
        "id": "9Wmv5xM8OD14"
      },
      "source": [
        "## 1) Load the Dataset\n"
      ]
    },
    {
      "cell_type": "code",
      "metadata": {
        "id": "pudWQgftOE97"
      },
      "source": [
        "data = np.loadtxt('ex1data2.txt', delimiter=',')\n",
        "X = data[:,:-1]\n",
        "y = data[:,-1]\n",
        "\n",
        "m = y.size # number of training samples"
      ],
      "execution_count": 2,
      "outputs": []
    },
    {
      "cell_type": "code",
      "metadata": {
        "colab": {
          "base_uri": "https://localhost:8080/"
        },
        "id": "LRYxtcxwQc8H",
        "outputId": "eda13fef-6a07-4e63-d206-5402945ae212"
      },
      "source": [
        "# print out some data points\n",
        "print('{:>8s}{:>8s}{:>10s}'.format('X1', 'X2', 'y'))\n",
        "print('-'*26)\n",
        "\n",
        "for i in range(10): # say first 10 points\n",
        "    print('{:8.0f}{:8.0f}{:10.0f}'.format(X[i, 0], X[i, 1], y[i]))"
      ],
      "execution_count": 3,
      "outputs": [
        {
          "output_type": "stream",
          "text": [
            "      X1      X2         y\n",
            "--------------------------\n",
            "    2104       3    399900\n",
            "    1600       3    329900\n",
            "    2400       3    369000\n",
            "    1416       2    232000\n",
            "    3000       4    539900\n",
            "    1985       4    299900\n",
            "    1534       3    314900\n",
            "    1427       3    198999\n",
            "    1380       3    212000\n",
            "    1494       3    242500\n"
          ],
          "name": "stdout"
        }
      ]
    },
    {
      "cell_type": "markdown",
      "metadata": {
        "id": "aXRTWQY5VD-c"
      },
      "source": [
        "## 2) Feature Normalization\n",
        "\n",
        "By looking at the values, note that house sizes are about 1000 times the number of bedrooms. When features differ by orders of magnitude, first performing feature scaling can make gradient descent converge much more quickly."
      ]
    },
    {
      "cell_type": "markdown",
      "metadata": {
        "id": "ZStW5y9iXBS0"
      },
      "source": [
        "- Subtract the mean value of each feature from the dataset.\n",
        "- After subtracting the mean, additionally scale (divide) the feature values by their respective “standard deviations.”\n",
        "\n",
        "The standard deviation is a way of measuring how much variation there is in the range of values of a particular feature (most data points will lie within ±2 standard deviations of the mean); this is an alternative to taking the range of values (max-min). In `numpy`, you can use the `std` function to compute the standard deviation. \n",
        "\n",
        "For example, the quantity `X[:, 0]` contains all the values of $x_1$ (house sizes) in the training set, so `np.std(X[:, 0])` computes the standard deviation of the house sizes.\n",
        "\n",
        "At the time that the function `featureNormalize` is called, the extra column of 1’s corresponding to $x_0 = 1$ has not yet been added to $X$. \n",
        "\n",
        "<div class=\"alert alert-block alert-warning\">\n",
        "**Implementation Note:** When normalizing the features, it is important\n",
        "to store the values used for normalization - the mean value and the standard deviation used for the computations. After learning the parameters\n",
        "from the model, we often want to predict the prices of houses we have not\n",
        "seen before. Given a new x value (living room area and number of bedrooms), we must first normalize x using the mean and standard deviation that we had previously computed from the training set.\n",
        "</div>\n",
        "<a id=\"featureNormalize\"></a>"
      ]
    },
    {
      "cell_type": "code",
      "metadata": {
        "id": "pECa3DLjQiYt"
      },
      "source": [
        " \"\"\"\n",
        "    Normalizes the features in X. returns a normalized version of X where\n",
        "    the mean value of each feature is 0 and the standard deviation\n",
        "    is 1. This is often a good preprocessing step to do when working with\n",
        "    learning algorithms.\n",
        "    \n",
        "    Parameters\n",
        "    ----------\n",
        "    X : array_like\n",
        "        The dataset of shape (m x n) dimensions (imp*: x0=1 is not added during feature scaling)\n",
        "    \n",
        "    Returns\n",
        "    -------\n",
        "    X_norm : array_like\n",
        "        The normalized dataset of shape (m x n).\n",
        "    \n",
        "    Instructions\n",
        "    ------------\n",
        "    First, for each feature dimension, compute the mean of the feature\n",
        "    and subtract it from the dataset, storing the mean value in mu. \n",
        "    Next, compute the  standard deviation of each feature and divide\n",
        "    each feature by it's standard deviation, storing the standard deviation \n",
        "    in sigma. \n",
        "    \n",
        "    Note that X is a matrix where each column is a feature and each row is\n",
        "    a sample. You need to perform the normalization separately for each feature. \n",
        "    \n",
        "    Hint\n",
        "    ----\n",
        "    You might find the 'np.mean' and 'np.std' functions useful.\n",
        "    \"\"\""
      ],
      "execution_count": null,
      "outputs": []
    },
    {
      "cell_type": "code",
      "metadata": {
        "id": "fSLhR0cnYBP3"
      },
      "source": [
        "# X.shape[1] --> size=2 which means 2 features\n",
        "\n",
        "def featureNormalize(X):\n",
        "  # Set values\n",
        "  X_norm = X.copy() \n",
        "  mu = np.zeros(X.shape[1])\n",
        "  sigma = np.zeros(X.shape[1])\n",
        "\n",
        "  # to do feature scaling separtely for each feature, take each row of the features at a time \n",
        "  mu = np.mean(X,axis=0)\n",
        "  sigma = np.std(X,axis=0)\n",
        "  X_norm = (X - mu) / sigma\n",
        "\n",
        "  return X_norm, mu, sigma"
      ],
      "execution_count": 5,
      "outputs": []
    },
    {
      "cell_type": "code",
      "metadata": {
        "colab": {
          "base_uri": "https://localhost:8080/"
        },
        "id": "UVxlOmKXaNMJ",
        "outputId": "e7239251-826e-4bbd-8284-71e72a8f24ad"
      },
      "source": [
        "X_norm, mu, sigma = featureNormalize(X)\n",
        "\n",
        "print(f\"Computed Mean: {mu}\")\n",
        "print(f\"Computed Standard deviation: {sigma}\")\n",
        "\n",
        "# we are getting 2 values of mean and sigma --> corresponding to 2 features of the dataset\n",
        "\n",
        "# we are also getting X_norm --> Feature scaled values of X"
      ],
      "execution_count": 6,
      "outputs": [
        {
          "output_type": "stream",
          "text": [
            "Computed Mean: [2000.68085106    3.17021277]\n",
            "Computed Standard deviation: [7.86202619e+02 7.52842809e-01]\n"
          ],
          "name": "stdout"
        }
      ]
    },
    {
      "cell_type": "markdown",
      "metadata": {
        "id": "_NXetvpEcDO8"
      },
      "source": [
        "## 3) Gradient Descent\n",
        "\n",
        "the hypothesis function and the batch gradient descent update\n",
        "rule remain unchanged, as it was for simple linear regression.\n",
        "\n",
        "You can use the `shape` property of `numpy` arrays to find out how many features are present in the dataset."
      ]
    },
    {
      "cell_type": "markdown",
      "metadata": {
        "id": "IzVJAcxcdO4P"
      },
      "source": [
        "### 3.1 Update Equations\n",
        "\n",
        "The objective of linear regression is to minimize the cost function $J(\\theta)$\n",
        "\n",
        "$$ J(\\theta) = \\frac{1}{2m} \\sum_{i=1}^m \\left( h_{\\theta}(x^{(i)}) - y^{(i)}\\right)^2$$\n",
        "\n",
        "where the hypothesis $h_\\theta(x)$ is given by the linear model\n",
        "$$ h_\\theta(x) = \\theta^Tx = \\theta_0 + \\theta_1 x_1$$\n",
        "\n",
        "Recall that the parameters of your model are the $\\theta_j$ values. These are\n",
        "the values you will adjust to minimize cost $J(\\theta)$. One way to do this is to\n",
        "use the **batch gradient descent algorithm**. In batch gradient descent, each\n",
        "iteration performs the update\n",
        "\n",
        "$$ \\theta_j = \\theta_j - \\alpha \\frac{1}{m} \\sum_{i=1}^m \\left( h_\\theta(x^{(i)}) - y^{(i)}\\right)x_j^{(i)} \\qquad \\text{simultaneously update } \\theta_j \\text{ for all } j$$\n",
        "\n",
        "With each step of gradient descent, your parameters $\\theta_j$ come closer to the optimal values that will achieve the lowest cost J($\\theta$).\n",
        "\n",
        "<div class=\"alert alert-block alert-warning\">\n",
        "**Implementation Note:** We store each sample as a row in the the $X$ matrix in Python `numpy`. To take into account the intercept term ($\\theta_0$), we add an additional first column to $X$ and set it to all ones. This allows us to treat $\\theta_0$ as simply another 'feature'.\n",
        "</div>"
      ]
    },
    {
      "cell_type": "code",
      "metadata": {
        "id": "Qb4pN3XQbvbR"
      },
      "source": [
        "#### Add a column of ones to X. The numpy function concatenate() joins arrays along a given axis. \n",
        "\n",
        "# Add intercept term to X\n",
        "X = np.concatenate([np.ones((m, 1)), X_norm], axis=1)\n",
        "# ones will have m rows and 1 column"
      ],
      "execution_count": 7,
      "outputs": []
    },
    {
      "cell_type": "markdown",
      "metadata": {
        "id": "FP1Sjc_3ezkl"
      },
      "source": [
        "<a id=\"section2\"></a>\n",
        "### 3.2 Computing the cost $J(\\theta)$\n",
        "\n",
        "As you perform gradient descent to minimize the cost function $J(\\theta)$, it is helpful to monitor the convergence by computing the cost. Implement a function to calculate $J(\\theta)$ so you can check the convergence of your gradient descent implementation. \n",
        "\n",
        "Remember that the variables $X$ and $y$ are not scalar values. $X$ is a matrix whose rows represent the samples from the training set (feature) and $y$ (label) is a vector whose each element represent the value at a given row of $X$.\n",
        "<a id=\"computeCost\"></a>"
      ]
    },
    {
      "cell_type": "code",
      "metadata": {
        "id": "4w3FttjTe0WN"
      },
      "source": [
        " \"\"\"\n",
        "    Compute cost for linear regression with multiple variables.\n",
        "    Computes the cost of using theta as the parameter for linear regression to fit the data points in X and y.\n",
        "    \n",
        "    Parameters\n",
        "    ----------\n",
        "    X : array_like\n",
        "        The dataset of shape (m x n+1).\n",
        "    \n",
        "    y : array_like\n",
        "        A vector of shape (m, ) for the values at a given data point.\n",
        "    \n",
        "    theta : array_like\n",
        "        The linear regression parameters. A vector of shape (n+1, )\n",
        "    \n",
        "    Returns\n",
        "    -------\n",
        "    J : float\n",
        "        The value of the cost function. \n",
        "    \n",
        "    Instructions\n",
        "    ------------\n",
        "    Compute the cost of a particular choice of theta. You should set J to the cost.\n",
        "    \"\"\""
      ],
      "execution_count": null,
      "outputs": []
    },
    {
      "cell_type": "code",
      "metadata": {
        "id": "FHC2BAFU1mW6"
      },
      "source": [
        "def computeCost(X,y,theta):\n",
        "  m = y.size # no. of training samples\n",
        "  J = 0\n",
        "\n",
        "  h = np.dot(X,theta) # X and theta are matrices\n",
        "  J = (1/(2 * m)) * np.sum(np.square(np.dot(X, theta) - y))\n",
        "\n",
        "  return J"
      ],
      "execution_count": 9,
      "outputs": []
    },
    {
      "cell_type": "markdown",
      "metadata": {
        "id": "CJBqwplj1s--"
      },
      "source": [
        "<a id=\"section3\"></a>\n",
        "### 3.3 Gradient descent\n",
        "\n",
        "Complete a function which Implements gradient descent. Update $\\theta$ with each iteration of the loop. \n",
        "\n",
        "As you program, make sure you understand what you are trying to optimize and what is being updated. Keep in mind that the cost $J(\\theta)$ is parameterized by the vector $\\theta$, not $X$ and $y$. That is, we minimize the value of $J(\\theta)$ by changing the values of the vector $\\theta$, not by changing $X$ or $y$. \n",
        "\n",
        "A good way to verify that gradient descent is working correctly is to look at the value of $J(\\theta)$ and check that it is decreasing with each step. "
      ]
    },
    {
      "cell_type": "code",
      "metadata": {
        "id": "EpqIfwyG1owC"
      },
      "source": [
        "    \"\"\"\n",
        "    Performs gradient descent to learn `theta`. Updates theta by taking `num_iters`\n",
        "    gradient steps with learning rate `alpha`.\n",
        "    \n",
        "    Parameters\n",
        "    ----------\n",
        "    X : array_like\n",
        "        The input dataset of shape (m x n+1).\n",
        "    \n",
        "    y : array_like\n",
        "        Value at given features. A vector of shape (m, ), i.e. (mx1) dimensions\n",
        "    \n",
        "    theta : array_like\n",
        "        Initial values for the linear regression parameters. \n",
        "        A vector of shape (n+1, ), i.e. (n+1)x1 dimensions\n",
        "    \n",
        "    alpha : float\n",
        "        The learning rate.\n",
        "    \n",
        "    num_iters : int\n",
        "        The number of iterations for gradient descent. \n",
        "    \n",
        "    Returns\n",
        "    -------\n",
        "    theta : array_like\n",
        "        The learned linear regression parameters. A vector of shape (n+1, ). This is the optimal theta\n",
        "        for which J is minimum\n",
        "    \n",
        "    J_history : list\n",
        "        A python list for the values of the cost function after each iteration.\n",
        "    \n",
        "    Instructions\n",
        "    ------------\n",
        "    Peform a single gradient step on the parameter vector theta.\n",
        "\n",
        "    While debugging, it can be useful to print out the values of \n",
        "    the cost function (computeCost) and gradient here.\n",
        "    \"\"\""
      ],
      "execution_count": null,
      "outputs": []
    },
    {
      "cell_type": "code",
      "metadata": {
        "id": "yCtiV_RM13Sp"
      },
      "source": [
        "def gradient_descent(X,y,theta,alpha,num_iters):\n",
        "  m = y.size # or y.shape[0] # number of training samples\n",
        "\n",
        "  # make a copy of theta, to avoid changing the original array, since numpy arrays are passed by reference to functions\n",
        "  theta = theta.copy()\n",
        "\n",
        "  J_history = [] # Use a python list to store cost in every iteration\n",
        "\n",
        "  for i in range(num_iters):\n",
        "    theta = theta - (alpha/m) * (np.dot(X,theta) - y).dot(X)\n",
        "    # print(theta)\n",
        "\n",
        "    # save the cost J in every iteration\n",
        "    min_cost = computeCost(X,y,theta)\n",
        "    J_history.append(min_cost)\n",
        "    # print(J_history[i])\n",
        "\n",
        "  return theta, J_history # theta will return values equivalent to the no. of features available"
      ],
      "execution_count": 11,
      "outputs": []
    },
    {
      "cell_type": "code",
      "metadata": {
        "colab": {
          "base_uri": "https://localhost:8080/"
        },
        "id": "hfUxV4-9_fyA",
        "outputId": "5488ac50-d441-40d0-f24c-20a6d0ab5555"
      },
      "source": [
        "# randomly initialize fitting parameters\n",
        "theta = np.zeros(3) # 3 for 3 features\n",
        "\n",
        "# some gradient descent settings\n",
        "iterations = 400\n",
        "alpha = 0.1\n",
        "\n",
        "theta, J_history = gradient_descent(X,y,theta,alpha,iterations)\n",
        "\n",
        "# Display the gradient descent's result\n",
        "print('theta computed from gradient descent: {:s}'.format(str(theta)))"
      ],
      "execution_count": 12,
      "outputs": [
        {
          "output_type": "stream",
          "text": [
            "theta computed from gradient descent: [340412.65957447 109447.79558639  -6578.3539709 ]\n"
          ],
          "name": "stdout"
        }
      ]
    },
    {
      "cell_type": "markdown",
      "metadata": {
        "id": "LepqnPF5-U70"
      },
      "source": [
        "### 3.4) Predict values \n",
        "\n",
        "predict the price of a 1650 sq-ft, 3 bedroom house.\n",
        "\n",
        "**At prediction, make sure you do the same feature normalization**"
      ]
    },
    {
      "cell_type": "code",
      "metadata": {
        "colab": {
          "base_uri": "https://localhost:8080/"
        },
        "id": "uwH7df_W2TjR",
        "outputId": "34f7a213-20ad-4503-ab94-633b2c4c592f"
      },
      "source": [
        "# Recall that the first column of X (column 0) is all-ones(x0=1)\n",
        "# Thus, it does not need to be normalized.\n",
        "\n",
        "X_array = [1,1650,3]\n",
        "X_array[1:3] = (X_array[1:3] - mu)/sigma\n",
        "# X_array[1:3] contains features after feature scaling\n",
        "\n",
        "# Predict\n",
        "price = np.dot(X_array,theta) # theta here is the optimal theta\n",
        "\n",
        "print(f'Predicted price of a 1650 sq-ft, 3 bedroom house (using gradient descent): ${price:.0f} ')"
      ],
      "execution_count": 13,
      "outputs": [
        {
          "output_type": "stream",
          "text": [
            "Predicted price of a 1650 sq-ft, 3 bedroom house (using gradient descent): $293081 \n"
          ],
          "name": "stdout"
        }
      ]
    },
    {
      "cell_type": "markdown",
      "metadata": {
        "id": "1IgqN_4SARhe"
      },
      "source": [
        "## 4) Selecting Learning Rates"
      ]
    },
    {
      "cell_type": "markdown",
      "metadata": {
        "id": "8UlbV7o0Aa5c"
      },
      "source": [
        "Try out different learning rates for the dataset and find a learning rate that converges quickly. \n",
        "\n",
        "run gradient descent for about 50 iterations at the chosen learning rate. The function should also return the history of $J(\\theta)$ values in a vector $J$.\n",
        "\n",
        "After the last iteration, plot the J values against the number of the iterations.\n",
        "\n",
        "\n",
        "If your graph looks very different, especially if your value of $J(\\theta)$ increases or even blows up, adjust your learning rate and try again. We recommend trying values of the learning rate $\\alpha$ on a log-scale, at multiplicative steps of about 3 times the previous value (i.e., 0.3, 0.1, 0.03, 0.01 and so on). You may also want to adjust the number of iterations you are running if that will help you see the overall trend in the curve.\n",
        "\n",
        "<div class=\"alert alert-block alert-warning\">\n",
        "**Implementation Note:** If your learning rate is too large, $J(\\theta)$ can diverge and ‘blow up’, resulting in values which are too large for computer calculations. In these situations, `numpy` will tend to return\n",
        "NaNs. NaN stands for ‘not a number’ and is often caused by undefined operations that involve −∞ and +∞.\n",
        "</div>\n",
        "\n",
        "\n",
        "Notice the changes in the convergence curves as the learning rate changes. With a small learning rate, you should find that gradient descent takes a very long time to converge to the optimal value. Conversely, with a large learning rate, gradient descent might not converge or might even diverge!\n",
        "\n",
        "Using the best learning rate that you found, run gradient descent until convergence to find the final values of $\\theta$. "
      ]
    },
    {
      "cell_type": "code",
      "metadata": {
        "colab": {
          "base_uri": "https://localhost:8080/",
          "height": 308
        },
        "id": "ThmtTrv6_SKu",
        "outputId": "414b60e3-95f5-440f-a23e-6284d31be6b7"
      },
      "source": [
        "# Plot the convergence graph\n",
        "plt.plot(np.arange(len(J_history)), J_history, lw=2)\n",
        "plt.xlabel('Number of iterations')\n",
        "plt.ylabel('Cost J(theta)')"
      ],
      "execution_count": 14,
      "outputs": [
        {
          "output_type": "execute_result",
          "data": {
            "text/plain": [
              "Text(0, 0.5, 'Cost J(theta)')"
            ]
          },
          "metadata": {
            "tags": []
          },
          "execution_count": 14
        },
        {
          "output_type": "display_data",
          "data": {
            "image/png": "[encoded data removed]",
            "text/plain": [
              "<Figure size 432x288 with 1 Axes>"
            ]
          },
          "metadata": {
            "tags": [],
            "needs_background": "light"
          }
        }
      ]
    },
    {
      "cell_type": "markdown",
      "metadata": {
        "id": "JYinCynDBB4G"
      },
      "source": [
        "## 5) Normal Equations"
      ]
    },
    {
      "cell_type": "markdown",
      "metadata": {
        "id": "G7H5PyjVmzib"
      },
      "source": [
        "the closed-form solution to linear regression is\n",
        "\n",
        "$$ \\theta = \\left( X^T X\\right)^{-1} X^T\\vec{y}$$\n",
        "\n",
        "Using this formula does not require any feature scaling, and you will get an exact solution in one calculation: there is no “loop until convergence” like in gradient descent. \n",
        "\n",
        "Remember that while you do not need to scale your features, we still need to add a column of 1’s to the $X$ matrix to have an intercept term ($\\theta_0$). The code in the next cell will add the column of 1’s to X for you."
      ]
    },
    {
      "cell_type": "code",
      "metadata": {
        "id": "BaXtQftQA_27"
      },
      "source": [
        "# Load a new set of data\n",
        "data = np.loadtxt('ex1data2.txt', delimiter=',')\n",
        "X = data[:,:-1]\n",
        "y = data[:,-1]\n",
        "\n",
        "m = y.size # no. of training sample\n",
        "\n",
        "# Add x0=1 -> add a column of 1s to X matrix\n",
        "X = np.concatenate([np.ones((m, 1)), X], axis=1)"
      ],
      "execution_count": 15,
      "outputs": []
    },
    {
      "cell_type": "code",
      "metadata": {
        "id": "y0iuIIcen0fX"
      },
      "source": [
        " \"\"\"\n",
        "    Computes the closed-form solution to linear regression using the normal equation.\n",
        "    \n",
        "    Parameters\n",
        "    ----------\n",
        "    X : array_like\n",
        "        The dataset of shape (m x n+1).\n",
        "    \n",
        "    y : array_like\n",
        "        The value at each data point. A vector of shape (m, ).\n",
        "    \n",
        "    Returns\n",
        "    -------\n",
        "    theta : array_like\n",
        "        Estimated linear regression parameters. A vector of shape (n+1, ).\n",
        "    \n",
        "    \n",
        "    function `np.linalg.pinv` for computing matrix inverse.\n",
        "    \"\"\""
      ],
      "execution_count": null,
      "outputs": []
    },
    {
      "cell_type": "code",
      "metadata": {
        "id": "-KMgDZnBoBVn"
      },
      "source": [
        "# X.shape[1] --> 3 features\n",
        "\n",
        "def normalEqn(X,y):\n",
        "  theta = np.zeros(X.shape[1])\n",
        "\n",
        "  theta = np.dot(np.dot(np.linalg.inv(np.dot(X.T,X)),X.T),y)\n",
        "\n",
        "  return theta # theta will return 3 values of optimal theta0,theta1,theta2 --> corresponding to 3 features"
      ],
      "execution_count": 19,
      "outputs": []
    },
    {
      "cell_type": "code",
      "metadata": {
        "colab": {
          "base_uri": "https://localhost:8080/"
        },
        "id": "xe4TWwTsoJzG",
        "outputId": "1e5b1acd-85d8-4d69-b475-1ae2ffeec475"
      },
      "source": [
        "# Calculate the parameters from the normal equation\n",
        "theta = normalEqn(X,y)\n",
        "\n",
        "# Display normal equation's result\n",
        "print('Theta computed from the normal equations: {:s}'.format(str(theta)))"
      ],
      "execution_count": 20,
      "outputs": [
        {
          "output_type": "stream",
          "text": [
            "Theta computed from the normal equations: [89597.9095428    139.21067402 -8738.01911233]\n"
          ],
          "name": "stdout"
        }
      ]
    },
    {
      "cell_type": "code",
      "metadata": {
        "colab": {
          "base_uri": "https://localhost:8080/"
        },
        "id": "RZ7P6fgJoL_n",
        "outputId": "d2e241db-c2ef-4fe1-9b9c-2224b186b960"
      },
      "source": [
        "# Prediction - Estimate the price of a 1650 sq-ft, 3 br house\n",
        "\n",
        "X_array = [1,1650,3]\n",
        "X_array[1:3] = (X_array[1:3] - mu)/sigma\n",
        "# X_array[1:3] contains features after feature scaling\n",
        "\n",
        "# Predict\n",
        "price = np.dot(X_array,theta) # theta here is the optimal theta\n",
        "\n",
        "print(f'Predicted price of a 1650 sq-ft, 3 bedroom house (using gradient descent): ${price:.0f} ')"
      ],
      "execution_count": 21,
      "outputs": [
        {
          "output_type": "stream",
          "text": [
            "Predicted price of a 1650 sq-ft, 3 bedroom house (using gradient descent): $91511 \n"
          ],
          "name": "stdout"
        }
      ]
    },
    {
      "cell_type": "markdown",
      "metadata": {
        "id": "V1OXVlfupEjP"
      },
      "source": [
        "## Conclusion"
      ]
    },
    {
      "cell_type": "markdown",
      "metadata": {
        "id": "N8jf0TZlpKrl"
      },
      "source": [
        "From gradient descent, prediction is $293,081\n",
        "\n",
        "From normal equation, prediction is $91,511\n",
        "\n",
        "* So which is correct?\n",
        "\n",
        "Both can be used for linear regression. \n",
        "However, size of the dataset in this case was less, so Normal Equation will give a correct answer\n",
        "\n",
        "If size of the dataset is more, say 10,000 rows, then Gradient Descent will give a correct answer (Normal equations don't work with huge number of data)"
      ]
    },
    {
      "cell_type": "code",
      "metadata": {
        "id": "VTvHxDExo6kq"
      },
      "source": [
        ""
      ],
      "execution_count": null,
      "outputs": []
    }
  ]
}