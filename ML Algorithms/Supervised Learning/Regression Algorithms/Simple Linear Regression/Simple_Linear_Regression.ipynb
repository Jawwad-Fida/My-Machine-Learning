{
  "nbformat": 4,
  "nbformat_minor": 0,
  "metadata": {
    "colab": {
      "name": "Simple_Linear_Regression.ipynb",
      "provenance": [],
      "collapsed_sections": [],
      "toc_visible": true
    },
    "kernelspec": {
      "name": "python3",
      "display_name": "Python 3"
    },
    "language_info": {
      "name": "python"
    }
  },
  "cells": [
    {
      "cell_type": "code",
      "metadata": {
        "id": "IMEhdXqU-XuX"
      },
      "source": [
        "%matplotlib inline \n",
        "import matplotlib.pyplot as plt # for plotting\n",
        "import numpy as np # for matrix and vector computations\n",
        "import pandas as pd\n",
        "import seaborn as sns"
      ],
      "execution_count": 2,
      "outputs": []
    },
    {
      "cell_type": "markdown",
      "metadata": {
        "id": "KduKlJLSDLNh"
      },
      "source": [
        "### Debugging\n",
        "\n",
        "* Python array indices start from zero\n",
        "* Vector/matrix operations work only with numpy arrays.Inspect matrix operations to make sure that you are adding and multiplying matrices of compatible dimensions. Printing the dimensions of numpy arrays using the shape property will help you debug.\n",
        "* If you want to do matrix multiplication, you need to use the dot function in numpy. For, example if A and B are two numpy matrices, then the matrix operation AB is np.dot(A, B)"
      ]
    },
    {
      "cell_type": "markdown",
      "metadata": {
        "id": "orGoxcvOJgyv"
      },
      "source": [
        "## Return a 5x5 Identity Matrix"
      ]
    },
    {
      "cell_type": "code",
      "metadata": {
        "colab": {
          "base_uri": "https://localhost:8080/"
        },
        "id": "QW8PN_bb-fDm",
        "outputId": "fc7a6c6d-e965-4062-d3de-8ac127572f31"
      },
      "source": [
        "A = np.eye(5) # using eye()\n",
        "A"
      ],
      "execution_count": 3,
      "outputs": [
        {
          "output_type": "execute_result",
          "data": {
            "text/plain": [
              "array([[1., 0., 0., 0., 0.],\n",
              "       [0., 1., 0., 0., 0.],\n",
              "       [0., 0., 1., 0., 0.],\n",
              "       [0., 0., 0., 1., 0.],\n",
              "       [0., 0., 0., 0., 1.]])"
            ]
          },
          "metadata": {
            "tags": []
          },
          "execution_count": 3
        }
      ]
    },
    {
      "cell_type": "markdown",
      "metadata": {
        "id": "kqqFGIWfK0Lm"
      },
      "source": [
        "Implement linear regression with one variable to predict profits for a food truck. Suppose you are the CEO of a restaurant franchise and are considering different cities for opening a new outlet. The chain already has trucks in various cities and you have data for profits and populations from the cities. You would like to use this data to help you select which city to expand to next.\n",
        "\n",
        "The file Data/ex1data1.txt contains the dataset for our linear regression problem. The first column is the population of a city (in 10,000s) and the second column is the profit of a food truck in that city (in $10,000s). A negative value for profit indicates a loss.\n"
      ]
    },
    {
      "cell_type": "markdown",
      "metadata": {
        "id": "AcXIeZ3sNfBK"
      },
      "source": [
        "## 1) Load the dataset"
      ]
    },
    {
      "cell_type": "code",
      "metadata": {
        "id": "piyzDxTzJor_"
      },
      "source": [
        "# Load the dataset\n",
        "data = np.loadtxt('ex1data1.txt',delimiter=',')\n",
        "X = data[:,0]\n",
        "y = data[:,1]\n",
        "\n",
        "# X and y are matrices "
      ],
      "execution_count": 4,
      "outputs": []
    },
    {
      "cell_type": "code",
      "metadata": {
        "colab": {
          "base_uri": "https://localhost:8080/"
        },
        "id": "IknN-6RqM6tO",
        "outputId": "f0c0c3c8-0460-4b6b-9677-6039ab39fa00"
      },
      "source": [
        "m = y.size # number of training samples\n",
        "m"
      ],
      "execution_count": 5,
      "outputs": [
        {
          "output_type": "execute_result",
          "data": {
            "text/plain": [
              "97"
            ]
          },
          "metadata": {
            "tags": []
          },
          "execution_count": 5
        }
      ]
    },
    {
      "cell_type": "code",
      "metadata": {
        "colab": {
          "base_uri": "https://localhost:8080/"
        },
        "id": "Sv-w-AJmNLLm",
        "outputId": "ac4dacae-2236-4230-cdf6-ec9388fecea7"
      },
      "source": [
        "X.shape, y.shape, X.ndim, y.ndim"
      ],
      "execution_count": 6,
      "outputs": [
        {
          "output_type": "execute_result",
          "data": {
            "text/plain": [
              "((97,), (97,), 1, 1)"
            ]
          },
          "metadata": {
            "tags": []
          },
          "execution_count": 6
        }
      ]
    },
    {
      "cell_type": "markdown",
      "metadata": {
        "id": "3yJHGNdsNcAQ"
      },
      "source": [
        "## 2) Plotting the Data\n",
        "\n",
        "Before starting on any task, it is often useful to understand the data by visualizing it. For this dataset has only two properties to plot (profit and population)."
      ]
    },
    {
      "cell_type": "code",
      "metadata": {
        "id": "d_fIvd6kNQwF"
      },
      "source": [
        "\"\"\"\n",
        "    Plots the data points x and y into a new figure. Plots the data \n",
        "    points and gives the figure axes labels of population and profit.\n",
        "    \n",
        "    Parameters\n",
        "    ----------\n",
        "    x : array_like\n",
        "        Data point values for x-axis.\n",
        "\n",
        "    y : array_like\n",
        "        Data point values for y-axis. Note x and y should have the same size.\n",
        "    \n",
        "    ----\n",
        "    You can use the 'ro' option with plot to have the markers\n",
        "    appear as red circles. Furthermore, you can make the markers larger by\n",
        "    using plot(..., 'ro', ms=10), where `ms` refers to marker size. You \n",
        "    can also set the marker edge color using the `mec` property.\n",
        "    \"\"\""
      ],
      "execution_count": null,
      "outputs": []
    },
    {
      "cell_type": "code",
      "metadata": {
        "id": "DGkWnMkhPIbn"
      },
      "source": [
        "def plotData(x,y):\n",
        "  fig = plt.figure(figsize=(8,6))\n",
        "  plt.plot(x,y,'ro',ms=10,mec='k')\n",
        "  plt.xlabel('Profit in $10,000')\n",
        "  plt.ylabel('Population of a city in 10,000')"
      ],
      "execution_count": 8,
      "outputs": []
    },
    {
      "cell_type": "code",
      "metadata": {
        "colab": {
          "base_uri": "https://localhost:8080/",
          "height": 388
        },
        "id": "eydAWwF4PjaY",
        "outputId": "12f20e67-594a-45bc-ff84-c261d801333a"
      },
      "source": [
        "plotData(X,y)"
      ],
      "execution_count": 9,
      "outputs": [
        {
          "output_type": "display_data",
          "data": {
            "image/png": "[encoded data removed]",
            "text/plain": [
              "<Figure size 576x432 with 1 Axes>"
            ]
          },
          "metadata": {
            "tags": [],
            "needs_background": "light"
          }
        }
      ]
    },
    {
      "cell_type": "markdown",
      "metadata": {
        "id": "di2Cbr7YY-qQ"
      },
      "source": [
        "## 3) Gradient Descent\n",
        "\n",
        "Fit the linear regression parameters $\\theta$ to the dataset using gradient descent."
      ]
    },
    {
      "cell_type": "markdown",
      "metadata": {
        "id": "FIzvAVXXQasZ"
      },
      "source": [
        "<a id=\"section2\"></a>\n",
        "### 3.1 Update Equations\n",
        "\n",
        "The objective of linear regression is to minimize the cost function $J(\\theta)$\n",
        "\n",
        "$$ J(\\theta) = \\frac{1}{2m} \\sum_{i=1}^m \\left( h_{\\theta}(x^{(i)}) - y^{(i)}\\right)^2$$\n",
        "\n",
        "where the hypothesis $h_\\theta(x)$ is given by the linear model\n",
        "$$ h_\\theta(x) = \\theta^Tx = \\theta_0 + \\theta_1 x_1$$\n",
        "\n",
        "Recall that the parameters of your model are the $\\theta_j$ values. These are\n",
        "the values you will adjust to minimize cost $J(\\theta)$. One way to do this is to\n",
        "use the **batch gradient descent algorithm**. In batch gradient descent, each\n",
        "iteration performs the update\n",
        "\n",
        "$$ \\theta_j = \\theta_j - \\alpha \\frac{1}{m} \\sum_{i=1}^m \\left( h_\\theta(x^{(i)}) - y^{(i)}\\right)x_j^{(i)} \\qquad \\text{simultaneously update } \\theta_j \\text{ for all } j$$\n",
        "\n",
        "With each step of gradient descent, your parameters $\\theta_j$ come closer to the optimal values that will achieve the lowest cost J($\\theta$).\n",
        "\n",
        "<div class=\"alert alert-block alert-warning\">\n",
        "**Implementation Note:** We store each sample as a row in the the $X$ matrix in Python `numpy`. To take into account the intercept term ($\\theta_0$), we add an additional first column to $X$ and set it to all ones. This allows us to treat $\\theta_0$ as simply another 'feature'.\n",
        "</div>\n"
      ]
    },
    {
      "cell_type": "code",
      "metadata": {
        "id": "iTdmhyD4Pppu"
      },
      "source": [
        "# initially X contains features x1,x2. Add x0 = 1, so X will now contain the features x0,x1,x2\n",
        "\n",
        "#### Add a column of ones to X. The numpy function stack() joins arrays along a given axis. \n",
        "\n",
        "# The first axis (axis=0) refers to rows (training samples), and second axis (axis=1) refers to columns (features).\n",
        "\n",
        "X = np.stack([np.ones(m),X],axis=1) # This cell is executed only once!"
      ],
      "execution_count": 10,
      "outputs": []
    },
    {
      "cell_type": "markdown",
      "metadata": {
        "id": "QZHwfODYWf4l"
      },
      "source": [
        "<a id=\"section2\"></a>\n",
        "### 3.2 Computing the cost $J(\\theta)$\n",
        "\n",
        "As you perform gradient descent to minimize the cost function $J(\\theta)$, it is helpful to monitor the convergence by computing the cost. Implement a function to calculate $J(\\theta)$ so you can check the convergence of your gradient descent implementation. \n",
        "\n",
        "Remember that the variables $X$ and $y$ are not scalar values. $X$ is a matrix whose rows represent the samples from the training set (feature) and $y$ (label) is a vector whose each element represent the value at a given row of $X$.\n",
        "<a id=\"computeCost\"></a>"
      ]
    },
    {
      "cell_type": "code",
      "metadata": {
        "id": "ZZyQYz1tR1K-"
      },
      "source": [
        "\"\"\"\n",
        "    Compute cost for linear regression. Computes the cost of using theta as the\n",
        "    parameter for linear regression to fit the data points in X and y.\n",
        "    \n",
        "    Parameters\n",
        "    ----------\n",
        "    X : array_like\n",
        "        The input dataset of shape (m x n+1) dimesnions, where m is the number of samples,\n",
        "        and n is the number of features. We assume a vector of one's already \n",
        "        appended to the features so we have n+1 columns.\n",
        "    \n",
        "    y : array_like\n",
        "        The values of the function at each data point. This is a vector of\n",
        "        shape (m, ) i.e. (mx1) dimensions\n",
        "    \n",
        "    theta : array_like\n",
        "        The parameters for the hypothesis/regression function. This is a vector of \n",
        "        shape (n+1, ) i.e. (n+1)x1 dimensions.\n",
        "    \n",
        "    Returns\n",
        "    -------\n",
        "    J : float - The value of the regression cost function.\n",
        "    \"\"\""
      ],
      "execution_count": null,
      "outputs": []
    },
    {
      "cell_type": "code",
      "metadata": {
        "id": "1MCxRaNnYTYy"
      },
      "source": [
        "def computeCost(X,y,theta):\n",
        "  m = y.size # no. of training samples\n",
        "  J = 0\n",
        "\n",
        "  h = np.dot(X,theta) # X and theta are matrices\n",
        "  J = (1/(2 * m)) * np.sum(np.square(np.dot(X, theta) - y))\n",
        "\n",
        "  return J\n"
      ],
      "execution_count": 12,
      "outputs": []
    },
    {
      "cell_type": "code",
      "metadata": {
        "colab": {
          "base_uri": "https://localhost:8080/"
        },
        "id": "2eA-QSKcongs",
        "outputId": "c90a12d8-d83f-4a6f-d8ae-7219599aa550"
      },
      "source": [
        "# take random values of theta0 and theta1\n",
        "\n",
        "J = computeCost(X,y ,theta=np.array([0.0,0.0])) # two values for theta0 and theta1\n",
        "print(f\"With theta = [0, 0] \\nCost computed = {J:.2f}\")\n",
        "print()\n",
        "\n",
        "J = computeCost(X,y ,theta=np.array([-1,2])) \n",
        "print(f\"With theta = [-1, 2] \\nCost computed = {J:.2f}\")"
      ],
      "execution_count": 13,
      "outputs": [
        {
          "output_type": "stream",
          "text": [
            "With theta = [0, 0] \n",
            "Cost computed = 32.07\n",
            "\n",
            "With theta = [-1, 2] \n",
            "Cost computed = 54.24\n"
          ],
          "name": "stdout"
        }
      ]
    },
    {
      "cell_type": "markdown",
      "metadata": {
        "id": "BNBiV-CXt6QS"
      },
      "source": [
        "<a id=\"section3\"></a>\n",
        "### 3.3 Gradient descent\n",
        "\n",
        "Complete a function which Implements gradient descent. Update $\\theta$ with each iteration of the loop. \n",
        "\n",
        "As you program, make sure you understand what you are trying to optimize and what is being updated. Keep in mind that the cost $J(\\theta)$ is parameterized by the vector $\\theta$, not $X$ and $y$. That is, we minimize the value of $J(\\theta)$ by changing the values of the vector $\\theta$, not by changing $X$ or $y$. \n",
        "\n",
        "A good way to verify that gradient descent is working correctly is to look at the value of $J(\\theta)$ and check that it is decreasing with each step. \n"
      ]
    },
    {
      "cell_type": "code",
      "metadata": {
        "id": "A6HCwHlFtwJV"
      },
      "source": [
        "    \"\"\"\n",
        "    Performs gradient descent to learn `theta`. Updates theta by taking `num_iters`\n",
        "    gradient steps with learning rate `alpha`.\n",
        "    \n",
        "    Parameters\n",
        "    ----------\n",
        "    X : array_like\n",
        "        The input dataset of shape (m x n+1).\n",
        "    \n",
        "    y : array_like\n",
        "        Value at given features. A vector of shape (m, ), i.e. (mx1) dimensions\n",
        "    \n",
        "    theta : array_like\n",
        "        Initial values for the linear regression parameters. \n",
        "        A vector of shape (n+1, ), i.e. (n+1)x1 dimensions\n",
        "    \n",
        "    alpha : float\n",
        "        The learning rate.\n",
        "    \n",
        "    num_iters : int\n",
        "        The number of iterations for gradient descent. \n",
        "    \n",
        "    Returns\n",
        "    -------\n",
        "    theta : array_like\n",
        "        The learned linear regression parameters. A vector of shape (n+1, ). This is the optimal theta\n",
        "        for which J is minimum\n",
        "    \n",
        "    J_history : list\n",
        "        A python list for the values of the cost function after each iteration.\n",
        "    \n",
        "    Instructions\n",
        "    ------------\n",
        "    Peform a single gradient step on the parameter vector theta.\n",
        "\n",
        "    While debugging, it can be useful to print out the values of \n",
        "    the cost function (computeCost) and gradient here.\n",
        "    \"\"\""
      ],
      "execution_count": null,
      "outputs": []
    },
    {
      "cell_type": "code",
      "metadata": {
        "id": "oNeMcoRS89gD"
      },
      "source": [
        "def gradient_descent(X,y,theta,alpha,num_iters):\n",
        "  m = y.size # or y.shape[0] # number of training samples\n",
        "\n",
        "  # make a copy of theta, to avoid changing the original array, since numpy arrays are passed by reference to functions\n",
        "  theta = theta.copy()\n",
        "\n",
        "  J_history = [] # Use a python list to store cost in every iteration\n",
        "\n",
        "  for i in range(num_iters):\n",
        "    theta = theta - (alpha/m) * (np.dot(X,theta) - y).dot(X)\n",
        "    # print(theta)\n",
        "\n",
        "    # save the cost J in every iteration\n",
        "    min_cost = computeCost(X,y,theta)\n",
        "    J_history.append(min_cost)\n",
        "    # print(J_history[i])\n",
        "\n",
        "  return theta, J_history # theta will return 2 values --> theta0, theta1"
      ],
      "execution_count": 18,
      "outputs": []
    },
    {
      "cell_type": "code",
      "metadata": {
        "colab": {
          "base_uri": "https://localhost:8080/"
        },
        "id": "0Acoe-eF_CCk",
        "outputId": "f2b88961-a767-4aec-f4ec-ede474f542f8"
      },
      "source": [
        "# randomly initialize fitting parameters\n",
        "theta = np.zeros(2)\n",
        "\n",
        "# some gradient descent settings\n",
        "iterations = 1500\n",
        "alpha = 0.01\n",
        "\n",
        "theta, J_history = gradient_descent(X,y,theta,alpha,iterations)\n",
        "print('Theta found by gradient descent: {:.4f}, {:.4f}'.format(*theta)) # adds theta to empty string"
      ],
      "execution_count": 20,
      "outputs": [
        {
          "output_type": "stream",
          "text": [
            "Theta found by gradient descent: -3.6303, 1.1664\n"
          ],
          "name": "stdout"
        }
      ]
    },
    {
      "cell_type": "markdown",
      "metadata": {
        "id": "0oo6jEnzBCAU"
      },
      "source": [
        "## 4) Plot the linear fit"
      ]
    },
    {
      "cell_type": "code",
      "metadata": {
        "colab": {
          "base_uri": "https://localhost:8080/",
          "height": 388
        },
        "id": "jPOAfBAa_DTQ",
        "outputId": "aa8f565b-d758-4dfd-875e-613b4320fb93"
      },
      "source": [
        "plotData(X[:,1],y) # plot the samples - excluding x1=0 (0th column)\n",
        "\n",
        "# Linear regression line/hypothesis line of best fit  --> y = h(x) = theta0 + theta1*X\n",
        "# x is feature except x1=0,y is entire equation\n",
        "plt.plot(X[:,1],np.dot(X,theta),ls='-') \n",
        "\n",
        "plt.legend(['Training Data','Linear Regression']); # x is training data, y is linear regression line"
      ],
      "execution_count": 27,
      "outputs": [
        {
          "output_type": "display_data",
          "data": {
            "image/png": "[encoded data removed]",
            "text/plain": [
              "<Figure size 576x432 with 1 Axes>"
            ]
          },
          "metadata": {
            "tags": [],
            "needs_background": "light"
          }
        }
      ]
    },
    {
      "cell_type": "markdown",
      "metadata": {
        "id": "EKjLOByMCqEf"
      },
      "source": [
        "## 5) Predict some values"
      ]
    },
    {
      "cell_type": "code",
      "metadata": {
        "colab": {
          "base_uri": "https://localhost:8080/"
        },
        "id": "TfR-ywAXBRbR",
        "outputId": "d0425cb1-6939-4f7e-defc-b983411b1010"
      },
      "source": [
        "# we now have the optimal theta\n",
        "\n",
        "# Predict values for population sizes of 35,000 and 70,000\n",
        "\n",
        "# Note that the first argument to the `numpy` function `dot` is a python list. \n",
        "# `numpy` can internally convert **valid** python lists to numpy arrays when explicitly provided as arguments to `numpy` functions.\n",
        "\n",
        "# profit x in 10,000 and population y in 10,000, so 3.5 --> 350000, 1 -> 10000\n",
        "predict1 = np.dot([1,3.5],theta)\n",
        "print(f\"For population = 35,000, we predict a profit of {predict1 * 10000:.2f}\")\n",
        "\n",
        "predict2 = np.dot([1,7],theta)\n",
        "print(f\"For population = 35,000, we predict a profit of {predict2 * 10000:.2f}\")"
      ],
      "execution_count": 30,
      "outputs": [
        {
          "output_type": "stream",
          "text": [
            "For population = 35,000, we predict a profit of 4519.77\n",
            "For population = 35,000, we predict a profit of 45342.45\n"
          ],
          "name": "stdout"
        }
      ]
    },
    {
      "cell_type": "code",
      "metadata": {
        "id": "IDWo_SwoEilD"
      },
      "source": [
        ""
      ],
      "execution_count": null,
      "outputs": []
    }
  ]
}