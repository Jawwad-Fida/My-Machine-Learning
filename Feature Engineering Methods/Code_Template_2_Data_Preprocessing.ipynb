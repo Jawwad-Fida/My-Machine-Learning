{
  "nbformat": 4,
  "nbformat_minor": 0,
  "metadata": {
    "colab": {
      "name": "Code Template 2 - Data Preprocessing.ipynb",
      "provenance": [],
      "collapsed_sections": [],
      "toc_visible": true
    },
    "kernelspec": {
      "name": "python3",
      "display_name": "Python 3"
    },
    "language_info": {
      "name": "python"
    }
  },
  "cells": [
    {
      "cell_type": "markdown",
      "metadata": {
        "id": "6WqQIR_YUMrh"
      },
      "source": [
        "## 1) Importing the Libraries"
      ]
    },
    {
      "cell_type": "code",
      "metadata": {
        "id": "Lc9YCccs5FwS"
      },
      "source": [
        "%matplotlib inline\n",
        "import matplotlib.pyplot as plt\n",
        "import seaborn as sns\n",
        "import numpy as np\n",
        "import pandas as pd"
      ],
      "execution_count": null,
      "outputs": []
    },
    {
      "cell_type": "markdown",
      "metadata": {
        "id": "KhBKuLEOWGAo"
      },
      "source": [
        "## 2) Data Analysis"
      ]
    },
    {
      "cell_type": "code",
      "metadata": {
        "id": "SlK34caG5bjv"
      },
      "source": [
        "# Now, we will practice the methods of Data Preprocessing\n",
        "\n",
        "data = pd.read_csv(\"\", na_values='?')"
      ],
      "execution_count": null,
      "outputs": []
    },
    {
      "cell_type": "code",
      "metadata": {
        "id": "XcoUgqD95dEA"
      },
      "source": [
        "data.head()"
      ],
      "execution_count": null,
      "outputs": []
    },
    {
      "cell_type": "code",
      "metadata": {
        "id": "tCqK1a6x5dYM"
      },
      "source": [
        "data.shape"
      ],
      "execution_count": null,
      "outputs": []
    },
    {
      "cell_type": "code",
      "metadata": {
        "id": "_XfZiOfhVa8B"
      },
      "source": [
        "# Remove duplicate rows - Avoid Peeking \n",
        "data.drop_duplicates(inplace = True)"
      ],
      "execution_count": null,
      "outputs": []
    },
    {
      "cell_type": "code",
      "metadata": {
        "id": "fZ-TDjEIVdG0"
      },
      "source": [
        "data.shape"
      ],
      "execution_count": null,
      "outputs": []
    },
    {
      "cell_type": "code",
      "metadata": {
        "id": "ZzieF3HcVeM-"
      },
      "source": [
        "# Find how many unique() and nunique() there are in each column\n",
        "for col in data.columns:\n",
        "  print(f\"Column: {col} - {data[col].nunique()} unique values\")\n",
        "  print(data[col].unique())\n",
        "  print(\"-----------------\")"
      ],
      "execution_count": null,
      "outputs": []
    },
    {
      "cell_type": "markdown",
      "metadata": {
        "id": "7kgeVh3KXygl"
      },
      "source": [
        "## 3) Checking for missing data"
      ]
    },
    {
      "cell_type": "code",
      "metadata": {
        "id": "1QOMXfy8VerN"
      },
      "source": [
        "data.isnull().sum()"
      ],
      "execution_count": null,
      "outputs": []
    },
    {
      "cell_type": "markdown",
      "metadata": {
        "id": "PVv402kqYMtJ"
      },
      "source": [
        "## 4) Before preprocessing the dataset, split the dataset"
      ]
    },
    {
      "cell_type": "code",
      "metadata": {
        "id": "YegZL_G0YDhk"
      },
      "source": [
        "X = data.loc[:, data.columns != 'Label_Class_name']\n",
        "y = data['Label_Class_name']"
      ],
      "execution_count": null,
      "outputs": []
    },
    {
      "cell_type": "code",
      "metadata": {
        "id": "iUtfneEwYDkE"
      },
      "source": [
        "from sklearn.model_selection import train_test_split\n",
        "\n",
        "X_train, X_test, y_train, y_test = train_test_split(X, y, test_size=, random_state = 0)"
      ],
      "execution_count": null,
      "outputs": []
    },
    {
      "cell_type": "markdown",
      "metadata": {
        "id": "zre_9OS9ZjfV"
      },
      "source": [
        "## 5) Handle missing data"
      ]
    },
    {
      "cell_type": "markdown",
      "metadata": {
        "id": "zCq_DyTYZm0N"
      },
      "source": [
        "### a) Drop the rows containing '?'"
      ]
    },
    {
      "cell_type": "code",
      "metadata": {
        "id": "6uzymJmTYDmM"
      },
      "source": [
        "# Merge the training sets together, drop their missing values and then separate them again\n",
        "train = pd.concat([X_train, y_train], axis=1)\n",
        "\n",
        "# Merge the test sets together, drop their missing values and then separate them again\n",
        "test = pd.concat([X_test, y_test], axis=1)"
      ],
      "execution_count": null,
      "outputs": []
    },
    {
      "cell_type": "code",
      "metadata": {
        "id": "FRSEU25CYDok"
      },
      "source": [
        "train.shape, test.shape"
      ],
      "execution_count": null,
      "outputs": []
    },
    {
      "cell_type": "code",
      "metadata": {
        "id": "bxWnqA-GaJ9c"
      },
      "source": [
        "train = train.dropna()\n",
        "test = test.dropna()"
      ],
      "execution_count": null,
      "outputs": []
    },
    {
      "cell_type": "code",
      "metadata": {
        "id": "Nfbe4bcuaKAw"
      },
      "source": [
        "train.shape, test.shape"
      ],
      "execution_count": null,
      "outputs": []
    },
    {
      "cell_type": "code",
      "metadata": {
        "id": "i72I7yvjaKDC"
      },
      "source": [
        "# Now separate them again\n",
        "\n",
        "drop_X_train = train.loc[:, train.columns != 'Label_Class_name']\n",
        "drop_y_train = train['Label_Class_name']\n",
        "\n",
        "drop_X_test = test.loc[:, test.columns != 'Label_Class_name']\n",
        "drop_y_test = test['Label_Class_name']"
      ],
      "execution_count": null,
      "outputs": []
    },
    {
      "cell_type": "markdown",
      "metadata": {
        "id": "qZ-WQNu_aYbM"
      },
      "source": [
        "### b) Imputation: Simple Imputation by Sklearn - Mean/Median/Most Frequent"
      ]
    },
    {
      "cell_type": "code",
      "metadata": {
        "id": "P8WuwWTMaNDP"
      },
      "source": [
        "# Categorical and continuous features are handled differently. Separate them\n",
        "\n",
        "# Choosing categorical features and continuous features \n",
        "\n",
        "# 1) Choose manually\n",
        "categorical_features = ['','','']\n",
        "continuous_features = ['','','']  "
      ],
      "execution_count": null,
      "outputs": []
    },
    {
      "cell_type": "code",
      "metadata": {
        "id": "kWcJ1-NXaNFa"
      },
      "source": [
        "# 2) Choose based on str and int - not full proof\n",
        "\n",
        "from pandas.api.types import is_string_dtype\n",
        "\n",
        "categorical_features = []\n",
        "for col in data.columns:\n",
        "  if col=='Class':\n",
        "    continue\n",
        "  if is_string_dtype(data[col].dtype):\n",
        "    categorical_features.append(col)\n",
        "    \n",
        "print(categorical_features)"
      ],
      "execution_count": null,
      "outputs": []
    },
    {
      "cell_type": "code",
      "metadata": {
        "id": "7nk6SoZRfEzO"
      },
      "source": [
        "# mean/median/most_frequent/constant\n",
        "from sklearn.impute import SimpleImputer"
      ],
      "execution_count": null,
      "outputs": []
    },
    {
      "cell_type": "code",
      "metadata": {
        "id": "YaLoxV0QaNHi"
      },
      "source": [
        "si_X_train = pd.DataFrame() # create a new dataframe to save the train dataset\n",
        "si_X_test = pd.DataFrame() # create a new dataframe to save the test dataset\n",
        "\n",
        "for col in X_train.columns:\n",
        "  if col in categorical_features:\n",
        "    si = SimpleImputer(strategy='most_frequent')\n",
        "  else:\n",
        "    si = SimpleImputer(strategy='mean') # median or # constant\n",
        "  si.fit(X_train[[col]])\n",
        "  si_X_train[col] = si.transform(X_train[[col]]).flatten()\n",
        "  si_X_test[col] = si.transform(X_test[[col]]).flatten() "
      ],
      "execution_count": null,
      "outputs": []
    },
    {
      "cell_type": "markdown",
      "metadata": {
        "id": "KSIvSRv9gKOg"
      },
      "source": [
        "## 6) Conversion of data - after Imputation"
      ]
    },
    {
      "cell_type": "markdown",
      "metadata": {
        "id": "fpxEHkmYg1F4"
      },
      "source": [
        "### Conversion of Continuous Features"
      ]
    },
    {
      "cell_type": "markdown",
      "metadata": {
        "id": "fkNYKe9yg5EG"
      },
      "source": [
        "#### a) Binarization "
      ]
    },
    {
      "cell_type": "code",
      "metadata": {
        "id": "fRgYhAyMaNKE"
      },
      "source": [
        "from sklearn.preprocessing import Binarizer"
      ],
      "execution_count": null,
      "outputs": []
    },
    {
      "cell_type": "code",
      "metadata": {
        "id": "RJg2IoyFg-YM"
      },
      "source": [
        "b_si_X_train = pd.DataFrame()\n",
        "b_si_X_test = pd.DataFrame()\n",
        "\n",
        "# applied on imputed dataset\n",
        "\n",
        "for col in X_train.columns:\n",
        "  if col not in categorical_features: \n",
        "    # selecting the continuous features only\n",
        "    bin = Binarizer(threshold=si_X_train[col].mean())\n",
        "    b_si_X_train[col] = bin.transform(si_X_train[[col]]).flatten()\n",
        "    b_si_X_test[col] = bin.transform(si_X_test[[col]]).flatten()\n",
        "  else:\n",
        "    # else, just copy the values - no change\n",
        "    b_si_X_train[col] = si_X_train[col].copy() \n",
        "    b_si_X_test[col] = si_X_test[col].copy() "
      ],
      "execution_count": null,
      "outputs": []
    },
    {
      "cell_type": "markdown",
      "metadata": {
        "id": "Hq0mnViPlNQ6"
      },
      "source": [
        "#### b) KBinsDiscretizer - Fixed Width Binning"
      ]
    },
    {
      "cell_type": "code",
      "metadata": {
        "id": "v7-b40Vwg-ad"
      },
      "source": [
        "from sklearn.preprocessing import KBinsDiscretizer"
      ],
      "execution_count": null,
      "outputs": []
    },
    {
      "cell_type": "code",
      "metadata": {
        "id": "mOgG05V8lWag"
      },
      "source": [
        "kb_si_X_train = pd.DataFrame()\n",
        "kb_si_X_test = pd.DataFrame()\n",
        "\n",
        "for col in X_train.columns:\n",
        "  if col not in categorical_features:\n",
        "    # selecting the continuous features only\n",
        "    bin = KBinsDiscretizer(n_bins=4, encode='ordinal', strategy='uniform')\n",
        "    bin.fit(si_X_train[[col]])\n",
        "    kb_si_X_train[col] = bin.transform(si_X_train[[col]]).flatten()\n",
        "    kb_si_X_test[col] = bin.transform(si_X_test[[col]]).flatten()\n",
        "  else:\n",
        "    # else, just copy the values - no change\n",
        "    kb_si_X_train[col] = si_X_train[col].copy()\n",
        "    kb_si_X_test[col] = si_X_test[col].copy()"
      ],
      "execution_count": null,
      "outputs": []
    },
    {
      "cell_type": "markdown",
      "metadata": {
        "id": "u4dlrqEEmB3G"
      },
      "source": [
        "### Handle Text features - Label Encoding"
      ]
    },
    {
      "cell_type": "code",
      "metadata": {
        "id": "B5EhyYi2g-cw"
      },
      "source": [
        "from sklearn.preprocessing import LabelEncoder\n",
        "le = LabelEncoder()"
      ],
      "execution_count": null,
      "outputs": []
    },
    {
      "cell_type": "code",
      "metadata": {
        "id": "c3DYajKBg-fR"
      },
      "source": [
        "# Convert the Label Class if needed\n",
        "\n",
        "y_train = le.fit_transform(y_train)\n",
        "y_test = le.transform(y_test)"
      ],
      "execution_count": null,
      "outputs": []
    },
    {
      "cell_type": "code",
      "metadata": {
        "id": "sKYtO7jjmlz4"
      },
      "source": [
        "continuous_feature = ['','','']\n",
        "\n",
        "l_X_train = pd.DataFrame() # Final dataset --> before scaling\n",
        "l_X_test = pd.DataFrame() # Final dataset --> before scaling"
      ],
      "execution_count": null,
      "outputs": []
    },
    {
      "cell_type": "code",
      "metadata": {
        "id": "2g2eUNAgmxR9"
      },
      "source": [
        "# dataset will be either imputed dataset OR continous feature converted dataset\n",
        "\n",
        "for col in X_train.columns:\n",
        "  if col in categorical_features:\n",
        "    # or if col not in continuous_features\n",
        "    # le = LabelEncoder()\n",
        "    le.fit(si_X_train[col])\n",
        "    l_X_train[col] = le.transform(si_X_train[col])\n",
        "    l_X_test[col] = le.transform(si_X_test[col])\n",
        "  else:\n",
        "    # else, just copy the value, no change\n",
        "    l_X_train[col] = si_X_train[col].copy()\n",
        "    l_X_test[col] = si_X_test[col].copy() "
      ],
      "execution_count": null,
      "outputs": []
    },
    {
      "cell_type": "markdown",
      "metadata": {
        "id": "oMX3e4xVnS-F"
      },
      "source": [
        "## 7) Feature Scaling, Then Train, Test and Evaluation --> Template 1"
      ]
    }
  ]
}