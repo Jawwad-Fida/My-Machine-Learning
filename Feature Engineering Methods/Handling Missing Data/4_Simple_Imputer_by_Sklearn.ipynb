{
 "cells": [
  {
   "cell_type": "code",
   "execution_count": 38,
   "id": "f3445bdf",
   "metadata": {},
   "outputs": [],
   "source": [
    "%matplotlib inline\n",
    "import matplotlib.pyplot as plt\n",
    "import numpy as np\n",
    "import pandas as pd"
   ]
  },
  {
   "cell_type": "code",
   "execution_count": 39,
   "id": "8710110e",
   "metadata": {},
   "outputs": [],
   "source": [
    "def read_data():\n",
    "    df = pd.read_csv(\"data/car-sales-extended-missing-data.csv\")\n",
    "    return df\n",
    "\n",
    "# to change index of dataframe --> use reindex(d)"
   ]
  },
  {
   "cell_type": "code",
   "execution_count": 40,
   "id": "1eee3ca9",
   "metadata": {},
   "outputs": [
    {
     "data": {
      "text/html": [
       "<div>\n",
       "<style scoped>\n",
       "    .dataframe tbody tr th:only-of-type {\n",
       "        vertical-align: middle;\n",
       "    }\n",
       "\n",
       "    .dataframe tbody tr th {\n",
       "        vertical-align: top;\n",
       "    }\n",
       "\n",
       "    .dataframe thead th {\n",
       "        text-align: right;\n",
       "    }\n",
       "</style>\n",
       "<table border=\"1\" class=\"dataframe\">\n",
       "  <thead>\n",
       "    <tr style=\"text-align: right;\">\n",
       "      <th></th>\n",
       "      <th>Make</th>\n",
       "      <th>Colour</th>\n",
       "      <th>Odometer (KM)</th>\n",
       "      <th>Doors</th>\n",
       "      <th>Price</th>\n",
       "    </tr>\n",
       "  </thead>\n",
       "  <tbody>\n",
       "    <tr>\n",
       "      <th>0</th>\n",
       "      <td>Honda</td>\n",
       "      <td>White</td>\n",
       "      <td>35431.0</td>\n",
       "      <td>4.0</td>\n",
       "      <td>15323.0</td>\n",
       "    </tr>\n",
       "    <tr>\n",
       "      <th>1</th>\n",
       "      <td>BMW</td>\n",
       "      <td>Blue</td>\n",
       "      <td>192714.0</td>\n",
       "      <td>5.0</td>\n",
       "      <td>19943.0</td>\n",
       "    </tr>\n",
       "    <tr>\n",
       "      <th>2</th>\n",
       "      <td>Honda</td>\n",
       "      <td>White</td>\n",
       "      <td>84714.0</td>\n",
       "      <td>4.0</td>\n",
       "      <td>28343.0</td>\n",
       "    </tr>\n",
       "    <tr>\n",
       "      <th>3</th>\n",
       "      <td>Toyota</td>\n",
       "      <td>White</td>\n",
       "      <td>154365.0</td>\n",
       "      <td>4.0</td>\n",
       "      <td>13434.0</td>\n",
       "    </tr>\n",
       "    <tr>\n",
       "      <th>4</th>\n",
       "      <td>Nissan</td>\n",
       "      <td>Blue</td>\n",
       "      <td>181577.0</td>\n",
       "      <td>3.0</td>\n",
       "      <td>14043.0</td>\n",
       "    </tr>\n",
       "    <tr>\n",
       "      <th>...</th>\n",
       "      <td>...</td>\n",
       "      <td>...</td>\n",
       "      <td>...</td>\n",
       "      <td>...</td>\n",
       "      <td>...</td>\n",
       "    </tr>\n",
       "    <tr>\n",
       "      <th>995</th>\n",
       "      <td>Toyota</td>\n",
       "      <td>Black</td>\n",
       "      <td>35820.0</td>\n",
       "      <td>4.0</td>\n",
       "      <td>32042.0</td>\n",
       "    </tr>\n",
       "    <tr>\n",
       "      <th>996</th>\n",
       "      <td>NaN</td>\n",
       "      <td>White</td>\n",
       "      <td>155144.0</td>\n",
       "      <td>3.0</td>\n",
       "      <td>5716.0</td>\n",
       "    </tr>\n",
       "    <tr>\n",
       "      <th>997</th>\n",
       "      <td>Nissan</td>\n",
       "      <td>Blue</td>\n",
       "      <td>66604.0</td>\n",
       "      <td>4.0</td>\n",
       "      <td>31570.0</td>\n",
       "    </tr>\n",
       "    <tr>\n",
       "      <th>998</th>\n",
       "      <td>Honda</td>\n",
       "      <td>White</td>\n",
       "      <td>215883.0</td>\n",
       "      <td>4.0</td>\n",
       "      <td>4001.0</td>\n",
       "    </tr>\n",
       "    <tr>\n",
       "      <th>999</th>\n",
       "      <td>Toyota</td>\n",
       "      <td>Blue</td>\n",
       "      <td>248360.0</td>\n",
       "      <td>4.0</td>\n",
       "      <td>12732.0</td>\n",
       "    </tr>\n",
       "  </tbody>\n",
       "</table>\n",
       "<p>1000 rows × 5 columns</p>\n",
       "</div>"
      ],
      "text/plain": [
       "       Make Colour  Odometer (KM)  Doors    Price\n",
       "0     Honda  White        35431.0    4.0  15323.0\n",
       "1       BMW   Blue       192714.0    5.0  19943.0\n",
       "2     Honda  White        84714.0    4.0  28343.0\n",
       "3    Toyota  White       154365.0    4.0  13434.0\n",
       "4    Nissan   Blue       181577.0    3.0  14043.0\n",
       "..      ...    ...            ...    ...      ...\n",
       "995  Toyota  Black        35820.0    4.0  32042.0\n",
       "996     NaN  White       155144.0    3.0   5716.0\n",
       "997  Nissan   Blue        66604.0    4.0  31570.0\n",
       "998   Honda  White       215883.0    4.0   4001.0\n",
       "999  Toyota   Blue       248360.0    4.0  12732.0\n",
       "\n",
       "[1000 rows x 5 columns]"
      ]
     },
     "execution_count": 40,
     "metadata": {},
     "output_type": "execute_result"
    }
   ],
   "source": [
    "df = read_data()\n",
    "df"
   ]
  },
  {
   "cell_type": "code",
   "execution_count": 41,
   "id": "56a8df9d",
   "metadata": {},
   "outputs": [
    {
     "data": {
      "text/plain": [
       "Make              object\n",
       "Colour            object\n",
       "Odometer (KM)    float64\n",
       "Doors            float64\n",
       "Price            float64\n",
       "dtype: object"
      ]
     },
     "execution_count": 41,
     "metadata": {},
     "output_type": "execute_result"
    }
   ],
   "source": [
    "df.dtypes"
   ]
  },
  {
   "cell_type": "code",
   "execution_count": 42,
   "id": "ad5510c3",
   "metadata": {},
   "outputs": [
    {
     "data": {
      "text/plain": [
       "1000"
      ]
     },
     "execution_count": 42,
     "metadata": {},
     "output_type": "execute_result"
    }
   ],
   "source": [
    "# Check how many data is present in the dataframe\n",
    "len(df)"
   ]
  },
  {
   "cell_type": "code",
   "execution_count": 43,
   "id": "2f690e32",
   "metadata": {},
   "outputs": [
    {
     "data": {
      "text/plain": [
       "Make             49\n",
       "Colour           50\n",
       "Odometer (KM)    50\n",
       "Doors            50\n",
       "Price            50\n",
       "dtype: int64"
      ]
     },
     "execution_count": 43,
     "metadata": {},
     "output_type": "execute_result"
    }
   ],
   "source": [
    "# Number of missing values in the dataframe\n",
    "df.isnull().sum()"
   ]
  },
  {
   "cell_type": "markdown",
   "id": "fcec2ee3",
   "metadata": {},
   "source": [
    "#### Then Split data into train and test set, and then fill them out seperately"
   ]
  },
  {
   "cell_type": "markdown",
   "id": "520d60cb",
   "metadata": {},
   "source": [
    "## Handling Missing Values"
   ]
  },
  {
   "cell_type": "markdown",
   "id": "cedbad6b",
   "metadata": {},
   "source": [
    "### 4. Filling rows with missing data - SimpleImputer()\n",
    "\n",
    "* SimpleImputer() is provided by Scikit-Learn Library"
   ]
  },
  {
   "cell_type": "code",
   "execution_count": 44,
   "id": "ffef64c8",
   "metadata": {},
   "outputs": [
    {
     "data": {
      "text/plain": [
       "Make             47\n",
       "Colour           46\n",
       "Odometer (KM)    48\n",
       "Doors            47\n",
       "Price             0\n",
       "dtype: int64"
      ]
     },
     "execution_count": 44,
     "metadata": {},
     "output_type": "execute_result"
    }
   ],
   "source": [
    "# Remove rows with missing Price Values --> as price is y\n",
    "df.dropna(subset=[\"Price\"],inplace=True)\n",
    "\n",
    "df.isnull().sum()"
   ]
  },
  {
   "cell_type": "code",
   "execution_count": 45,
   "id": "541a8067",
   "metadata": {},
   "outputs": [],
   "source": [
    "X = df.drop('Price',axis=1)\n",
    "y = df['Price']"
   ]
  },
  {
   "cell_type": "code",
   "execution_count": 46,
   "id": "52db823b",
   "metadata": {},
   "outputs": [],
   "source": [
    "from sklearn.model_selection import train_test_split\n",
    "\n",
    "np.random.seed(42)\n",
    "\n",
    "X_train, X_test, y_train, y_test = train_test_split(X,y,test_size=0.2)"
   ]
  },
  {
   "cell_type": "code",
   "execution_count": 47,
   "id": "3fc1e4e5",
   "metadata": {},
   "outputs": [
    {
     "data": {
      "text/plain": [
       "((760, 4), (190, 4), (760,), (190,))"
      ]
     },
     "execution_count": 47,
     "metadata": {},
     "output_type": "execute_result"
    }
   ],
   "source": [
    "X_train.shape, X_test.shape, y_train.shape, y_test.shape"
   ]
  },
  {
   "cell_type": "code",
   "execution_count": 48,
   "id": "9d9dd27f",
   "metadata": {},
   "outputs": [
    {
     "data": {
      "text/plain": [
       "Make             47\n",
       "Colour           46\n",
       "Odometer (KM)    48\n",
       "Doors            47\n",
       "dtype: int64"
      ]
     },
     "execution_count": 48,
     "metadata": {},
     "output_type": "execute_result"
    }
   ],
   "source": [
    "# Check missing values in X (both train and test dataset)\n",
    "X.isna().sum()"
   ]
  },
  {
   "cell_type": "markdown",
   "id": "5a6eadf6",
   "metadata": {},
   "source": [
    "Let's fill the missing values. We'll fill the training and test values separately to ensure training data stays with the training data and test data stays with the test data.\n",
    "\n",
    "Note: We use fit_transform() on the training data and transform() on the testing data. \n",
    "\n",
    "In essence, we learn the patterns in the training set and transform it via imputation (fit, then transform). Then we take those same patterns and fill the test set (transform only)."
   ]
  },
  {
   "cell_type": "code",
   "execution_count": 49,
   "id": "c442ee04",
   "metadata": {},
   "outputs": [],
   "source": [
    "# Fill missing values with Scikit-Learn\n",
    "\n",
    "from sklearn.impute import SimpleImputer\n",
    "from sklearn.compose import ColumnTransformer\n",
    "\n",
    "# Fill categorical values with \"missing\" and numerical values with mean\n",
    "# Imputation --> Find the missing values and fill them\n",
    "# Define some imputers\n",
    "\n",
    "# strategy=\"constant\" = go to the categorical columns, if u find a missing value, \n",
    "# constantly fill them with the string missing, or mean or a default value\n",
    "\n",
    "cat_imputer = SimpleImputer(strategy=\"constant\",fill_value=\"missing\")\n",
    "door_imputer = SimpleImputer(strategy=\"constant\",fill_value=4)\n",
    "num_imputer = SimpleImputer(strategy=\"mean\")\n",
    "\n",
    "# Define columns\n",
    "cat_features = [\"Make\",\"Colour\"] # nominal category column in dataframe\n",
    "door_features = [\"Doors\"] # a category column\n",
    "num_features = [\"Odometer (KM)\"] # numerical column\n",
    "\n",
    "# Create an imputer (something that fills missing data)\n",
    "# pass in the imputations (all the different transformations to do)\n",
    "\n",
    "# Takes a list and tuples within exists multiple different transformers\n",
    "imputer = ColumnTransformer([\n",
    "    # name, imputer to use, features on which to use the imputer\n",
    "    (\"cat_imputer\",cat_imputer,cat_features),\n",
    "    (\"door_imputer\",door_imputer,door_features),\n",
    "    (\"num_imputer\",num_imputer,num_features)\n",
    "])\n",
    "\n",
    "# Transform data\n",
    "# Fill train and test values separately\n",
    "filled_X_train = imputer.fit_transform(X_train) # fit_transform imputes the missing values from the training set and fills them simultaneously\n",
    "filled_X_test = imputer.transform(X_test) # tranform takes the imputing missing values from the training set and fills the test set with them"
   ]
  },
  {
   "cell_type": "code",
   "execution_count": 50,
   "id": "dc5d49bf",
   "metadata": {},
   "outputs": [
    {
     "data": {
      "text/plain": [
       "array([['Honda', 'White', 4.0, 71934.0],\n",
       "       ['Toyota', 'Red', 4.0, 162665.0],\n",
       "       ['Honda', 'White', 4.0, 42844.0],\n",
       "       ...,\n",
       "       ['Toyota', 'White', 4.0, 196225.0],\n",
       "       ['Honda', 'Blue', 4.0, 133117.0],\n",
       "       ['Honda', 'missing', 4.0, 150582.0]], dtype=object)"
      ]
     },
     "execution_count": 50,
     "metadata": {},
     "output_type": "execute_result"
    }
   ],
   "source": [
    "# Check filled X_train\n",
    "filled_X_train"
   ]
  },
  {
   "cell_type": "code",
   "execution_count": 51,
   "id": "936be716",
   "metadata": {},
   "outputs": [
    {
     "data": {
      "text/plain": [
       "array([['Toyota', 'Blue', 4.0, 99761.0],\n",
       "       ['Toyota', 'Black', 4.0, 17975.0],\n",
       "       ['Honda', 'Blue', 4.0, 197664.0],\n",
       "       ['Nissan', 'Green', 4.0, 235589.0],\n",
       "       ['Honda', 'Black', 4.0, 231659.0],\n",
       "       ['Toyota', 'Blue', 4.0, 247601.0],\n",
       "       ['Toyota', 'Green', 4.0, 110078.0],\n",
       "       ['missing', 'White', 4.0, 155383.0],\n",
       "       ['Nissan', 'White', 4.0, 26634.0],\n",
       "       ['Honda', 'White', 4.0, 130319.03314917127],\n",
       "       ['Honda', 'Green', 4.0, 238825.0],\n",
       "       ['Honda', 'Green', 4.0, 37606.0],\n",
       "       ['Toyota', 'Blue', 4.0, 230908.0],\n",
       "       ['Toyota', 'Red', 4.0, 159925.0],\n",
       "       ['Toyota', 'Blue', 4.0, 181466.0],\n",
       "       ['Toyota', 'Blue', 4.0, 140465.0],\n",
       "       ['Toyota', 'White', 4.0, 146307.0],\n",
       "       ['Toyota', 'Green', 4.0, 214179.0],\n",
       "       ['Honda', 'White', 4.0, 184869.0],\n",
       "       ['Toyota', 'Black', 4.0, 224986.0],\n",
       "       ['Nissan', 'White', 3.0, 176135.0],\n",
       "       ['Nissan', 'Red', 4.0, 130319.03314917127],\n",
       "       ['Toyota', 'Blue', 4.0, 112223.0],\n",
       "       ['BMW', 'missing', 5.0, 206446.0],\n",
       "       ['Honda', 'Green', 4.0, 130075.0],\n",
       "       ['Nissan', 'Green', 4.0, 87701.0],\n",
       "       ['Honda', 'Red', 4.0, 16079.0],\n",
       "       ['Toyota', 'White', 4.0, 172018.0],\n",
       "       ['Nissan', 'White', 4.0, 19265.0],\n",
       "       ['Nissan', 'Blue', 4.0, 34024.0],\n",
       "       ['Honda', 'White', 4.0, 56534.0],\n",
       "       ['Toyota', 'White', 4.0, 22257.0],\n",
       "       ['Toyota', 'missing', 4.0, 192890.0],\n",
       "       ['Toyota', 'Green', 4.0, 130319.03314917127],\n",
       "       ['Toyota', 'Black', 4.0, 93054.0],\n",
       "       ['Honda', 'Blue', 4.0, 31677.0],\n",
       "       ['Toyota', 'Blue', 4.0, 222542.0],\n",
       "       ['Nissan', 'Blue', 4.0, 179666.0],\n",
       "       ['Toyota', 'Black', 4.0, 86696.0],\n",
       "       ['Toyota', 'Blue', 4.0, 240627.0],\n",
       "       ['Toyota', 'Green', 4.0, 109868.0],\n",
       "       ['Toyota', 'White', 4.0, 119439.0],\n",
       "       ['Toyota', 'Blue', 4.0, 85473.0],\n",
       "       ['Nissan', 'White', 4.0, 82429.0],\n",
       "       ['Nissan', 'Blue', 4.0, 130319.03314917127],\n",
       "       ['missing', 'Blue', 4.0, 179468.0],\n",
       "       ['Toyota', 'White', 4.0, 216647.0],\n",
       "       ['Honda', 'Black', 4.0, 237861.0],\n",
       "       ['Nissan', 'White', 4.0, 123121.0],\n",
       "       ['Honda', 'Blue', 4.0, 50417.0],\n",
       "       ['Toyota', 'Blue', 4.0, 229110.0],\n",
       "       ['Toyota', 'Blue', 4.0, 29856.0],\n",
       "       ['Nissan', 'White', 4.0, 43540.0],\n",
       "       ['Nissan', 'Black', 4.0, 239908.0],\n",
       "       ['missing', 'White', 4.0, 103728.0],\n",
       "       ['missing', 'White', 4.0, 138294.0],\n",
       "       ['Nissan', 'Red', 4.0, 124112.0],\n",
       "       ['Nissan', 'Red', 4.0, 166895.0],\n",
       "       ['Nissan', 'White', 3.0, 130319.03314917127],\n",
       "       ['Toyota', 'White', 4.0, 177571.0],\n",
       "       ['Toyota', 'White', 4.0, 227387.0],\n",
       "       ['Toyota', 'White', 4.0, 130319.03314917127],\n",
       "       ['Toyota', 'Red', 4.0, 157432.0],\n",
       "       ['Honda', 'Blue', 4.0, 68223.0],\n",
       "       ['Honda', 'Blue', 4.0, 84719.0],\n",
       "       ['Honda', 'Green', 4.0, 47019.0],\n",
       "       ['Toyota', 'Black', 4.0, 201753.0],\n",
       "       ['missing', 'Blue', 4.0, 96363.0],\n",
       "       ['Nissan', 'White', 4.0, 48730.0],\n",
       "       ['Honda', 'Green', 4.0, 94062.0],\n",
       "       ['Honda', 'Red', 4.0, 111727.0],\n",
       "       ['missing', 'Blue', 4.0, 73926.0],\n",
       "       ['Nissan', 'Red', 4.0, 61892.0],\n",
       "       ['Nissan', 'Blue', 4.0, 124116.0],\n",
       "       ['Nissan', 'Blue', 4.0, 111256.0],\n",
       "       ['missing', 'Blue', 4.0, 216250.0],\n",
       "       ['missing', 'Black', 4.0, 189001.0],\n",
       "       ['Honda', 'White', 4.0, 134949.0],\n",
       "       ['BMW', 'White', 5.0, 29534.0],\n",
       "       ['Toyota', 'White', 4.0, 110362.0],\n",
       "       ['Honda', 'White', 4.0, 148238.0],\n",
       "       ['Toyota', 'Blue', 4.0, 193276.0],\n",
       "       ['Toyota', 'Green', 4.0, 132714.0],\n",
       "       ['Toyota', 'Blue', 4.0, 23241.0],\n",
       "       ['Toyota', 'Red', 4.0, 190211.0],\n",
       "       ['Toyota', 'White', 4.0, 112968.0],\n",
       "       ['Nissan', 'White', 4.0, 192747.0],\n",
       "       ['Honda', 'missing', 4.0, 118609.0],\n",
       "       ['Toyota', 'Blue', 4.0, 63975.0],\n",
       "       ['Honda', 'White', 4.0, 56523.0],\n",
       "       ['Honda', 'Green', 4.0, 130319.03314917127],\n",
       "       ['Honda', 'White', 4.0, 214405.0],\n",
       "       ['Toyota', 'Green', 4.0, 221725.0],\n",
       "       ['Honda', 'Blue', 4.0, 196835.0],\n",
       "       ['Honda', 'Red', 4.0, 47933.0],\n",
       "       ['Honda', 'White', 4.0, 219635.0],\n",
       "       ['Honda', 'White', 4.0, 130319.03314917127],\n",
       "       ['Nissan', 'Blue', 4.0, 189182.0],\n",
       "       ['Toyota', 'Blue', 4.0, 213893.0],\n",
       "       ['Toyota', 'Black', 4.0, 35820.0],\n",
       "       ['BMW', 'Red', 5.0, 131587.0],\n",
       "       ['Honda', 'White', 4.0, 178134.0],\n",
       "       ['Honda', 'missing', 4.0, 130319.03314917127],\n",
       "       ['Honda', 'Red', 4.0, 98523.0],\n",
       "       ['BMW', 'White', 5.0, 23996.0],\n",
       "       ['Toyota', 'White', 4.0, 239760.0],\n",
       "       ['Toyota', 'White', 4.0, 183368.0],\n",
       "       ['Toyota', 'White', 4.0, 134862.0],\n",
       "       ['Honda', 'Green', 4.0, 81764.0],\n",
       "       ['Toyota', 'Green', 4.0, 151291.0],\n",
       "       ['BMW', 'Blue', 3.0, 130817.0],\n",
       "       ['Honda', 'Green', 4.0, 208651.0],\n",
       "       ['Nissan', 'missing', 4.0, 206073.0],\n",
       "       ['Toyota', 'White', 4.0, 164093.0],\n",
       "       ['Honda', 'Blue', 4.0, 130319.03314917127],\n",
       "       ['Honda', 'White', 4.0, 136340.0],\n",
       "       ['Honda', 'Blue', 4.0, 217068.0],\n",
       "       ['Toyota', 'Red', 4.0, 148518.0],\n",
       "       ['Honda', 'White', 4.0, 29514.0],\n",
       "       ['Toyota', 'White', 4.0, 72118.0],\n",
       "       ['BMW', 'Red', 5.0, 208124.0],\n",
       "       ['Honda', 'White', 4.0, 171260.0],\n",
       "       ['BMW', 'Black', 5.0, 204746.0],\n",
       "       ['missing', 'missing', 4.0, 61876.0],\n",
       "       ['Honda', 'White', 4.0, 28791.0],\n",
       "       ['Honda', 'Black', 4.0, 61120.0],\n",
       "       ['Toyota', 'Black', 4.0, 121160.0],\n",
       "       ['Toyota', 'Blue', 4.0, 223390.0],\n",
       "       ['missing', 'White', 3.0, 133069.0],\n",
       "       ['Toyota', 'White', 4.0, 46848.0],\n",
       "       ['Toyota', 'Red', 4.0, 86284.0],\n",
       "       ['Toyota', 'White', 4.0, 231683.0],\n",
       "       ['Toyota', 'Black', 4.0, 71463.0],\n",
       "       ['BMW', 'Black', 5.0, 181572.0],\n",
       "       ['Toyota', 'White', 4.0, 221050.0],\n",
       "       ['Honda', 'White', 4.0, 192655.0],\n",
       "       ['Toyota', 'Blue', 4.0, 200597.0],\n",
       "       ['Toyota', 'Green', 4.0, 180760.0],\n",
       "       ['BMW', 'White', 5.0, 102773.0],\n",
       "       ['Honda', 'White', 4.0, 25729.0],\n",
       "       ['Honda', 'White', 4.0, 237209.0],\n",
       "       ['missing', 'Blue', 4.0, 23545.0],\n",
       "       ['BMW', 'Blue', 5.0, 31277.0],\n",
       "       ['BMW', 'White', 5.0, 26531.0],\n",
       "       ['Honda', 'White', 4.0, 82518.0],\n",
       "       ['Honda', 'White', 4.0, 152212.0],\n",
       "       ['Toyota', 'Red', 4.0, 133195.0],\n",
       "       ['Toyota', 'Blue', 4.0, 232912.0],\n",
       "       ['Toyota', 'White', 4.0, 124205.0],\n",
       "       ['Honda', 'missing', 4.0, 144093.0],\n",
       "       ['Toyota', 'Black', 4.0, 72287.0],\n",
       "       ['Honda', 'Blue', 4.0, 78153.0],\n",
       "       ['Toyota', 'Blue', 4.0, 89641.0],\n",
       "       ['Honda', 'missing', 4.0, 213793.0],\n",
       "       ['Nissan', 'Green', 3.0, 76610.0],\n",
       "       ['Toyota', 'White', 4.0, 81656.0],\n",
       "       ['Nissan', 'White', 3.0, 130319.03314917127],\n",
       "       ['Toyota', 'Blue', 4.0, 238425.0],\n",
       "       ['missing', 'Black', 4.0, 224479.0],\n",
       "       ['BMW', 'Red', 5.0, 156064.0],\n",
       "       ['Honda', 'Black', 4.0, 27788.0],\n",
       "       ['Honda', 'White', 4.0, 130319.03314917127],\n",
       "       ['Toyota', 'Red', 4.0, 49807.0],\n",
       "       ['Honda', 'White', 4.0, 113704.0],\n",
       "       ['Toyota', 'White', 4.0, 149989.0],\n",
       "       ['BMW', 'White', 5.0, 178796.0],\n",
       "       ['Honda', 'White', 4.0, 21393.0],\n",
       "       ['Honda', 'Black', 4.0, 143649.0],\n",
       "       ['Honda', 'White', 4.0, 34822.0],\n",
       "       ['Honda', 'White', 4.0, 136279.0],\n",
       "       ['BMW', 'Blue', 5.0, 212644.0],\n",
       "       ['Toyota', 'White', 4.0, 223727.0],\n",
       "       ['Nissan', 'White', 4.0, 24420.0],\n",
       "       ['Honda', 'White', 4.0, 161712.0],\n",
       "       ['Toyota', 'Blue', 4.0, 165301.0],\n",
       "       ['Honda', 'Black', 4.0, 119033.0],\n",
       "       ['Toyota', 'Black', 4.0, 86333.0],\n",
       "       ['Toyota', 'White', 4.0, 69222.0],\n",
       "       ['BMW', 'White', 5.0, 69066.0],\n",
       "       ['Honda', 'White', 4.0, 178351.0],\n",
       "       ['Nissan', 'White', 3.0, 213449.0],\n",
       "       ['Nissan', 'Red', 3.0, 196130.0],\n",
       "       ['BMW', 'White', 5.0, 85739.0],\n",
       "       ['BMW', 'Blue', 3.0, 163322.0],\n",
       "       ['Nissan', 'White', 4.0, 195056.0],\n",
       "       ['Honda', 'Green', 4.0, 165101.0],\n",
       "       ['Nissan', 'Green', 3.0, 153554.0],\n",
       "       ['Toyota', 'White', 4.0, 108569.0],\n",
       "       ['BMW', 'Black', 3.0, 201190.0],\n",
       "       ['Honda', 'White', 4.0, 61163.0]], dtype=object)"
      ]
     },
     "execution_count": 51,
     "metadata": {},
     "output_type": "execute_result"
    }
   ],
   "source": [
    "# Check filled X_test\n",
    "filled_X_test"
   ]
  },
  {
   "cell_type": "code",
   "execution_count": 52,
   "id": "f31d72f3",
   "metadata": {},
   "outputs": [],
   "source": [
    "# Get our transformed data array's back into DataFrame's\n",
    "train_df = pd.DataFrame(filled_X_train, \n",
    "                                      columns=[\"Make\", \"Colour\", \"Doors\", \"Odometer (KM)\"])\n",
    "\n",
    "test_df = pd.DataFrame(filled_X_test, \n",
    "                                     columns=[\"Make\", \"Colour\", \"Doors\", \"Odometer (KM)\"])"
   ]
  },
  {
   "cell_type": "code",
   "execution_count": 53,
   "id": "d92f02e6",
   "metadata": {},
   "outputs": [
    {
     "data": {
      "text/html": [
       "<div>\n",
       "<style scoped>\n",
       "    .dataframe tbody tr th:only-of-type {\n",
       "        vertical-align: middle;\n",
       "    }\n",
       "\n",
       "    .dataframe tbody tr th {\n",
       "        vertical-align: top;\n",
       "    }\n",
       "\n",
       "    .dataframe thead th {\n",
       "        text-align: right;\n",
       "    }\n",
       "</style>\n",
       "<table border=\"1\" class=\"dataframe\">\n",
       "  <thead>\n",
       "    <tr style=\"text-align: right;\">\n",
       "      <th></th>\n",
       "      <th>Make</th>\n",
       "      <th>Colour</th>\n",
       "      <th>Doors</th>\n",
       "      <th>Odometer (KM)</th>\n",
       "    </tr>\n",
       "  </thead>\n",
       "  <tbody>\n",
       "    <tr>\n",
       "      <th>0</th>\n",
       "      <td>Honda</td>\n",
       "      <td>White</td>\n",
       "      <td>4.0</td>\n",
       "      <td>71934.0</td>\n",
       "    </tr>\n",
       "    <tr>\n",
       "      <th>1</th>\n",
       "      <td>Toyota</td>\n",
       "      <td>Red</td>\n",
       "      <td>4.0</td>\n",
       "      <td>162665.0</td>\n",
       "    </tr>\n",
       "    <tr>\n",
       "      <th>2</th>\n",
       "      <td>Honda</td>\n",
       "      <td>White</td>\n",
       "      <td>4.0</td>\n",
       "      <td>42844.0</td>\n",
       "    </tr>\n",
       "    <tr>\n",
       "      <th>3</th>\n",
       "      <td>Honda</td>\n",
       "      <td>White</td>\n",
       "      <td>4.0</td>\n",
       "      <td>195829.0</td>\n",
       "    </tr>\n",
       "    <tr>\n",
       "      <th>4</th>\n",
       "      <td>Honda</td>\n",
       "      <td>Blue</td>\n",
       "      <td>4.0</td>\n",
       "      <td>219217.0</td>\n",
       "    </tr>\n",
       "    <tr>\n",
       "      <th>...</th>\n",
       "      <td>...</td>\n",
       "      <td>...</td>\n",
       "      <td>...</td>\n",
       "      <td>...</td>\n",
       "    </tr>\n",
       "    <tr>\n",
       "      <th>755</th>\n",
       "      <td>Toyota</td>\n",
       "      <td>missing</td>\n",
       "      <td>4.0</td>\n",
       "      <td>218803.0</td>\n",
       "    </tr>\n",
       "    <tr>\n",
       "      <th>756</th>\n",
       "      <td>BMW</td>\n",
       "      <td>Blue</td>\n",
       "      <td>5.0</td>\n",
       "      <td>245427.0</td>\n",
       "    </tr>\n",
       "    <tr>\n",
       "      <th>757</th>\n",
       "      <td>Toyota</td>\n",
       "      <td>White</td>\n",
       "      <td>4.0</td>\n",
       "      <td>196225.0</td>\n",
       "    </tr>\n",
       "    <tr>\n",
       "      <th>758</th>\n",
       "      <td>Honda</td>\n",
       "      <td>Blue</td>\n",
       "      <td>4.0</td>\n",
       "      <td>133117.0</td>\n",
       "    </tr>\n",
       "    <tr>\n",
       "      <th>759</th>\n",
       "      <td>Honda</td>\n",
       "      <td>missing</td>\n",
       "      <td>4.0</td>\n",
       "      <td>150582.0</td>\n",
       "    </tr>\n",
       "  </tbody>\n",
       "</table>\n",
       "<p>760 rows × 4 columns</p>\n",
       "</div>"
      ],
      "text/plain": [
       "       Make   Colour Doors Odometer (KM)\n",
       "0     Honda    White   4.0       71934.0\n",
       "1    Toyota      Red   4.0      162665.0\n",
       "2     Honda    White   4.0       42844.0\n",
       "3     Honda    White   4.0      195829.0\n",
       "4     Honda     Blue   4.0      219217.0\n",
       "..      ...      ...   ...           ...\n",
       "755  Toyota  missing   4.0      218803.0\n",
       "756     BMW     Blue   5.0      245427.0\n",
       "757  Toyota    White   4.0      196225.0\n",
       "758   Honda     Blue   4.0      133117.0\n",
       "759   Honda  missing   4.0      150582.0\n",
       "\n",
       "[760 rows x 4 columns]"
      ]
     },
     "execution_count": 53,
     "metadata": {},
     "output_type": "execute_result"
    }
   ],
   "source": [
    "train_df"
   ]
  },
  {
   "cell_type": "code",
   "execution_count": 54,
   "id": "a012a2da",
   "metadata": {},
   "outputs": [
    {
     "data": {
      "text/plain": [
       "Make             0\n",
       "Colour           0\n",
       "Doors            0\n",
       "Odometer (KM)    0\n",
       "dtype: int64"
      ]
     },
     "execution_count": 54,
     "metadata": {},
     "output_type": "execute_result"
    }
   ],
   "source": [
    "train_df.isnull().sum()"
   ]
  },
  {
   "cell_type": "code",
   "execution_count": 55,
   "id": "c4544f90",
   "metadata": {},
   "outputs": [
    {
     "data": {
      "text/plain": [
       "Make             0\n",
       "Colour           0\n",
       "Doors            0\n",
       "Odometer (KM)    0\n",
       "dtype: int64"
      ]
     },
     "execution_count": 55,
     "metadata": {},
     "output_type": "execute_result"
    }
   ],
   "source": [
    "test_df.isnull().sum()"
   ]
  },
  {
   "cell_type": "code",
   "execution_count": 56,
   "id": "36111399",
   "metadata": {},
   "outputs": [],
   "source": [
    "# No need to fill y_train and y_test as they don't have any missing values"
   ]
  },
  {
   "cell_type": "markdown",
   "id": "ff6f87e5",
   "metadata": {},
   "source": [
    "#### Now that there are no missing values\n",
    "\n",
    "#### Convert the data into numbers (numerical data) by One Hot Encoding"
   ]
  }
 ],
 "metadata": {
  "kernelspec": {
   "display_name": "Python 3",
   "language": "python",
   "name": "python3"
  },
  "language_info": {
   "codemirror_mode": {
    "name": "ipython",
    "version": 3
   },
   "file_extension": ".py",
   "mimetype": "text/x-python",
   "name": "python",
   "nbconvert_exporter": "python",
   "pygments_lexer": "ipython3",
   "version": "3.8.8"
  }
 },
 "nbformat": 4,
 "nbformat_minor": 5
}
